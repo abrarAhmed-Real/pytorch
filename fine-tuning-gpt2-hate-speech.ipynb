{
 "cells": [
  {
   "cell_type": "code",
   "execution_count": 1,
   "id": "ae20828a",
   "metadata": {
    "execution": {
     "iopub.execute_input": "2024-07-29T17:56:25.459851Z",
     "iopub.status.busy": "2024-07-29T17:56:25.459550Z",
     "iopub.status.idle": "2024-07-29T17:56:44.195396Z",
     "shell.execute_reply": "2024-07-29T17:56:44.194614Z"
    },
    "papermill": {
     "duration": 18.750792,
     "end_time": "2024-07-29T17:56:44.197671",
     "exception": false,
     "start_time": "2024-07-29T17:56:25.446879",
     "status": "completed"
    },
    "tags": []
   },
   "outputs": [
    {
     "name": "stderr",
     "output_type": "stream",
     "text": [
      "2024-07-29 17:56:33.644664: E external/local_xla/xla/stream_executor/cuda/cuda_dnn.cc:9261] Unable to register cuDNN factory: Attempting to register factory for plugin cuDNN when one has already been registered\n",
      "2024-07-29 17:56:33.644771: E external/local_xla/xla/stream_executor/cuda/cuda_fft.cc:607] Unable to register cuFFT factory: Attempting to register factory for plugin cuFFT when one has already been registered\n",
      "2024-07-29 17:56:33.779907: E external/local_xla/xla/stream_executor/cuda/cuda_blas.cc:1515] Unable to register cuBLAS factory: Attempting to register factory for plugin cuBLAS when one has already been registered\n"
     ]
    }
   ],
   "source": [
    "import pandas as pd\n",
    "import re\n",
    "from datasets import Dataset\n",
    "from torch.utils.data import DataLoader\n",
    "from transformers import Trainer, TrainingArguments\n",
    "import os\n",
    "from sklearn.metrics import accuracy_score, precision_score, recall_score, f1_score\n",
    "import pandas as pd"
   ]
  },
  {
   "cell_type": "code",
   "execution_count": 2,
   "id": "19edae6e",
   "metadata": {
    "execution": {
     "iopub.execute_input": "2024-07-29T17:56:44.222155Z",
     "iopub.status.busy": "2024-07-29T17:56:44.221558Z",
     "iopub.status.idle": "2024-07-29T17:56:58.081832Z",
     "shell.execute_reply": "2024-07-29T17:56:58.080856Z"
    },
    "papermill": {
     "duration": 13.875014,
     "end_time": "2024-07-29T17:56:58.084308",
     "exception": false,
     "start_time": "2024-07-29T17:56:44.209294",
     "status": "completed"
    },
    "tags": []
   },
   "outputs": [
    {
     "name": "stderr",
     "output_type": "stream",
     "text": [
      "/opt/conda/lib/python3.10/pty.py:89: RuntimeWarning: os.fork() was called. os.fork() is incompatible with multithreaded code, and JAX is multithreaded, so this will likely lead to a deadlock.\n",
      "  pid, fd = os.forkpty()\n"
     ]
    },
    {
     "name": "stdout",
     "output_type": "stream",
     "text": [
      "Collecting peft\r\n",
      "  Downloading peft-0.12.0-py3-none-any.whl.metadata (13 kB)\r\n",
      "Requirement already satisfied: numpy>=1.17 in /opt/conda/lib/python3.10/site-packages (from peft) (1.26.4)\r\n",
      "Requirement already satisfied: packaging>=20.0 in /opt/conda/lib/python3.10/site-packages (from peft) (21.3)\r\n",
      "Requirement already satisfied: psutil in /opt/conda/lib/python3.10/site-packages (from peft) (5.9.3)\r\n",
      "Requirement already satisfied: pyyaml in /opt/conda/lib/python3.10/site-packages (from peft) (6.0.1)\r\n",
      "Requirement already satisfied: torch>=1.13.0 in /opt/conda/lib/python3.10/site-packages (from peft) (2.1.2)\r\n",
      "Requirement already satisfied: transformers in /opt/conda/lib/python3.10/site-packages (from peft) (4.42.3)\r\n",
      "Requirement already satisfied: tqdm in /opt/conda/lib/python3.10/site-packages (from peft) (4.66.4)\r\n",
      "Requirement already satisfied: accelerate>=0.21.0 in /opt/conda/lib/python3.10/site-packages (from peft) (0.32.1)\r\n",
      "Requirement already satisfied: safetensors in /opt/conda/lib/python3.10/site-packages (from peft) (0.4.3)\r\n",
      "Requirement already satisfied: huggingface-hub>=0.17.0 in /opt/conda/lib/python3.10/site-packages (from peft) (0.23.4)\r\n",
      "Requirement already satisfied: filelock in /opt/conda/lib/python3.10/site-packages (from huggingface-hub>=0.17.0->peft) (3.13.1)\r\n",
      "Requirement already satisfied: fsspec>=2023.5.0 in /opt/conda/lib/python3.10/site-packages (from huggingface-hub>=0.17.0->peft) (2024.5.0)\r\n",
      "Requirement already satisfied: requests in /opt/conda/lib/python3.10/site-packages (from huggingface-hub>=0.17.0->peft) (2.32.3)\r\n",
      "Requirement already satisfied: typing-extensions>=3.7.4.3 in /opt/conda/lib/python3.10/site-packages (from huggingface-hub>=0.17.0->peft) (4.9.0)\r\n",
      "Requirement already satisfied: pyparsing!=3.0.5,>=2.0.2 in /opt/conda/lib/python3.10/site-packages (from packaging>=20.0->peft) (3.1.1)\r\n",
      "Requirement already satisfied: sympy in /opt/conda/lib/python3.10/site-packages (from torch>=1.13.0->peft) (1.13.0)\r\n",
      "Requirement already satisfied: networkx in /opt/conda/lib/python3.10/site-packages (from torch>=1.13.0->peft) (3.2.1)\r\n",
      "Requirement already satisfied: jinja2 in /opt/conda/lib/python3.10/site-packages (from torch>=1.13.0->peft) (3.1.2)\r\n",
      "Requirement already satisfied: regex!=2019.12.17 in /opt/conda/lib/python3.10/site-packages (from transformers->peft) (2023.12.25)\r\n",
      "Requirement already satisfied: tokenizers<0.20,>=0.19 in /opt/conda/lib/python3.10/site-packages (from transformers->peft) (0.19.1)\r\n",
      "Requirement already satisfied: MarkupSafe>=2.0 in /opt/conda/lib/python3.10/site-packages (from jinja2->torch>=1.13.0->peft) (2.1.3)\r\n",
      "Requirement already satisfied: charset-normalizer<4,>=2 in /opt/conda/lib/python3.10/site-packages (from requests->huggingface-hub>=0.17.0->peft) (3.3.2)\r\n",
      "Requirement already satisfied: idna<4,>=2.5 in /opt/conda/lib/python3.10/site-packages (from requests->huggingface-hub>=0.17.0->peft) (3.6)\r\n",
      "Requirement already satisfied: urllib3<3,>=1.21.1 in /opt/conda/lib/python3.10/site-packages (from requests->huggingface-hub>=0.17.0->peft) (1.26.18)\r\n",
      "Requirement already satisfied: certifi>=2017.4.17 in /opt/conda/lib/python3.10/site-packages (from requests->huggingface-hub>=0.17.0->peft) (2024.7.4)\r\n",
      "Requirement already satisfied: mpmath<1.4,>=1.1.0 in /opt/conda/lib/python3.10/site-packages (from sympy->torch>=1.13.0->peft) (1.3.0)\r\n",
      "Downloading peft-0.12.0-py3-none-any.whl (296 kB)\r\n",
      "\u001b[2K   \u001b[90m━━━━━━━━━━━━━━━━━━━━━━━━━━━━━━━━━━━━━━━━\u001b[0m \u001b[32m296.4/296.4 kB\u001b[0m \u001b[31m5.8 MB/s\u001b[0m eta \u001b[36m0:00:00\u001b[0m\r\n",
      "\u001b[?25hInstalling collected packages: peft\r\n",
      "Successfully installed peft-0.12.0\r\n"
     ]
    }
   ],
   "source": [
    "!pip install peft"
   ]
  },
  {
   "cell_type": "code",
   "execution_count": 3,
   "id": "7db0f55a",
   "metadata": {
    "execution": {
     "iopub.execute_input": "2024-07-29T17:56:58.111139Z",
     "iopub.status.busy": "2024-07-29T17:56:58.110839Z",
     "iopub.status.idle": "2024-07-29T17:56:58.230485Z",
     "shell.execute_reply": "2024-07-29T17:56:58.229620Z"
    },
    "papermill": {
     "duration": 0.135169,
     "end_time": "2024-07-29T17:56:58.232514",
     "exception": false,
     "start_time": "2024-07-29T17:56:58.097345",
     "status": "completed"
    },
    "tags": []
   },
   "outputs": [
    {
     "data": {
      "text/html": [
       "<div>\n",
       "<style scoped>\n",
       "    .dataframe tbody tr th:only-of-type {\n",
       "        vertical-align: middle;\n",
       "    }\n",
       "\n",
       "    .dataframe tbody tr th {\n",
       "        vertical-align: top;\n",
       "    }\n",
       "\n",
       "    .dataframe thead th {\n",
       "        text-align: right;\n",
       "    }\n",
       "</style>\n",
       "<table border=\"1\" class=\"dataframe\">\n",
       "  <thead>\n",
       "    <tr style=\"text-align: right;\">\n",
       "      <th></th>\n",
       "      <th>Unnamed: 0</th>\n",
       "      <th>count</th>\n",
       "      <th>hate_speech</th>\n",
       "      <th>offensive_language</th>\n",
       "      <th>neither</th>\n",
       "      <th>class</th>\n",
       "      <th>tweet</th>\n",
       "    </tr>\n",
       "  </thead>\n",
       "  <tbody>\n",
       "    <tr>\n",
       "      <th>0</th>\n",
       "      <td>0</td>\n",
       "      <td>3</td>\n",
       "      <td>0</td>\n",
       "      <td>0</td>\n",
       "      <td>3</td>\n",
       "      <td>2</td>\n",
       "      <td>!!! RT @mayasolovely: As a woman you shouldn't...</td>\n",
       "    </tr>\n",
       "    <tr>\n",
       "      <th>1</th>\n",
       "      <td>1</td>\n",
       "      <td>3</td>\n",
       "      <td>0</td>\n",
       "      <td>3</td>\n",
       "      <td>0</td>\n",
       "      <td>1</td>\n",
       "      <td>!!!!! RT @mleew17: boy dats cold...tyga dwn ba...</td>\n",
       "    </tr>\n",
       "    <tr>\n",
       "      <th>2</th>\n",
       "      <td>2</td>\n",
       "      <td>3</td>\n",
       "      <td>0</td>\n",
       "      <td>3</td>\n",
       "      <td>0</td>\n",
       "      <td>1</td>\n",
       "      <td>!!!!!!! RT @UrKindOfBrand Dawg!!!! RT @80sbaby...</td>\n",
       "    </tr>\n",
       "    <tr>\n",
       "      <th>3</th>\n",
       "      <td>3</td>\n",
       "      <td>3</td>\n",
       "      <td>0</td>\n",
       "      <td>2</td>\n",
       "      <td>1</td>\n",
       "      <td>1</td>\n",
       "      <td>!!!!!!!!! RT @C_G_Anderson: @viva_based she lo...</td>\n",
       "    </tr>\n",
       "    <tr>\n",
       "      <th>4</th>\n",
       "      <td>4</td>\n",
       "      <td>6</td>\n",
       "      <td>0</td>\n",
       "      <td>6</td>\n",
       "      <td>0</td>\n",
       "      <td>1</td>\n",
       "      <td>!!!!!!!!!!!!! RT @ShenikaRoberts: The shit you...</td>\n",
       "    </tr>\n",
       "    <tr>\n",
       "      <th>...</th>\n",
       "      <td>...</td>\n",
       "      <td>...</td>\n",
       "      <td>...</td>\n",
       "      <td>...</td>\n",
       "      <td>...</td>\n",
       "      <td>...</td>\n",
       "      <td>...</td>\n",
       "    </tr>\n",
       "    <tr>\n",
       "      <th>24778</th>\n",
       "      <td>25291</td>\n",
       "      <td>3</td>\n",
       "      <td>0</td>\n",
       "      <td>2</td>\n",
       "      <td>1</td>\n",
       "      <td>1</td>\n",
       "      <td>you's a muthaf***in lie &amp;#8220;@LifeAsKing: @2...</td>\n",
       "    </tr>\n",
       "    <tr>\n",
       "      <th>24779</th>\n",
       "      <td>25292</td>\n",
       "      <td>3</td>\n",
       "      <td>0</td>\n",
       "      <td>1</td>\n",
       "      <td>2</td>\n",
       "      <td>2</td>\n",
       "      <td>you've gone and broke the wrong heart baby, an...</td>\n",
       "    </tr>\n",
       "    <tr>\n",
       "      <th>24780</th>\n",
       "      <td>25294</td>\n",
       "      <td>3</td>\n",
       "      <td>0</td>\n",
       "      <td>3</td>\n",
       "      <td>0</td>\n",
       "      <td>1</td>\n",
       "      <td>young buck wanna eat!!.. dat nigguh like I ain...</td>\n",
       "    </tr>\n",
       "    <tr>\n",
       "      <th>24781</th>\n",
       "      <td>25295</td>\n",
       "      <td>6</td>\n",
       "      <td>0</td>\n",
       "      <td>6</td>\n",
       "      <td>0</td>\n",
       "      <td>1</td>\n",
       "      <td>youu got wild bitches tellin you lies</td>\n",
       "    </tr>\n",
       "    <tr>\n",
       "      <th>24782</th>\n",
       "      <td>25296</td>\n",
       "      <td>3</td>\n",
       "      <td>0</td>\n",
       "      <td>0</td>\n",
       "      <td>3</td>\n",
       "      <td>2</td>\n",
       "      <td>~~Ruffled | Ntac Eileen Dahlia - Beautiful col...</td>\n",
       "    </tr>\n",
       "  </tbody>\n",
       "</table>\n",
       "<p>24783 rows × 7 columns</p>\n",
       "</div>"
      ],
      "text/plain": [
       "       Unnamed: 0  count  hate_speech  offensive_language  neither  class  \\\n",
       "0               0      3            0                   0        3      2   \n",
       "1               1      3            0                   3        0      1   \n",
       "2               2      3            0                   3        0      1   \n",
       "3               3      3            0                   2        1      1   \n",
       "4               4      6            0                   6        0      1   \n",
       "...           ...    ...          ...                 ...      ...    ...   \n",
       "24778       25291      3            0                   2        1      1   \n",
       "24779       25292      3            0                   1        2      2   \n",
       "24780       25294      3            0                   3        0      1   \n",
       "24781       25295      6            0                   6        0      1   \n",
       "24782       25296      3            0                   0        3      2   \n",
       "\n",
       "                                                   tweet  \n",
       "0      !!! RT @mayasolovely: As a woman you shouldn't...  \n",
       "1      !!!!! RT @mleew17: boy dats cold...tyga dwn ba...  \n",
       "2      !!!!!!! RT @UrKindOfBrand Dawg!!!! RT @80sbaby...  \n",
       "3      !!!!!!!!! RT @C_G_Anderson: @viva_based she lo...  \n",
       "4      !!!!!!!!!!!!! RT @ShenikaRoberts: The shit you...  \n",
       "...                                                  ...  \n",
       "24778  you's a muthaf***in lie &#8220;@LifeAsKing: @2...  \n",
       "24779  you've gone and broke the wrong heart baby, an...  \n",
       "24780  young buck wanna eat!!.. dat nigguh like I ain...  \n",
       "24781              youu got wild bitches tellin you lies  \n",
       "24782  ~~Ruffled | Ntac Eileen Dahlia - Beautiful col...  \n",
       "\n",
       "[24783 rows x 7 columns]"
      ]
     },
     "execution_count": 3,
     "metadata": {},
     "output_type": "execute_result"
    }
   ],
   "source": [
    "data=pd.read_csv('/kaggle/input/mydataset/labeled_data.csv')\n",
    "data"
   ]
  },
  {
   "cell_type": "code",
   "execution_count": 4,
   "id": "c82956ba",
   "metadata": {
    "execution": {
     "iopub.execute_input": "2024-07-29T17:56:58.259976Z",
     "iopub.status.busy": "2024-07-29T17:56:58.259685Z",
     "iopub.status.idle": "2024-07-29T17:56:58.263374Z",
     "shell.execute_reply": "2024-07-29T17:56:58.262566Z"
    },
    "papermill": {
     "duration": 0.019876,
     "end_time": "2024-07-29T17:56:58.265236",
     "exception": false,
     "start_time": "2024-07-29T17:56:58.245360",
     "status": "completed"
    },
    "tags": []
   },
   "outputs": [],
   "source": [
    "# data=data.iloc[:100]"
   ]
  },
  {
   "cell_type": "markdown",
   "id": "bd468f67",
   "metadata": {
    "papermill": {
     "duration": 0.012429,
     "end_time": "2024-07-29T17:56:58.290321",
     "exception": false,
     "start_time": "2024-07-29T17:56:58.277892",
     "status": "completed"
    },
    "tags": []
   },
   "source": [
    "# Cleaning the Text"
   ]
  },
  {
   "cell_type": "code",
   "execution_count": 5,
   "id": "3e19ccb2",
   "metadata": {
    "execution": {
     "iopub.execute_input": "2024-07-29T17:56:58.316728Z",
     "iopub.status.busy": "2024-07-29T17:56:58.316202Z",
     "iopub.status.idle": "2024-07-29T17:56:58.321685Z",
     "shell.execute_reply": "2024-07-29T17:56:58.320840Z"
    },
    "papermill": {
     "duration": 0.020737,
     "end_time": "2024-07-29T17:56:58.323583",
     "exception": false,
     "start_time": "2024-07-29T17:56:58.302846",
     "status": "completed"
    },
    "tags": []
   },
   "outputs": [],
   "source": [
    "def clean_text(text):\n",
    "    text = re.sub(r'http\\S+|www\\S+|https\\S+', '', text, flags=re.MULTILINE)  # Remove URLs\n",
    "    text = re.sub(r'@\\w+', '', text)  # Remove mentions\n",
    "    text = re.sub(r'#\\w+', '', text)  # Remove hashtags\n",
    "    text = re.sub(r'[^\\w\\s]', '', text)  # Remove punctuation\n",
    "    text = text.lower()  # Convert to lowercase\n",
    "    return text\n",
    "\n",
    "   "
   ]
  },
  {
   "cell_type": "code",
   "execution_count": 6,
   "id": "8cda49e8",
   "metadata": {
    "execution": {
     "iopub.execute_input": "2024-07-29T17:56:58.350053Z",
     "iopub.status.busy": "2024-07-29T17:56:58.349754Z",
     "iopub.status.idle": "2024-07-29T17:56:58.658116Z",
     "shell.execute_reply": "2024-07-29T17:56:58.657352Z"
    },
    "papermill": {
     "duration": 0.324351,
     "end_time": "2024-07-29T17:56:58.660554",
     "exception": false,
     "start_time": "2024-07-29T17:56:58.336203",
     "status": "completed"
    },
    "tags": []
   },
   "outputs": [],
   "source": [
    "data['clean_text']=data['tweet'].apply(lambda x:clean_text(x))"
   ]
  },
  {
   "cell_type": "code",
   "execution_count": 7,
   "id": "daeef475",
   "metadata": {
    "execution": {
     "iopub.execute_input": "2024-07-29T17:56:58.688788Z",
     "iopub.status.busy": "2024-07-29T17:56:58.688099Z",
     "iopub.status.idle": "2024-07-29T17:56:58.696254Z",
     "shell.execute_reply": "2024-07-29T17:56:58.695403Z"
    },
    "papermill": {
     "duration": 0.024079,
     "end_time": "2024-07-29T17:56:58.698232",
     "exception": false,
     "start_time": "2024-07-29T17:56:58.674153",
     "status": "completed"
    },
    "tags": []
   },
   "outputs": [],
   "source": [
    "data=data[['clean_text','class']]"
   ]
  },
  {
   "cell_type": "code",
   "execution_count": 8,
   "id": "ef252e24",
   "metadata": {
    "execution": {
     "iopub.execute_input": "2024-07-29T17:56:58.724508Z",
     "iopub.status.busy": "2024-07-29T17:56:58.724239Z",
     "iopub.status.idle": "2024-07-29T17:56:58.734194Z",
     "shell.execute_reply": "2024-07-29T17:56:58.733373Z"
    },
    "papermill": {
     "duration": 0.025353,
     "end_time": "2024-07-29T17:56:58.736198",
     "exception": false,
     "start_time": "2024-07-29T17:56:58.710845",
     "status": "completed"
    },
    "tags": []
   },
   "outputs": [
    {
     "data": {
      "text/html": [
       "<div>\n",
       "<style scoped>\n",
       "    .dataframe tbody tr th:only-of-type {\n",
       "        vertical-align: middle;\n",
       "    }\n",
       "\n",
       "    .dataframe tbody tr th {\n",
       "        vertical-align: top;\n",
       "    }\n",
       "\n",
       "    .dataframe thead th {\n",
       "        text-align: right;\n",
       "    }\n",
       "</style>\n",
       "<table border=\"1\" class=\"dataframe\">\n",
       "  <thead>\n",
       "    <tr style=\"text-align: right;\">\n",
       "      <th></th>\n",
       "      <th>clean_text</th>\n",
       "      <th>class</th>\n",
       "    </tr>\n",
       "  </thead>\n",
       "  <tbody>\n",
       "    <tr>\n",
       "      <th>0</th>\n",
       "      <td>rt  as a woman you shouldnt complain about cl...</td>\n",
       "      <td>2</td>\n",
       "    </tr>\n",
       "    <tr>\n",
       "      <th>1</th>\n",
       "      <td>rt  boy dats coldtyga dwn bad for cuffin dat ...</td>\n",
       "      <td>1</td>\n",
       "    </tr>\n",
       "    <tr>\n",
       "      <th>2</th>\n",
       "      <td>rt  dawg rt  you ever fuck a bitch and she st...</td>\n",
       "      <td>1</td>\n",
       "    </tr>\n",
       "    <tr>\n",
       "      <th>3</th>\n",
       "      <td>rt   she look like a tranny</td>\n",
       "      <td>1</td>\n",
       "    </tr>\n",
       "    <tr>\n",
       "      <th>4</th>\n",
       "      <td>rt  the shit you hear about me might be true ...</td>\n",
       "      <td>1</td>\n",
       "    </tr>\n",
       "    <tr>\n",
       "      <th>...</th>\n",
       "      <td>...</td>\n",
       "      <td>...</td>\n",
       "    </tr>\n",
       "    <tr>\n",
       "      <th>24778</th>\n",
       "      <td>yous a muthafin lie    right his tl is trash  ...</td>\n",
       "      <td>1</td>\n",
       "    </tr>\n",
       "    <tr>\n",
       "      <th>24779</th>\n",
       "      <td>youve gone and broke the wrong heart baby and ...</td>\n",
       "      <td>2</td>\n",
       "    </tr>\n",
       "    <tr>\n",
       "      <th>24780</th>\n",
       "      <td>young buck wanna eat dat nigguh like i aint fu...</td>\n",
       "      <td>1</td>\n",
       "    </tr>\n",
       "    <tr>\n",
       "      <th>24781</th>\n",
       "      <td>youu got wild bitches tellin you lies</td>\n",
       "      <td>1</td>\n",
       "    </tr>\n",
       "    <tr>\n",
       "      <th>24782</th>\n",
       "      <td>ruffled  ntac eileen dahlia  beautiful color c...</td>\n",
       "      <td>2</td>\n",
       "    </tr>\n",
       "  </tbody>\n",
       "</table>\n",
       "<p>24783 rows × 2 columns</p>\n",
       "</div>"
      ],
      "text/plain": [
       "                                              clean_text  class\n",
       "0       rt  as a woman you shouldnt complain about cl...      2\n",
       "1       rt  boy dats coldtyga dwn bad for cuffin dat ...      1\n",
       "2       rt  dawg rt  you ever fuck a bitch and she st...      1\n",
       "3                            rt   she look like a tranny      1\n",
       "4       rt  the shit you hear about me might be true ...      1\n",
       "...                                                  ...    ...\n",
       "24778  yous a muthafin lie    right his tl is trash  ...      1\n",
       "24779  youve gone and broke the wrong heart baby and ...      2\n",
       "24780  young buck wanna eat dat nigguh like i aint fu...      1\n",
       "24781              youu got wild bitches tellin you lies      1\n",
       "24782  ruffled  ntac eileen dahlia  beautiful color c...      2\n",
       "\n",
       "[24783 rows x 2 columns]"
      ]
     },
     "execution_count": 8,
     "metadata": {},
     "output_type": "execute_result"
    }
   ],
   "source": [
    "data"
   ]
  },
  {
   "cell_type": "code",
   "execution_count": 9,
   "id": "2edb8f90",
   "metadata": {
    "execution": {
     "iopub.execute_input": "2024-07-29T17:56:58.763882Z",
     "iopub.status.busy": "2024-07-29T17:56:58.763211Z",
     "iopub.status.idle": "2024-07-29T17:56:58.768193Z",
     "shell.execute_reply": "2024-07-29T17:56:58.767365Z"
    },
    "papermill": {
     "duration": 0.020733,
     "end_time": "2024-07-29T17:56:58.770159",
     "exception": false,
     "start_time": "2024-07-29T17:56:58.749426",
     "status": "completed"
    },
    "tags": []
   },
   "outputs": [],
   "source": [
    "data=data.rename(columns={'class':'labels'})"
   ]
  },
  {
   "cell_type": "markdown",
   "id": "988fc006",
   "metadata": {
    "papermill": {
     "duration": 0.012642,
     "end_time": "2024-07-29T17:56:58.795747",
     "exception": false,
     "start_time": "2024-07-29T17:56:58.783105",
     "status": "completed"
    },
    "tags": []
   },
   "source": []
  },
  {
   "cell_type": "code",
   "execution_count": 10,
   "id": "9b046656",
   "metadata": {
    "execution": {
     "iopub.execute_input": "2024-07-29T17:56:58.822990Z",
     "iopub.status.busy": "2024-07-29T17:56:58.822313Z",
     "iopub.status.idle": "2024-07-29T17:56:58.826278Z",
     "shell.execute_reply": "2024-07-29T17:56:58.825462Z"
    },
    "papermill": {
     "duration": 0.019511,
     "end_time": "2024-07-29T17:56:58.828040",
     "exception": false,
     "start_time": "2024-07-29T17:56:58.808529",
     "status": "completed"
    },
    "tags": []
   },
   "outputs": [],
   "source": [
    "import torch \n",
    "import torch.nn as nn"
   ]
  },
  {
   "cell_type": "code",
   "execution_count": null,
   "id": "a32330f3",
   "metadata": {
    "papermill": {
     "duration": 0.012637,
     "end_time": "2024-07-29T17:56:58.854447",
     "exception": false,
     "start_time": "2024-07-29T17:56:58.841810",
     "status": "completed"
    },
    "tags": []
   },
   "outputs": [],
   "source": []
  },
  {
   "cell_type": "code",
   "execution_count": 11,
   "id": "103a018e",
   "metadata": {
    "execution": {
     "iopub.execute_input": "2024-07-29T17:56:58.881553Z",
     "iopub.status.busy": "2024-07-29T17:56:58.880839Z",
     "iopub.status.idle": "2024-07-29T17:56:58.907788Z",
     "shell.execute_reply": "2024-07-29T17:56:58.906909Z"
    },
    "papermill": {
     "duration": 0.042574,
     "end_time": "2024-07-29T17:56:58.909761",
     "exception": false,
     "start_time": "2024-07-29T17:56:58.867187",
     "status": "completed"
    },
    "tags": []
   },
   "outputs": [],
   "source": [
    "import torch\n",
    "from torch import nn\n",
    "from transformers import GPT2ForSequenceClassification\n",
    "from transformers import GPT2Config\n",
    "\n",
    "class GPTModel(nn.Module):\n",
    "    def __init__(self, num_labels):\n",
    "        super(GPTModel, self).__init__()\n",
    "        configuration = GPT2Config()\n",
    "        self.gpt = GPT2ForSequenceClassification.from_pretrained('gpt2', num_labels=num_labels)\n",
    "        self.gpt.config.pad_token_id = self.gpt.config.eos_token_id\n",
    "        self.classifier = nn.Sequential(\n",
    "            nn.Linear(self.gpt.config.hidden_size, num_labels),\n",
    "            nn.ReLU()\n",
    "        )\n",
    "\n",
    "    def forward(self, input_ids, attention_mask):\n",
    "        outputs = self.gpt(input_ids=input_ids, attention_mask=attention_mask)\n",
    "        logits = outputs.logits\n",
    "        probabilities = torch.softmax(logits, dim=-1)\n",
    "        return probabilities\n",
    "\n",
    "\n",
    "\n",
    "\n",
    "# import torch\n",
    "# from torch import nn\n",
    "# from transformers import GPT2ForSequenceClassification, GPT2Tokenizer\n",
    "\n",
    "# class GPTModel(nn.Module):\n",
    "#     def __init__(self, num_labels):\n",
    "#         super(GPTModel, self).__init__()\n",
    "#         self.gpt = GPT2ForSequenceClassification.from_pretrained('gpt2', num_labels=num_labels)\n",
    "      \n",
    "\n",
    "#     def forward(self, input_ids, attention_mask):\n",
    "#         outputs = self.gpt(input_ids=input_ids, attention_mask=attention_mask)\n",
    "#         return outputs.logits\n",
    " \n",
    "\n",
    "\n",
    " \n"
   ]
  },
  {
   "cell_type": "code",
   "execution_count": 12,
   "id": "1b33c5fe",
   "metadata": {
    "execution": {
     "iopub.execute_input": "2024-07-29T17:56:58.936736Z",
     "iopub.status.busy": "2024-07-29T17:56:58.936267Z",
     "iopub.status.idle": "2024-07-29T17:56:58.946556Z",
     "shell.execute_reply": "2024-07-29T17:56:58.945683Z"
    },
    "papermill": {
     "duration": 0.02588,
     "end_time": "2024-07-29T17:56:58.948436",
     "exception": false,
     "start_time": "2024-07-29T17:56:58.922556",
     "status": "completed"
    },
    "tags": []
   },
   "outputs": [
    {
     "data": {
      "text/html": [
       "<div>\n",
       "<style scoped>\n",
       "    .dataframe tbody tr th:only-of-type {\n",
       "        vertical-align: middle;\n",
       "    }\n",
       "\n",
       "    .dataframe tbody tr th {\n",
       "        vertical-align: top;\n",
       "    }\n",
       "\n",
       "    .dataframe thead th {\n",
       "        text-align: right;\n",
       "    }\n",
       "</style>\n",
       "<table border=\"1\" class=\"dataframe\">\n",
       "  <thead>\n",
       "    <tr style=\"text-align: right;\">\n",
       "      <th></th>\n",
       "      <th>clean_text</th>\n",
       "      <th>labels</th>\n",
       "    </tr>\n",
       "  </thead>\n",
       "  <tbody>\n",
       "    <tr>\n",
       "      <th>0</th>\n",
       "      <td>rt  as a woman you shouldnt complain about cl...</td>\n",
       "      <td>2</td>\n",
       "    </tr>\n",
       "    <tr>\n",
       "      <th>1</th>\n",
       "      <td>rt  boy dats coldtyga dwn bad for cuffin dat ...</td>\n",
       "      <td>1</td>\n",
       "    </tr>\n",
       "    <tr>\n",
       "      <th>2</th>\n",
       "      <td>rt  dawg rt  you ever fuck a bitch and she st...</td>\n",
       "      <td>1</td>\n",
       "    </tr>\n",
       "    <tr>\n",
       "      <th>3</th>\n",
       "      <td>rt   she look like a tranny</td>\n",
       "      <td>1</td>\n",
       "    </tr>\n",
       "    <tr>\n",
       "      <th>4</th>\n",
       "      <td>rt  the shit you hear about me might be true ...</td>\n",
       "      <td>1</td>\n",
       "    </tr>\n",
       "    <tr>\n",
       "      <th>...</th>\n",
       "      <td>...</td>\n",
       "      <td>...</td>\n",
       "    </tr>\n",
       "    <tr>\n",
       "      <th>24778</th>\n",
       "      <td>yous a muthafin lie    right his tl is trash  ...</td>\n",
       "      <td>1</td>\n",
       "    </tr>\n",
       "    <tr>\n",
       "      <th>24779</th>\n",
       "      <td>youve gone and broke the wrong heart baby and ...</td>\n",
       "      <td>2</td>\n",
       "    </tr>\n",
       "    <tr>\n",
       "      <th>24780</th>\n",
       "      <td>young buck wanna eat dat nigguh like i aint fu...</td>\n",
       "      <td>1</td>\n",
       "    </tr>\n",
       "    <tr>\n",
       "      <th>24781</th>\n",
       "      <td>youu got wild bitches tellin you lies</td>\n",
       "      <td>1</td>\n",
       "    </tr>\n",
       "    <tr>\n",
       "      <th>24782</th>\n",
       "      <td>ruffled  ntac eileen dahlia  beautiful color c...</td>\n",
       "      <td>2</td>\n",
       "    </tr>\n",
       "  </tbody>\n",
       "</table>\n",
       "<p>24783 rows × 2 columns</p>\n",
       "</div>"
      ],
      "text/plain": [
       "                                              clean_text  labels\n",
       "0       rt  as a woman you shouldnt complain about cl...       2\n",
       "1       rt  boy dats coldtyga dwn bad for cuffin dat ...       1\n",
       "2       rt  dawg rt  you ever fuck a bitch and she st...       1\n",
       "3                            rt   she look like a tranny       1\n",
       "4       rt  the shit you hear about me might be true ...       1\n",
       "...                                                  ...     ...\n",
       "24778  yous a muthafin lie    right his tl is trash  ...       1\n",
       "24779  youve gone and broke the wrong heart baby and ...       2\n",
       "24780  young buck wanna eat dat nigguh like i aint fu...       1\n",
       "24781              youu got wild bitches tellin you lies       1\n",
       "24782  ruffled  ntac eileen dahlia  beautiful color c...       2\n",
       "\n",
       "[24783 rows x 2 columns]"
      ]
     },
     "execution_count": 12,
     "metadata": {},
     "output_type": "execute_result"
    }
   ],
   "source": [
    "data"
   ]
  },
  {
   "cell_type": "code",
   "execution_count": 13,
   "id": "b35a1b66",
   "metadata": {
    "execution": {
     "iopub.execute_input": "2024-07-29T17:56:58.975435Z",
     "iopub.status.busy": "2024-07-29T17:56:58.975176Z",
     "iopub.status.idle": "2024-07-29T17:56:58.978687Z",
     "shell.execute_reply": "2024-07-29T17:56:58.977862Z"
    },
    "papermill": {
     "duration": 0.019146,
     "end_time": "2024-07-29T17:56:58.980618",
     "exception": false,
     "start_time": "2024-07-29T17:56:58.961472",
     "status": "completed"
    },
    "tags": []
   },
   "outputs": [],
   "source": [
    "# data=data.iloc[:1000]"
   ]
  },
  {
   "cell_type": "code",
   "execution_count": 14,
   "id": "ad78b52a",
   "metadata": {
    "execution": {
     "iopub.execute_input": "2024-07-29T17:56:59.007627Z",
     "iopub.status.busy": "2024-07-29T17:56:59.007369Z",
     "iopub.status.idle": "2024-07-29T17:56:59.021316Z",
     "shell.execute_reply": "2024-07-29T17:56:59.020567Z"
    },
    "papermill": {
     "duration": 0.029566,
     "end_time": "2024-07-29T17:56:59.023170",
     "exception": false,
     "start_time": "2024-07-29T17:56:58.993604",
     "status": "completed"
    },
    "tags": []
   },
   "outputs": [],
   "source": [
    "from sklearn.model_selection import train_test_split\n"
   ]
  },
  {
   "cell_type": "code",
   "execution_count": 15,
   "id": "3b9ccc99",
   "metadata": {
    "execution": {
     "iopub.execute_input": "2024-07-29T17:56:59.050651Z",
     "iopub.status.busy": "2024-07-29T17:56:59.050388Z",
     "iopub.status.idle": "2024-07-29T17:56:59.082504Z",
     "shell.execute_reply": "2024-07-29T17:56:59.081541Z"
    },
    "papermill": {
     "duration": 0.047873,
     "end_time": "2024-07-29T17:56:59.084382",
     "exception": false,
     "start_time": "2024-07-29T17:56:59.036509",
     "status": "completed"
    },
    "tags": []
   },
   "outputs": [
    {
     "name": "stdout",
     "output_type": "stream",
     "text": [
      "Training set size: 14869\n",
      "Validation set size: 4957\n",
      "Testing set size: 4957\n"
     ]
    }
   ],
   "source": [
    "train_val_data, test_data = train_test_split(data, test_size=0.2, random_state=42, stratify=data['labels'])\n",
    "\n",
    "# Split the train + validation data into training and validation sets\n",
    "train_data, val_data = train_test_split(train_val_data, test_size=0.25, random_state=42, stratify=train_val_data['labels'])\n",
    "\n",
    "# Print the sizes of the splits\n",
    "print(f'Training set size: {train_data.shape[0]}')\n",
    "print(f'Validation set size: {val_data.shape[0]}')\n",
    "print(f'Testing set size: {test_data.shape[0]}')"
   ]
  },
  {
   "cell_type": "code",
   "execution_count": 16,
   "id": "fe151e30",
   "metadata": {
    "execution": {
     "iopub.execute_input": "2024-07-29T17:56:59.112167Z",
     "iopub.status.busy": "2024-07-29T17:56:59.111873Z",
     "iopub.status.idle": "2024-07-29T17:56:59.117135Z",
     "shell.execute_reply": "2024-07-29T17:56:59.116324Z"
    },
    "papermill": {
     "duration": 0.021047,
     "end_time": "2024-07-29T17:56:59.118899",
     "exception": false,
     "start_time": "2024-07-29T17:56:59.097852",
     "status": "completed"
    },
    "tags": []
   },
   "outputs": [],
   "source": [
    "train_data = train_data.reset_index(drop=True)\n",
    "val_data = val_data.reset_index(drop=True)\n",
    "test_data = test_data.reset_index(drop=True)"
   ]
  },
  {
   "cell_type": "code",
   "execution_count": 17,
   "id": "aef96f17",
   "metadata": {
    "execution": {
     "iopub.execute_input": "2024-07-29T17:56:59.146266Z",
     "iopub.status.busy": "2024-07-29T17:56:59.145989Z",
     "iopub.status.idle": "2024-07-29T17:56:59.149787Z",
     "shell.execute_reply": "2024-07-29T17:56:59.149005Z"
    },
    "papermill": {
     "duration": 0.019521,
     "end_time": "2024-07-29T17:56:59.151612",
     "exception": false,
     "start_time": "2024-07-29T17:56:59.132091",
     "status": "completed"
    },
    "tags": []
   },
   "outputs": [],
   "source": [
    "from torch.utils.data import Dataset,DataLoader"
   ]
  },
  {
   "cell_type": "code",
   "execution_count": 18,
   "id": "e737a1c4",
   "metadata": {
    "execution": {
     "iopub.execute_input": "2024-07-29T17:56:59.179182Z",
     "iopub.status.busy": "2024-07-29T17:56:59.178903Z",
     "iopub.status.idle": "2024-07-29T17:56:59.188579Z",
     "shell.execute_reply": "2024-07-29T17:56:59.187759Z"
    },
    "papermill": {
     "duration": 0.025358,
     "end_time": "2024-07-29T17:56:59.190323",
     "exception": false,
     "start_time": "2024-07-29T17:56:59.164965",
     "status": "completed"
    },
    "tags": []
   },
   "outputs": [],
   "source": [
    " \n",
    "\n",
    "# class HateSpeechDataset(Dataset):\n",
    "#     def __init__(self, data, target, tokenizer, max_len):\n",
    "#         self.data = data\n",
    "#         self.target = target\n",
    "#         self.tokenizer = tokenizer\n",
    "#         self.max_len = max_len\n",
    "\n",
    "#     def __len__(self):\n",
    "#         return len(self.data)\n",
    "\n",
    "#     def __getitem__(self, index):\n",
    "#         sample = self.data.iloc[index]\n",
    "#         encoding = self.tokenizer.encode_plus(\n",
    "#             sample,\n",
    "#             add_special_tokens=True,\n",
    "#             max_length=self.max_len,\n",
    "#             truncation=True,\n",
    "#             return_token_type_ids=False,\n",
    "#             pad_to_max_length=True,\n",
    "#             return_attention_mask=True,\n",
    "#             return_tensors='pt'\n",
    "#         )\n",
    "\n",
    "#         return {\n",
    "#             'sample': sample,\n",
    "#             'input_id': encoding['input_ids'].flatten(),\n",
    "#             'attention_mask': encoding['attention_mask'].flatten(),\n",
    "#             'target': torch.tensor(self.target[index], dtype=torch.long)\n",
    "#         }\n",
    "\n",
    "\n",
    "class HateSpeechDataset(Dataset):\n",
    "    def __init__(self, data, target, tokenizer, max_len):\n",
    "        self.data = data\n",
    "        self.target = target\n",
    "        self.tokenizer = tokenizer\n",
    "        self.max_len = max_len\n",
    "\n",
    "    def __len__(self):\n",
    "        return len(self.data)\n",
    "\n",
    "    def __getitem__(self, index):\n",
    "        sample = self.data.iloc[index]\n",
    "        encoding = self.tokenizer.encode_plus(\n",
    "            sample,\n",
    "            add_special_tokens=True,\n",
    "            max_length=self.max_len,\n",
    "            truncation=True,\n",
    "            padding='max_length',  # Use padding='max_length' instead of pad_to_max_length\n",
    "            return_attention_mask=True,\n",
    "            return_tensors='pt'\n",
    "        )\n",
    "\n",
    "        input_ids = encoding['input_ids'].flatten()\n",
    "        attention_mask = encoding['attention_mask'].flatten()\n",
    "\n",
    "        if len(input_ids) == 0:\n",
    "            input_ids = torch.zeros(self.max_len, dtype=torch.long)\n",
    "            attention_mask = torch.zeros(self.max_len, dtype=torch.long)\n",
    "\n",
    "        return {\n",
    "            'sample': sample,\n",
    "            'input_id': input_ids,\n",
    "            'attention_mask': attention_mask,\n",
    "            'target': torch.tensor(self.target.iloc[index], dtype=torch.long)\n",
    "        }\n",
    "\n",
    "\n",
    "\n",
    "\n"
   ]
  },
  {
   "cell_type": "code",
   "execution_count": 19,
   "id": "aeb6e20f",
   "metadata": {
    "execution": {
     "iopub.execute_input": "2024-07-29T17:56:59.222122Z",
     "iopub.status.busy": "2024-07-29T17:56:59.221733Z",
     "iopub.status.idle": "2024-07-29T17:56:59.252233Z",
     "shell.execute_reply": "2024-07-29T17:56:59.251343Z"
    },
    "papermill": {
     "duration": 0.050719,
     "end_time": "2024-07-29T17:56:59.254414",
     "exception": false,
     "start_time": "2024-07-29T17:56:59.203695",
     "status": "completed"
    },
    "tags": []
   },
   "outputs": [],
   "source": [
    "from transformers import GPT2Tokenizer"
   ]
  },
  {
   "cell_type": "code",
   "execution_count": 20,
   "id": "7f6fad23",
   "metadata": {
    "execution": {
     "iopub.execute_input": "2024-07-29T17:56:59.334070Z",
     "iopub.status.busy": "2024-07-29T17:56:59.333614Z",
     "iopub.status.idle": "2024-07-29T17:57:03.294715Z",
     "shell.execute_reply": "2024-07-29T17:57:03.293735Z"
    },
    "papermill": {
     "duration": 3.979361,
     "end_time": "2024-07-29T17:57:03.297122",
     "exception": false,
     "start_time": "2024-07-29T17:56:59.317761",
     "status": "completed"
    },
    "tags": []
   },
   "outputs": [
    {
     "data": {
      "application/vnd.jupyter.widget-view+json": {
       "model_id": "568d070a39bf40a6a073fecafc7f8437",
       "version_major": 2,
       "version_minor": 0
      },
      "text/plain": [
       "tokenizer_config.json:   0%|          | 0.00/26.0 [00:00<?, ?B/s]"
      ]
     },
     "metadata": {},
     "output_type": "display_data"
    },
    {
     "data": {
      "application/vnd.jupyter.widget-view+json": {
       "model_id": "2c024bd8a8cf454d83dd2d7f39f3c9d4",
       "version_major": 2,
       "version_minor": 0
      },
      "text/plain": [
       "vocab.json:   0%|          | 0.00/1.04M [00:00<?, ?B/s]"
      ]
     },
     "metadata": {},
     "output_type": "display_data"
    },
    {
     "data": {
      "application/vnd.jupyter.widget-view+json": {
       "model_id": "2fb273ba46be4d5686a06921f597ad23",
       "version_major": 2,
       "version_minor": 0
      },
      "text/plain": [
       "merges.txt:   0%|          | 0.00/456k [00:00<?, ?B/s]"
      ]
     },
     "metadata": {},
     "output_type": "display_data"
    },
    {
     "data": {
      "application/vnd.jupyter.widget-view+json": {
       "model_id": "355c28552fef45938f83d0b489433bee",
       "version_major": 2,
       "version_minor": 0
      },
      "text/plain": [
       "tokenizer.json:   0%|          | 0.00/1.36M [00:00<?, ?B/s]"
      ]
     },
     "metadata": {},
     "output_type": "display_data"
    },
    {
     "data": {
      "application/vnd.jupyter.widget-view+json": {
       "model_id": "36d6d3508bf5456f852c521dd93a3858",
       "version_major": 2,
       "version_minor": 0
      },
      "text/plain": [
       "config.json:   0%|          | 0.00/665 [00:00<?, ?B/s]"
      ]
     },
     "metadata": {},
     "output_type": "display_data"
    }
   ],
   "source": [
    "gpt2_tokenizer = GPT2Tokenizer.from_pretrained('gpt2')\n",
    "\n",
    "gpt2_tokenizer.pad_token = gpt2_tokenizer.eos_token"
   ]
  },
  {
   "cell_type": "code",
   "execution_count": 21,
   "id": "c9924628",
   "metadata": {
    "execution": {
     "iopub.execute_input": "2024-07-29T17:57:03.327529Z",
     "iopub.status.busy": "2024-07-29T17:57:03.327198Z",
     "iopub.status.idle": "2024-07-29T17:57:03.332914Z",
     "shell.execute_reply": "2024-07-29T17:57:03.332123Z"
    },
    "papermill": {
     "duration": 0.023561,
     "end_time": "2024-07-29T17:57:03.335330",
     "exception": false,
     "start_time": "2024-07-29T17:57:03.311769",
     "status": "completed"
    },
    "tags": []
   },
   "outputs": [
    {
     "data": {
      "text/plain": [
       "Index(['clean_text', 'labels'], dtype='object')"
      ]
     },
     "execution_count": 21,
     "metadata": {},
     "output_type": "execute_result"
    }
   ],
   "source": [
    "test_data.columns"
   ]
  },
  {
   "cell_type": "code",
   "execution_count": 22,
   "id": "8ffc5e05",
   "metadata": {
    "execution": {
     "iopub.execute_input": "2024-07-29T17:57:03.364574Z",
     "iopub.status.busy": "2024-07-29T17:57:03.364308Z",
     "iopub.status.idle": "2024-07-29T17:57:03.369326Z",
     "shell.execute_reply": "2024-07-29T17:57:03.368565Z"
    },
    "papermill": {
     "duration": 0.021725,
     "end_time": "2024-07-29T17:57:03.371147",
     "exception": false,
     "start_time": "2024-07-29T17:57:03.349422",
     "status": "completed"
    },
    "tags": []
   },
   "outputs": [],
   "source": [
    "train_dataset=HateSpeechDataset(train_data['clean_text'],train_data['labels'],gpt2_tokenizer,150)\n",
    "test_dataset=HateSpeechDataset(test_data['clean_text'],test_data['labels'],gpt2_tokenizer,150)\n",
    "val_dataset=HateSpeechDataset(val_data['clean_text'],val_data['labels'],gpt2_tokenizer,150)"
   ]
  },
  {
   "cell_type": "code",
   "execution_count": 23,
   "id": "bf8e47dd",
   "metadata": {
    "execution": {
     "iopub.execute_input": "2024-07-29T17:57:03.400460Z",
     "iopub.status.busy": "2024-07-29T17:57:03.400189Z",
     "iopub.status.idle": "2024-07-29T17:57:03.404952Z",
     "shell.execute_reply": "2024-07-29T17:57:03.404099Z"
    },
    "papermill": {
     "duration": 0.021631,
     "end_time": "2024-07-29T17:57:03.406887",
     "exception": false,
     "start_time": "2024-07-29T17:57:03.385256",
     "status": "completed"
    },
    "tags": []
   },
   "outputs": [],
   "source": [
    "\n",
    "# Create DataLoader instances\n",
    "train_loader = DataLoader(train_dataset, batch_size=32, shuffle=True)\n",
    "val_loader = DataLoader(val_dataset, batch_size=32)\n",
    "test_loader = DataLoader(test_dataset, batch_size=32)"
   ]
  },
  {
   "cell_type": "code",
   "execution_count": 24,
   "id": "0864a413",
   "metadata": {
    "execution": {
     "iopub.execute_input": "2024-07-29T17:57:03.436281Z",
     "iopub.status.busy": "2024-07-29T17:57:03.435562Z",
     "iopub.status.idle": "2024-07-29T17:57:03.498351Z",
     "shell.execute_reply": "2024-07-29T17:57:03.497468Z"
    },
    "papermill": {
     "duration": 0.079431,
     "end_time": "2024-07-29T17:57:03.500284",
     "exception": false,
     "start_time": "2024-07-29T17:57:03.420853",
     "status": "completed"
    },
    "tags": []
   },
   "outputs": [],
   "source": [
    "device='cuda' if torch.cuda.is_available() else 'cpu'"
   ]
  },
  {
   "cell_type": "code",
   "execution_count": 25,
   "id": "aadf288f",
   "metadata": {
    "execution": {
     "iopub.execute_input": "2024-07-29T17:57:03.529857Z",
     "iopub.status.busy": "2024-07-29T17:57:03.529570Z",
     "iopub.status.idle": "2024-07-29T17:57:11.922949Z",
     "shell.execute_reply": "2024-07-29T17:57:11.922177Z"
    },
    "papermill": {
     "duration": 8.410616,
     "end_time": "2024-07-29T17:57:11.925161",
     "exception": false,
     "start_time": "2024-07-29T17:57:03.514545",
     "status": "completed"
    },
    "tags": []
   },
   "outputs": [
    {
     "data": {
      "application/vnd.jupyter.widget-view+json": {
       "model_id": "c813bcba9bef415f9b17e4713f5bb811",
       "version_major": 2,
       "version_minor": 0
      },
      "text/plain": [
       "model.safetensors:   0%|          | 0.00/548M [00:00<?, ?B/s]"
      ]
     },
     "metadata": {},
     "output_type": "display_data"
    },
    {
     "name": "stderr",
     "output_type": "stream",
     "text": [
      "Some weights of GPT2ForSequenceClassification were not initialized from the model checkpoint at gpt2 and are newly initialized: ['score.weight']\n",
      "You should probably TRAIN this model on a down-stream task to be able to use it for predictions and inference.\n"
     ]
    }
   ],
   "source": [
    "learning_rate = 0.0001\n",
    "EPOCHS = 5\n",
    "num_labels=3\n",
    "\n",
    "gpt2_model = GPTModel(num_labels)\n",
    "gpt2_model = gpt2_model.to(device)\n",
    "\n",
    "total_steps = len(train_data) * EPOCHS\n",
    "\n",
    "criterian = torch.nn.CrossEntropyLoss().to(device)\n",
    "\n",
    "optimizer = torch.optim.Adam(params = gpt2_model.parameters(),lr = learning_rate)"
   ]
  },
  {
   "cell_type": "code",
   "execution_count": 26,
   "id": "803e4db5",
   "metadata": {
    "execution": {
     "iopub.execute_input": "2024-07-29T17:57:11.956259Z",
     "iopub.status.busy": "2024-07-29T17:57:11.955573Z",
     "iopub.status.idle": "2024-07-29T17:57:11.963458Z",
     "shell.execute_reply": "2024-07-29T17:57:11.962613Z"
    },
    "papermill": {
     "duration": 0.02523,
     "end_time": "2024-07-29T17:57:11.965337",
     "exception": false,
     "start_time": "2024-07-29T17:57:11.940107",
     "status": "completed"
    },
    "tags": []
   },
   "outputs": [],
   "source": [
    "def train_model(model, data_loader, criterian, optimizer):\n",
    "\n",
    "    model.train()\n",
    "    train_loss = 0.0\n",
    "    correct_pred = 0\n",
    "    total_preds = 0\n",
    "\n",
    "    for d in data_loader:\n",
    "        input_ids = d['input_id'].to(device)\n",
    "        attention_masks = d['attention_mask'].to(device)\n",
    "        targets = d['target'].to(device)\n",
    "#         print('targets',targets)\n",
    "\n",
    "        # forward prop\n",
    "        predictions = model(input_ids , attention_masks)\n",
    "#         print('preds',predictions)\n",
    "#         targets = torch.argmax(targets, dim=1)\n",
    "        \n",
    "        loss = criterian(predictions, targets)\n",
    "#         print('loss:',loss)\n",
    "        _, pred_classes = torch.max(predictions, dim=1)\n",
    "\n",
    "        #backprop\n",
    "        loss.backward()\n",
    "        nn.utils.clip_grad_norm_(model.parameters(), max_norm=1.0) # hack to avoid gradient explosion\n",
    "        optimizer.step()\n",
    "     \n",
    "        optimizer.zero_grad()\n",
    "\n",
    "        train_loss += loss.item()\n",
    "        correct_pred += torch.sum(pred_classes == targets)\n",
    "        total_preds += targets.size(0)\n",
    "\n",
    "    accuracy = correct_pred.double() / total_preds\n",
    "    avg_train_loss = train_loss / total_preds\n",
    "\n",
    "    return accuracy, avg_train_loss"
   ]
  },
  {
   "cell_type": "code",
   "execution_count": 27,
   "id": "6ff8cba7",
   "metadata": {
    "execution": {
     "iopub.execute_input": "2024-07-29T17:57:11.994979Z",
     "iopub.status.busy": "2024-07-29T17:57:11.994717Z",
     "iopub.status.idle": "2024-07-29T17:57:11.999081Z",
     "shell.execute_reply": "2024-07-29T17:57:11.998223Z"
    },
    "papermill": {
     "duration": 0.021375,
     "end_time": "2024-07-29T17:57:12.001028",
     "exception": false,
     "start_time": "2024-07-29T17:57:11.979653",
     "status": "completed"
    },
    "tags": []
   },
   "outputs": [],
   "source": [
    "\n",
    "\n",
    "\n",
    "# def eval_model(model, data_loader, criterian):\n",
    "#     model.eval()\n",
    "#     eval_loss = 0.0\n",
    "#     correct_pred = 0\n",
    "#     total_preds = 0\n",
    "\n",
    "#     with torch.no_grad():\n",
    "#         for d in data_loader:\n",
    "#             input_ids = d['input_id'].to(device)\n",
    "#             attention_masks = d['attention_mask'].to(device)\n",
    "#             targets = d['target'].to(device)\n",
    "\n",
    "#             # forward prop\n",
    "#             predictions = model(input_ids, attention_masks)\n",
    "#             loss = criterian(predictions, targets)\n",
    "#             _, pred_classes = torch.max(predictions, dim=1)\n",
    "\n",
    "#             eval_loss += loss.item()\n",
    "#             correct_pred += torch.sum(pred_classes == targets)\n",
    "#             total_preds += targets.size(0)\n",
    "\n",
    "#     accuracy = correct_pred.double() / total_preds\n",
    "#     avg_eval_loss = eval_loss / total_preds\n",
    "\n",
    "#     return accuracy, avg_eval_loss"
   ]
  },
  {
   "cell_type": "code",
   "execution_count": 28,
   "id": "fc4241a7",
   "metadata": {
    "execution": {
     "iopub.execute_input": "2024-07-29T17:57:12.030672Z",
     "iopub.status.busy": "2024-07-29T17:57:12.030405Z",
     "iopub.status.idle": "2024-07-29T17:57:12.039356Z",
     "shell.execute_reply": "2024-07-29T17:57:12.038515Z"
    },
    "papermill": {
     "duration": 0.025978,
     "end_time": "2024-07-29T17:57:12.041219",
     "exception": false,
     "start_time": "2024-07-29T17:57:12.015241",
     "status": "completed"
    },
    "tags": []
   },
   "outputs": [],
   "source": [
    "from sklearn.metrics import precision_recall_fscore_support\n",
    "\n",
    "def eval_model(model, data_loader, criterian):\n",
    "    model.eval()\n",
    "    eval_loss = 0.0\n",
    "    correct_pred = 0\n",
    "    total_preds = 0\n",
    "    all_preds = []\n",
    "    all_targets = []\n",
    "\n",
    "    with torch.no_grad():\n",
    "        for d in data_loader:\n",
    "            input_ids = d['input_id'].to(device)\n",
    "            attention_masks = d['attention_mask'].to(device)\n",
    "            targets = d['target'].to(device)\n",
    "\n",
    "            # forward pass\n",
    "            predictions = model(input_ids, attention_masks)\n",
    "            loss = criterian(predictions, targets)\n",
    "            _, pred_classes = torch.max(predictions, dim=1)\n",
    "\n",
    "            eval_loss += loss.item()\n",
    "            correct_pred += torch.sum(pred_classes == targets)\n",
    "            total_preds += targets.size(0)\n",
    "\n",
    "            # Collect all predictions and targets\n",
    "            all_preds.extend(pred_classes.cpu().numpy())\n",
    "            all_targets.extend(targets.cpu().numpy())\n",
    "\n",
    "    accuracy = correct_pred.double() / total_preds\n",
    "    avg_eval_loss = eval_loss / total_preds\n",
    "    \n",
    "    # Compute precision, recall, and F1-score\n",
    "    precision, recall, f1, _ = precision_recall_fscore_support(all_targets, all_preds, average='weighted')\n",
    "\n",
    "    return accuracy, avg_eval_loss, precision, recall, f1\n"
   ]
  },
  {
   "cell_type": "code",
   "execution_count": 29,
   "id": "ac2d7288",
   "metadata": {
    "execution": {
     "iopub.execute_input": "2024-07-29T17:57:12.071216Z",
     "iopub.status.busy": "2024-07-29T17:57:12.070959Z",
     "iopub.status.idle": "2024-07-29T17:57:12.075365Z",
     "shell.execute_reply": "2024-07-29T17:57:12.074658Z"
    },
    "papermill": {
     "duration": 0.021753,
     "end_time": "2024-07-29T17:57:12.077210",
     "exception": false,
     "start_time": "2024-07-29T17:57:12.055457",
     "status": "completed"
    },
    "tags": []
   },
   "outputs": [],
   "source": [
    "# from collections import defaultdict\n",
    "\n",
    "# history = defaultdict(list)\n",
    "# best_accuracy = 0\n",
    "# EPOCHS = 10\n",
    "\n",
    "# for epoch in range(EPOCHS):\n",
    "#     print(f'epoch : {epoch+1}/{EPOCHS}')\n",
    "#     train_acc , train_loss = train_model(gpt2_model,\n",
    "#                                          train_loader,\n",
    "#                                          criterian,\n",
    "#                                          optimizer)\n",
    "\n",
    "#     val_acc , val_loss = eval_model(gpt2_model,\n",
    "#                                     val_loader,\n",
    "#                                     criterian)\n",
    "\n",
    "#     history['train_acc'].append(train_acc)\n",
    "#     history['train_loss'].append(train_loss)\n",
    "#     history['val_acc'].append(val_acc)\n",
    "#     history['val_loss'].append(val_loss)\n",
    "\n",
    "#     print(f'train_loss: {train_loss}, train_acc: {train_acc} ,val_loss: {val_loss}, val_acc: {val_acc}')\n",
    "#     if val_acc > best_accuracy:\n",
    "#         best_model_name = f'best_model_state.bin'\n",
    "#         torch.save(gpt2_model.state_dict(), best_model_name)\n",
    "#         best_accuracy = val_acc"
   ]
  },
  {
   "cell_type": "code",
   "execution_count": 30,
   "id": "4e3cdfc5",
   "metadata": {
    "execution": {
     "iopub.execute_input": "2024-07-29T17:57:12.107302Z",
     "iopub.status.busy": "2024-07-29T17:57:12.107035Z",
     "iopub.status.idle": "2024-07-29T18:42:17.120411Z",
     "shell.execute_reply": "2024-07-29T18:42:17.119399Z"
    },
    "papermill": {
     "duration": 2705.048536,
     "end_time": "2024-07-29T18:42:17.140174",
     "exception": false,
     "start_time": "2024-07-29T17:57:12.091638",
     "status": "completed"
    },
    "tags": []
   },
   "outputs": [
    {
     "name": "stdout",
     "output_type": "stream",
     "text": [
      "epoch : 1/10\n"
     ]
    },
    {
     "name": "stderr",
     "output_type": "stream",
     "text": [
      "/opt/conda/lib/python3.10/site-packages/sklearn/metrics/_classification.py:1344: UndefinedMetricWarning: Precision and F-score are ill-defined and being set to 0.0 in labels with no predicted samples. Use `zero_division` parameter to control this behavior.\n",
      "  _warn_prf(average, modifier, msg_start, len(result))\n"
     ]
    },
    {
     "name": "stdout",
     "output_type": "stream",
     "text": [
      "train_loss: 0.021470321235743967, train_acc: 0.8635415966103975 ,val_loss: 0.020512039776360146, val_acc: 0.8955013112769821\n",
      "Validation Precision: 0.8450\n",
      "Validation Recall: 0.8955\n",
      "Validation F1 Score: 0.8694\n",
      "epoch : 2/10\n"
     ]
    },
    {
     "name": "stderr",
     "output_type": "stream",
     "text": [
      "/opt/conda/lib/python3.10/site-packages/sklearn/metrics/_classification.py:1344: UndefinedMetricWarning: Precision and F-score are ill-defined and being set to 0.0 in labels with no predicted samples. Use `zero_division` parameter to control this behavior.\n",
      "  _warn_prf(average, modifier, msg_start, len(result))\n"
     ]
    },
    {
     "name": "stdout",
     "output_type": "stream",
     "text": [
      "train_loss: 0.02032313840167493, train_acc: 0.9016073710404198 ,val_loss: 0.02044535528538519, val_acc: 0.8975186604801292\n",
      "Validation Precision: 0.8505\n",
      "Validation Recall: 0.8975\n",
      "Validation F1 Score: 0.8723\n",
      "epoch : 3/10\n"
     ]
    },
    {
     "name": "stderr",
     "output_type": "stream",
     "text": [
      "/opt/conda/lib/python3.10/site-packages/sklearn/metrics/_classification.py:1344: UndefinedMetricWarning: Precision and F-score are ill-defined and being set to 0.0 in labels with no predicted samples. Use `zero_division` parameter to control this behavior.\n",
      "  _warn_prf(average, modifier, msg_start, len(result))\n"
     ]
    },
    {
     "name": "stdout",
     "output_type": "stream",
     "text": [
      "train_loss: 0.02033905802902549, train_acc: 0.9010020848745713 ,val_loss: 0.020444245595279808, val_acc: 0.8977203954004439\n",
      "Validation Precision: 0.8492\n",
      "Validation Recall: 0.8977\n",
      "Validation F1 Score: 0.8721\n",
      "epoch : 4/10\n"
     ]
    },
    {
     "name": "stderr",
     "output_type": "stream",
     "text": [
      "/opt/conda/lib/python3.10/site-packages/sklearn/metrics/_classification.py:1344: UndefinedMetricWarning: Precision and F-score are ill-defined and being set to 0.0 in labels with no predicted samples. Use `zero_division` parameter to control this behavior.\n",
      "  _warn_prf(average, modifier, msg_start, len(result))\n"
     ]
    },
    {
     "name": "stdout",
     "output_type": "stream",
     "text": [
      "train_loss: 0.020333061302283063, train_acc: 0.9011365929114266 ,val_loss: 0.020370137590493363, val_acc: 0.9001412144442204\n",
      "Validation Precision: 0.8512\n",
      "Validation Recall: 0.9001\n",
      "Validation F1 Score: 0.8744\n",
      "epoch : 5/10\n"
     ]
    },
    {
     "name": "stderr",
     "output_type": "stream",
     "text": [
      "/opt/conda/lib/python3.10/site-packages/sklearn/metrics/_classification.py:1344: UndefinedMetricWarning: Precision and F-score are ill-defined and being set to 0.0 in labels with no predicted samples. Use `zero_division` parameter to control this behavior.\n",
      "  _warn_prf(average, modifier, msg_start, len(result))\n"
     ]
    },
    {
     "name": "stdout",
     "output_type": "stream",
     "text": [
      "train_loss: 0.020365347421452292, train_acc: 0.9002622906718677 ,val_loss: 0.02047156839089839, val_acc: 0.8965099858785556\n",
      "Validation Precision: 0.8459\n",
      "Validation Recall: 0.8965\n",
      "Validation F1 Score: 0.8703\n",
      "epoch : 6/10\n"
     ]
    },
    {
     "name": "stderr",
     "output_type": "stream",
     "text": [
      "/opt/conda/lib/python3.10/site-packages/sklearn/metrics/_classification.py:1344: UndefinedMetricWarning: Precision and F-score are ill-defined and being set to 0.0 in labels with no predicted samples. Use `zero_division` parameter to control this behavior.\n",
      "  _warn_prf(average, modifier, msg_start, len(result))\n"
     ]
    },
    {
     "name": "stdout",
     "output_type": "stream",
     "text": [
      "train_loss: 0.020364407360517662, train_acc: 0.9001950366534401 ,val_loss: 0.02036547346992408, val_acc: 0.8999394795239056\n",
      "Validation Precision: 0.8495\n",
      "Validation Recall: 0.8999\n",
      "Validation F1 Score: 0.8738\n",
      "epoch : 7/10\n"
     ]
    },
    {
     "name": "stderr",
     "output_type": "stream",
     "text": [
      "/opt/conda/lib/python3.10/site-packages/sklearn/metrics/_classification.py:1344: UndefinedMetricWarning: Precision and F-score are ill-defined and being set to 0.0 in labels with no predicted samples. Use `zero_division` parameter to control this behavior.\n",
      "  _warn_prf(average, modifier, msg_start, len(result))\n"
     ]
    },
    {
     "name": "stdout",
     "output_type": "stream",
     "text": [
      "train_loss: 0.02019772769559952, train_acc: 0.9055753581276482 ,val_loss: 0.020411107673360282, val_acc: 0.8987290700020174\n",
      "Validation Precision: 0.8485\n",
      "Validation Recall: 0.8987\n",
      "Validation F1 Score: 0.8727\n",
      "epoch : 8/10\n"
     ]
    },
    {
     "name": "stderr",
     "output_type": "stream",
     "text": [
      "/opt/conda/lib/python3.10/site-packages/sklearn/metrics/_classification.py:1344: UndefinedMetricWarning: Precision and F-score are ill-defined and being set to 0.0 in labels with no predicted samples. Use `zero_division` parameter to control this behavior.\n",
      "  _warn_prf(average, modifier, msg_start, len(result))\n"
     ]
    },
    {
     "name": "stdout",
     "output_type": "stream",
     "text": [
      "train_loss: 0.020160754019270123, train_acc: 0.9067186764409174 ,val_loss: 0.020363217223092193, val_acc: 0.9001412144442204\n",
      "Validation Precision: 0.8514\n",
      "Validation Recall: 0.9001\n",
      "Validation F1 Score: 0.8744\n",
      "epoch : 9/10\n"
     ]
    },
    {
     "name": "stderr",
     "output_type": "stream",
     "text": [
      "/opt/conda/lib/python3.10/site-packages/sklearn/metrics/_classification.py:1344: UndefinedMetricWarning: Precision and F-score are ill-defined and being set to 0.0 in labels with no predicted samples. Use `zero_division` parameter to control this behavior.\n",
      "  _warn_prf(average, modifier, msg_start, len(result))\n"
     ]
    },
    {
     "name": "stdout",
     "output_type": "stream",
     "text": [
      "train_loss: 0.020209719389286205, train_acc: 0.9051718340170826 ,val_loss: 0.020392275768012225, val_acc: 0.8993342747629615\n",
      "Validation Precision: 0.8490\n",
      "Validation Recall: 0.8993\n",
      "Validation F1 Score: 0.8732\n",
      "epoch : 10/10\n",
      "train_loss: 0.020238440217483708, train_acc: 0.9041630237406686 ,val_loss: 0.020503020873347766, val_acc: 0.8957030461972968\n",
      "Validation Precision: 0.8495\n",
      "Validation Recall: 0.8957\n",
      "Validation F1 Score: 0.8707\n"
     ]
    },
    {
     "name": "stderr",
     "output_type": "stream",
     "text": [
      "/opt/conda/lib/python3.10/site-packages/sklearn/metrics/_classification.py:1344: UndefinedMetricWarning: Precision and F-score are ill-defined and being set to 0.0 in labels with no predicted samples. Use `zero_division` parameter to control this behavior.\n",
      "  _warn_prf(average, modifier, msg_start, len(result))\n"
     ]
    }
   ],
   "source": [
    "from collections import defaultdict\n",
    "\n",
    "history = defaultdict(list)\n",
    "best_accuracy = 0\n",
    "EPOCHS = 10\n",
    "\n",
    "for epoch in range(EPOCHS):\n",
    "    print(f'epoch : {epoch+1}/{EPOCHS}')\n",
    "    train_acc, train_loss = train_model(gpt2_model, train_loader, criterian, optimizer)\n",
    "\n",
    "    val_acc, val_loss, precision, recall, f1 = eval_model(gpt2_model, val_loader, criterian)\n",
    "\n",
    "    history['train_acc'].append(train_acc)\n",
    "    history['train_loss'].append(train_loss)\n",
    "    history['val_acc'].append(val_acc)\n",
    "    history['val_loss'].append(val_loss)\n",
    "    history['val_precision'].append(precision)\n",
    "    history['val_recall'].append(recall)\n",
    "    history['val_f1'].append(f1)\n",
    "\n",
    "    print(f'train_loss: {train_loss}, train_acc: {train_acc} ,val_loss: {val_loss}, val_acc: {val_acc}')\n",
    "    print(f'Validation Precision: {precision:.4f}')\n",
    "    print(f'Validation Recall: {recall:.4f}')\n",
    "    print(f'Validation F1 Score: {f1:.4f}')\n",
    "    \n",
    "    if val_acc > best_accuracy:\n",
    "        best_model_name = f'best_model_state.bin'\n",
    "        torch.save(gpt2_model.state_dict(), best_model_name)\n",
    "        best_accuracy = val_acc\n"
   ]
  },
  {
   "cell_type": "code",
   "execution_count": 31,
   "id": "73fe5b11",
   "metadata": {
    "execution": {
     "iopub.execute_input": "2024-07-29T18:42:17.174247Z",
     "iopub.status.busy": "2024-07-29T18:42:17.173903Z",
     "iopub.status.idle": "2024-07-29T18:42:17.179192Z",
     "shell.execute_reply": "2024-07-29T18:42:17.178444Z"
    },
    "papermill": {
     "duration": 0.024237,
     "end_time": "2024-07-29T18:42:17.180977",
     "exception": false,
     "start_time": "2024-07-29T18:42:17.156740",
     "status": "completed"
    },
    "tags": []
   },
   "outputs": [],
   "source": [
    "train_acc = [float(t) for t in history['train_acc']]\n",
    "val_acc = [float(t) for t in history['val_acc']]"
   ]
  },
  {
   "cell_type": "code",
   "execution_count": 32,
   "id": "ea703de0",
   "metadata": {
    "execution": {
     "iopub.execute_input": "2024-07-29T18:42:17.214377Z",
     "iopub.status.busy": "2024-07-29T18:42:17.214111Z",
     "iopub.status.idle": "2024-07-29T18:42:17.217877Z",
     "shell.execute_reply": "2024-07-29T18:42:17.217158Z"
    },
    "papermill": {
     "duration": 0.022483,
     "end_time": "2024-07-29T18:42:17.219665",
     "exception": false,
     "start_time": "2024-07-29T18:42:17.197182",
     "status": "completed"
    },
    "tags": []
   },
   "outputs": [],
   "source": [
    "import matplotlib.pyplot as plt"
   ]
  },
  {
   "cell_type": "code",
   "execution_count": 33,
   "id": "b54da880",
   "metadata": {
    "execution": {
     "iopub.execute_input": "2024-07-29T18:42:17.254014Z",
     "iopub.status.busy": "2024-07-29T18:42:17.253717Z",
     "iopub.status.idle": "2024-07-29T18:42:17.872838Z",
     "shell.execute_reply": "2024-07-29T18:42:17.871997Z"
    },
    "papermill": {
     "duration": 0.639625,
     "end_time": "2024-07-29T18:42:17.875376",
     "exception": false,
     "start_time": "2024-07-29T18:42:17.235751",
     "status": "completed"
    },
    "tags": []
   },
   "outputs": [
    {
     "data": {
      "image/png": "[encoded data removed]",
      "text/plain": [
       "<Figure size 1400x600 with 2 Axes>"
      ]
     },
     "metadata": {},
     "output_type": "display_data"
    }
   ],
   "source": [
    "epochs = range(1, len(train_acc) + 1)\n",
    "\n",
    "plt.figure(figsize=(14, 6))\n",
    "\n",
    "# Plot training & validation accuracy values\n",
    "plt.subplot(1, 2, 1)\n",
    "plt.plot(epochs, train_acc, 'b', label='Training Accuracy')\n",
    "plt.plot(epochs, val_acc, 'r', label='Validation Accuracy')\n",
    "plt.title('Training and Validation Accuracy')\n",
    "plt.xlabel('Epochs')\n",
    "plt.ylabel('Accuracy')\n",
    "plt.legend()\n",
    "\n",
    "# Plot training & validation loss values\n",
    "plt.subplot(1, 2, 2)\n",
    "plt.plot(epochs, history['train_loss'], 'b', label='Training Loss')\n",
    "plt.plot(epochs, history['val_loss'], 'r', label='Validation Loss')\n",
    "\n",
    "plt.title('Training and Validation Loss')\n",
    "plt.xlabel('Epochs')\n",
    "plt.ylabel('Loss')\n",
    "plt.legend()\n",
    "\n",
    "plt.tight_layout()\n",
    "plt.show()"
   ]
  },
  {
   "cell_type": "markdown",
   "id": "2b340e9a",
   "metadata": {
    "papermill": {
     "duration": 0.017096,
     "end_time": "2024-07-29T18:42:17.910133",
     "exception": false,
     "start_time": "2024-07-29T18:42:17.893037",
     "status": "completed"
    },
    "tags": []
   },
   "source": [
    "# Inference"
   ]
  },
  {
   "cell_type": "code",
   "execution_count": 34,
   "id": "1380cdc9",
   "metadata": {
    "execution": {
     "iopub.execute_input": "2024-07-29T18:42:17.946429Z",
     "iopub.status.busy": "2024-07-29T18:42:17.946135Z",
     "iopub.status.idle": "2024-07-29T18:42:17.951374Z",
     "shell.execute_reply": "2024-07-29T18:42:17.950500Z"
    },
    "papermill": {
     "duration": 0.025553,
     "end_time": "2024-07-29T18:42:17.953328",
     "exception": false,
     "start_time": "2024-07-29T18:42:17.927775",
     "status": "completed"
    },
    "tags": []
   },
   "outputs": [
    {
     "name": "stdout",
     "output_type": "stream",
     "text": [
      "['best_model_state.bin', '__notebook__.ipynb']\n"
     ]
    }
   ],
   "source": [
    "import os\n",
    "print(os.listdir())"
   ]
  },
  {
   "cell_type": "code",
   "execution_count": 35,
   "id": "c2a3415e",
   "metadata": {
    "execution": {
     "iopub.execute_input": "2024-07-29T18:42:17.989134Z",
     "iopub.status.busy": "2024-07-29T18:42:17.988843Z",
     "iopub.status.idle": "2024-07-29T18:42:19.185916Z",
     "shell.execute_reply": "2024-07-29T18:42:19.185070Z"
    },
    "papermill": {
     "duration": 1.217421,
     "end_time": "2024-07-29T18:42:19.188101",
     "exception": false,
     "start_time": "2024-07-29T18:42:17.970680",
     "status": "completed"
    },
    "tags": []
   },
   "outputs": [
    {
     "name": "stderr",
     "output_type": "stream",
     "text": [
      "Some weights of GPT2ForSequenceClassification were not initialized from the model checkpoint at gpt2 and are newly initialized: ['score.weight']\n",
      "You should probably TRAIN this model on a down-stream task to be able to use it for predictions and inference.\n"
     ]
    },
    {
     "data": {
      "text/plain": [
       "<All keys matched successfully>"
      ]
     },
     "execution_count": 35,
     "metadata": {},
     "output_type": "execute_result"
    }
   ],
   "source": [
    "# Initialize the model with the same architecture\n",
    "gpt2_model = GPTModel(num_labels)  # Ensure GPTModel is defined correctly\n",
    "gpt2_model = gpt2_model.to(device)\n",
    "\n",
    "# Load the state dict\n",
    "best_model_name = 'best_model_state.bin'  # Replace with actual filename\n",
    "gpt2_model.load_state_dict(torch.load(best_model_name))\n"
   ]
  },
  {
   "cell_type": "code",
   "execution_count": 36,
   "id": "8446493a",
   "metadata": {
    "execution": {
     "iopub.execute_input": "2024-07-29T18:42:19.224906Z",
     "iopub.status.busy": "2024-07-29T18:42:19.224604Z",
     "iopub.status.idle": "2024-07-29T18:42:46.242516Z",
     "shell.execute_reply": "2024-07-29T18:42:46.241705Z"
    },
    "papermill": {
     "duration": 27.038643,
     "end_time": "2024-07-29T18:42:46.244753",
     "exception": false,
     "start_time": "2024-07-29T18:42:19.206110",
     "status": "completed"
    },
    "tags": []
   },
   "outputs": [],
   "source": [
    "def predict(model, data_loader):\n",
    "    model.eval()\n",
    "    all_predictions = []\n",
    "    \n",
    "    with torch.no_grad():\n",
    "        for d in data_loader:\n",
    "            input_ids = d['input_id'].to(device)\n",
    "            attention_masks = d['attention_mask'].to(device)\n",
    "            \n",
    "            # Forward pass\n",
    "            outputs = model(input_ids, attention_masks)\n",
    "            _, preds = torch.max(outputs, dim=1)\n",
    "            all_predictions.extend(preds.cpu().numpy())\n",
    "    \n",
    "    return all_predictions\n",
    "\n",
    "# Make predictions\n",
    "predictions = predict(gpt2_model, test_loader)\n"
   ]
  },
  {
   "cell_type": "code",
   "execution_count": 37,
   "id": "5658d373",
   "metadata": {
    "execution": {
     "iopub.execute_input": "2024-07-29T18:42:46.282434Z",
     "iopub.status.busy": "2024-07-29T18:42:46.281545Z",
     "iopub.status.idle": "2024-07-29T18:42:46.303027Z",
     "shell.execute_reply": "2024-07-29T18:42:46.302158Z"
    },
    "papermill": {
     "duration": 0.042155,
     "end_time": "2024-07-29T18:42:46.305020",
     "exception": false,
     "start_time": "2024-07-29T18:42:46.262865",
     "status": "completed"
    },
    "tags": []
   },
   "outputs": [],
   "source": [
    "test_data['predictions']=predictions"
   ]
  },
  {
   "cell_type": "code",
   "execution_count": 38,
   "id": "2a4e0001",
   "metadata": {
    "execution": {
     "iopub.execute_input": "2024-07-29T18:42:46.340862Z",
     "iopub.status.busy": "2024-07-29T18:42:46.340574Z",
     "iopub.status.idle": "2024-07-29T18:42:46.351103Z",
     "shell.execute_reply": "2024-07-29T18:42:46.350192Z"
    },
    "papermill": {
     "duration": 0.031006,
     "end_time": "2024-07-29T18:42:46.353451",
     "exception": false,
     "start_time": "2024-07-29T18:42:46.322445",
     "status": "completed"
    },
    "tags": []
   },
   "outputs": [
    {
     "data": {
      "text/html": [
       "<div>\n",
       "<style scoped>\n",
       "    .dataframe tbody tr th:only-of-type {\n",
       "        vertical-align: middle;\n",
       "    }\n",
       "\n",
       "    .dataframe tbody tr th {\n",
       "        vertical-align: top;\n",
       "    }\n",
       "\n",
       "    .dataframe thead th {\n",
       "        text-align: right;\n",
       "    }\n",
       "</style>\n",
       "<table border=\"1\" class=\"dataframe\">\n",
       "  <thead>\n",
       "    <tr style=\"text-align: right;\">\n",
       "      <th></th>\n",
       "      <th>clean_text</th>\n",
       "      <th>labels</th>\n",
       "      <th>predictions</th>\n",
       "    </tr>\n",
       "  </thead>\n",
       "  <tbody>\n",
       "    <tr>\n",
       "      <th>0</th>\n",
       "      <td>rt  there is a gift shop at the 911 museum and...</td>\n",
       "      <td>1</td>\n",
       "      <td>1</td>\n",
       "    </tr>\n",
       "    <tr>\n",
       "      <th>1</th>\n",
       "      <td>i need some red green amp yellow pants amp he...</td>\n",
       "      <td>2</td>\n",
       "      <td>2</td>\n",
       "    </tr>\n",
       "    <tr>\n",
       "      <th>2</th>\n",
       "      <td>this the onert  hoes dont be wantin ya nigga t...</td>\n",
       "      <td>1</td>\n",
       "      <td>1</td>\n",
       "    </tr>\n",
       "    <tr>\n",
       "      <th>3</th>\n",
       "      <td>i can turn yo bitch into a eaterrrrrrrrr</td>\n",
       "      <td>1</td>\n",
       "      <td>1</td>\n",
       "    </tr>\n",
       "    <tr>\n",
       "      <th>4</th>\n",
       "      <td>rt  smh u got ebola now rt i stick my foot out...</td>\n",
       "      <td>1</td>\n",
       "      <td>1</td>\n",
       "    </tr>\n",
       "    <tr>\n",
       "      <th>...</th>\n",
       "      <td>...</td>\n",
       "      <td>...</td>\n",
       "      <td>...</td>\n",
       "    </tr>\n",
       "    <tr>\n",
       "      <th>4952</th>\n",
       "      <td>because of the message that sends to lgbtq res...</td>\n",
       "      <td>1</td>\n",
       "      <td>2</td>\n",
       "    </tr>\n",
       "    <tr>\n",
       "      <th>4953</th>\n",
       "      <td>bruh this niggah always falls asleep</td>\n",
       "      <td>1</td>\n",
       "      <td>1</td>\n",
       "    </tr>\n",
       "    <tr>\n",
       "      <th>4954</th>\n",
       "      <td>were out here and were queer\\n 2 4 6 hut we li...</td>\n",
       "      <td>0</td>\n",
       "      <td>1</td>\n",
       "    </tr>\n",
       "    <tr>\n",
       "      <th>4955</th>\n",
       "      <td>rt  why give a bitch ya heart when she rather ...</td>\n",
       "      <td>1</td>\n",
       "      <td>1</td>\n",
       "    </tr>\n",
       "    <tr>\n",
       "      <th>4956</th>\n",
       "      <td>rt  almost forgot posing as an old brawd wont ...</td>\n",
       "      <td>1</td>\n",
       "      <td>1</td>\n",
       "    </tr>\n",
       "  </tbody>\n",
       "</table>\n",
       "<p>4957 rows × 3 columns</p>\n",
       "</div>"
      ],
      "text/plain": [
       "                                             clean_text  labels  predictions\n",
       "0     rt  there is a gift shop at the 911 museum and...       1            1\n",
       "1      i need some red green amp yellow pants amp he...       2            2\n",
       "2     this the onert  hoes dont be wantin ya nigga t...       1            1\n",
       "3              i can turn yo bitch into a eaterrrrrrrrr       1            1\n",
       "4     rt  smh u got ebola now rt i stick my foot out...       1            1\n",
       "...                                                 ...     ...          ...\n",
       "4952  because of the message that sends to lgbtq res...       1            2\n",
       "4953             bruh this niggah always falls asleep         1            1\n",
       "4954  were out here and were queer\\n 2 4 6 hut we li...       0            1\n",
       "4955  rt  why give a bitch ya heart when she rather ...       1            1\n",
       "4956  rt  almost forgot posing as an old brawd wont ...       1            1\n",
       "\n",
       "[4957 rows x 3 columns]"
      ]
     },
     "execution_count": 38,
     "metadata": {},
     "output_type": "execute_result"
    }
   ],
   "source": [
    "test_data"
   ]
  },
  {
   "cell_type": "code",
   "execution_count": 39,
   "id": "7d15dd91",
   "metadata": {
    "execution": {
     "iopub.execute_input": "2024-07-29T18:42:46.391243Z",
     "iopub.status.busy": "2024-07-29T18:42:46.390991Z",
     "iopub.status.idle": "2024-07-29T18:42:46.409857Z",
     "shell.execute_reply": "2024-07-29T18:42:46.408752Z"
    },
    "papermill": {
     "duration": 0.040032,
     "end_time": "2024-07-29T18:42:46.411892",
     "exception": false,
     "start_time": "2024-07-29T18:42:46.371860",
     "status": "completed"
    },
    "tags": []
   },
   "outputs": [
    {
     "name": "stdout",
     "output_type": "stream",
     "text": [
      "              precision    recall  f1-score   support\n",
      "\n",
      "           0       0.00      0.00      0.00       286\n",
      "           1       0.92      0.96      0.94      3838\n",
      "           2       0.79      0.92      0.85       833\n",
      "\n",
      "    accuracy                           0.90      4957\n",
      "   macro avg       0.57      0.63      0.60      4957\n",
      "weighted avg       0.85      0.90      0.87      4957\n",
      "\n"
     ]
    },
    {
     "name": "stderr",
     "output_type": "stream",
     "text": [
      "/opt/conda/lib/python3.10/site-packages/sklearn/metrics/_classification.py:1344: UndefinedMetricWarning: Precision and F-score are ill-defined and being set to 0.0 in labels with no predicted samples. Use `zero_division` parameter to control this behavior.\n",
      "  _warn_prf(average, modifier, msg_start, len(result))\n",
      "/opt/conda/lib/python3.10/site-packages/sklearn/metrics/_classification.py:1344: UndefinedMetricWarning: Precision and F-score are ill-defined and being set to 0.0 in labels with no predicted samples. Use `zero_division` parameter to control this behavior.\n",
      "  _warn_prf(average, modifier, msg_start, len(result))\n",
      "/opt/conda/lib/python3.10/site-packages/sklearn/metrics/_classification.py:1344: UndefinedMetricWarning: Precision and F-score are ill-defined and being set to 0.0 in labels with no predicted samples. Use `zero_division` parameter to control this behavior.\n",
      "  _warn_prf(average, modifier, msg_start, len(result))\n"
     ]
    }
   ],
   "source": [
    "from sklearn.metrics import classification_report\n",
    "print(classification_report(test_data['labels'],test_data['predictions']))"
   ]
  },
  {
   "cell_type": "code",
   "execution_count": null,
   "id": "31b6b40e",
   "metadata": {
    "papermill": {
     "duration": 0.017409,
     "end_time": "2024-07-29T18:42:46.447076",
     "exception": false,
     "start_time": "2024-07-29T18:42:46.429667",
     "status": "completed"
    },
    "tags": []
   },
   "outputs": [],
   "source": []
  }
 ],
 "metadata": {
  "kaggle": {
   "accelerator": "gpu",
   "dataSources": [
    {
     "datasetId": 5459070,
     "sourceId": 9053611,
     "sourceType": "datasetVersion"
    }
   ],
   "dockerImageVersionId": 30747,
   "isGpuEnabled": true,
   "isInternetEnabled": true,
   "language": "python",
   "sourceType": "notebook"
  },
  "kernelspec": {
   "display_name": "Python 3",
   "language": "python",
   "name": "python3"
  },
  "language_info": {
   "codemirror_mode": {
    "name": "ipython",
    "version": 3
   },
   "file_extension": ".py",
   "mimetype": "text/x-python",
   "name": "python",
   "nbconvert_exporter": "python",
   "pygments_lexer": "ipython3",
   "version": "3.10.13"
  },
  "papermill": {
   "default_parameters": {},
   "duration": 2787.319994,
   "end_time": "2024-07-29T18:42:50.029592",
   "environment_variables": {},
   "exception": null,
   "input_path": "__notebook__.ipynb",
   "output_path": "__notebook__.ipynb",
   "parameters": {},
   "start_time": "2024-07-29T17:56:22.709598",
   "version": "2.5.0"
  },
  "widgets": {
   "application/vnd.jupyter.widget-state+json": {
    "state": {
     "0024ef5ae8dc4c42a5f6d1e2a141a067": {
      "model_module": "@jupyter-widgets/base",
      "model_module_version": "1.2.0",
      "model_name": "LayoutModel",
      "state": {
       "_model_module": "@jupyter-widgets/base",
       "_model_module_version": "1.2.0",
       "_model_name": "LayoutModel",
       "_view_count": null,
       "_view_module": "@jupyter-widgets/base",
       "_view_module_version": "1.2.0",
       "_view_name": "LayoutView",
       "align_content": null,
       "align_items": null,
       "align_self": null,
       "border": null,
       "bottom": null,
       "display": null,
       "flex": null,
       "flex_flow": null,
       "grid_area": null,
       "grid_auto_columns": null,
       "grid_auto_flow": null,
       "grid_auto_rows": null,
       "grid_column": null,
       "grid_gap": null,
       "grid_row": null,
       "grid_template_areas": null,
       "grid_template_columns": null,
       "grid_template_rows": null,
       "height": null,
       "justify_content": null,
       "justify_items": null,
       "left": null,
       "margin": null,
       "max_height": null,
       "max_width": null,
       "min_height": null,
       "min_width": null,
       "object_fit": null,
       "object_position": null,
       "order": null,
       "overflow": null,
       "overflow_x": null,
       "overflow_y": null,
       "padding": null,
       "right": null,
       "top": null,
       "visibility": null,
       "width": null
      }
     },
     "02392d9e04c44b9bb17f10a83c5995d9": {
      "model_module": "@jupyter-widgets/controls",
      "model_module_version": "1.5.0",
      "model_name": "DescriptionStyleModel",
      "state": {
       "_model_module": "@jupyter-widgets/controls",
       "_model_module_version": "1.5.0",
       "_model_name": "DescriptionStyleModel",
       "_view_count": null,
       "_view_module": "@jupyter-widgets/base",
       "_view_module_version": "1.2.0",
       "_view_name": "StyleView",
       "description_width": ""
      }
     },
     "02718d9330654bec9b18b1ddc3bef6a9": {
      "model_module": "@jupyter-widgets/controls",
      "model_module_version": "1.5.0",
      "model_name": "HTMLModel",
      "state": {
       "_dom_classes": [],
       "_model_module": "@jupyter-widgets/controls",
       "_model_module_version": "1.5.0",
       "_model_name": "HTMLModel",
       "_view_count": null,
       "_view_module": "@jupyter-widgets/controls",
       "_view_module_version": "1.5.0",
       "_view_name": "HTMLView",
       "description": "",
       "description_tooltip": null,
       "layout": "IPY_MODEL_1a1498acc00c4b8b854f1e22115738e8",
       "placeholder": "​",
       "style": "IPY_MODEL_165f0e2ee71e46819e959013c37f7443",
       "value": " 1.36M/1.36M [00:00&lt;00:00, 7.79MB/s]"
      }
     },
     "03198b552a3e400dbba98e73f2236491": {
      "model_module": "@jupyter-widgets/base",
      "model_module_version": "1.2.0",
      "model_name": "LayoutModel",
      "state": {
       "_model_module": "@jupyter-widgets/base",
       "_model_module_version": "1.2.0",
       "_model_name": "LayoutModel",
       "_view_count": null,
       "_view_module": "@jupyter-widgets/base",
       "_view_module_version": "1.2.0",
       "_view_name": "LayoutView",
       "align_content": null,
       "align_items": null,
       "align_self": null,
       "border": null,
       "bottom": null,
       "display": null,
       "flex": null,
       "flex_flow": null,
       "grid_area": null,
       "grid_auto_columns": null,
       "grid_auto_flow": null,
       "grid_auto_rows": null,
       "grid_column": null,
       "grid_gap": null,
       "grid_row": null,
       "grid_template_areas": null,
       "grid_template_columns": null,
       "grid_template_rows": null,
       "height": null,
       "justify_content": null,
       "justify_items": null,
       "left": null,
       "margin": null,
       "max_height": null,
       "max_width": null,
       "min_height": null,
       "min_width": null,
       "object_fit": null,
       "object_position": null,
       "order": null,
       "overflow": null,
       "overflow_x": null,
       "overflow_y": null,
       "padding": null,
       "right": null,
       "top": null,
       "visibility": null,
       "width": null
      }
     },
     "05b737ece9e946beb2eb2396ad8c0eab": {
      "model_module": "@jupyter-widgets/controls",
      "model_module_version": "1.5.0",
      "model_name": "ProgressStyleModel",
      "state": {
       "_model_module": "@jupyter-widgets/controls",
       "_model_module_version": "1.5.0",
       "_model_name": "ProgressStyleModel",
       "_view_count": null,
       "_view_module": "@jupyter-widgets/base",
       "_view_module_version": "1.2.0",
       "_view_name": "StyleView",
       "bar_color": null,
       "description_width": ""
      }
     },
     "0e196e008f3e4a459661170863a16b5a": {
      "model_module": "@jupyter-widgets/controls",
      "model_module_version": "1.5.0",
      "model_name": "DescriptionStyleModel",
      "state": {
       "_model_module": "@jupyter-widgets/controls",
       "_model_module_version": "1.5.0",
       "_model_name": "DescriptionStyleModel",
       "_view_count": null,
       "_view_module": "@jupyter-widgets/base",
       "_view_module_version": "1.2.0",
       "_view_name": "StyleView",
       "description_width": ""
      }
     },
     "0f6bcfa16e03424e94fb37899c600bb9": {
      "model_module": "@jupyter-widgets/controls",
      "model_module_version": "1.5.0",
      "model_name": "HTMLModel",
      "state": {
       "_dom_classes": [],
       "_model_module": "@jupyter-widgets/controls",
       "_model_module_version": "1.5.0",
       "_model_name": "HTMLModel",
       "_view_count": null,
       "_view_module": "@jupyter-widgets/controls",
       "_view_module_version": "1.5.0",
       "_view_name": "HTMLView",
       "description": "",
       "description_tooltip": null,
       "layout": "IPY_MODEL_c2cd8bbadc81498f9915e667c1d387d7",
       "placeholder": "​",
       "style": "IPY_MODEL_b5d615efc7124a82bcbae66c3fcfb169",
       "value": " 26.0/26.0 [00:00&lt;00:00, 1.85kB/s]"
      }
     },
     "1259f60238be4fcf96bbd289f9b83cb4": {
      "model_module": "@jupyter-widgets/controls",
      "model_module_version": "1.5.0",
      "model_name": "HTMLModel",
      "state": {
       "_dom_classes": [],
       "_model_module": "@jupyter-widgets/controls",
       "_model_module_version": "1.5.0",
       "_model_name": "HTMLModel",
       "_view_count": null,
       "_view_module": "@jupyter-widgets/controls",
       "_view_module_version": "1.5.0",
       "_view_name": "HTMLView",
       "description": "",
       "description_tooltip": null,
       "layout": "IPY_MODEL_fa7cd4562209447982e29b17405ffc60",
       "placeholder": "​",
       "style": "IPY_MODEL_5add95d4a94248bba5630c5e05ebca32",
       "value": " 1.04M/1.04M [00:00&lt;00:00, 1.52MB/s]"
      }
     },
     "13510e5fbcee4b83942f9aadafd85a9a": {
      "model_module": "@jupyter-widgets/controls",
      "model_module_version": "1.5.0",
      "model_name": "HTMLModel",
      "state": {
       "_dom_classes": [],
       "_model_module": "@jupyter-widgets/controls",
       "_model_module_version": "1.5.0",
       "_model_name": "HTMLModel",
       "_view_count": null,
       "_view_module": "@jupyter-widgets/controls",
       "_view_module_version": "1.5.0",
       "_view_name": "HTMLView",
       "description": "",
       "description_tooltip": null,
       "layout": "IPY_MODEL_2bb73298611a4000a3a318c281225bd1",
       "placeholder": "​",
       "style": "IPY_MODEL_27c1b4df9d2b4f808ddfb33137a7a2d9",
       "value": "merges.txt: 100%"
      }
     },
     "165f0e2ee71e46819e959013c37f7443": {
      "model_module": "@jupyter-widgets/controls",
      "model_module_version": "1.5.0",
      "model_name": "DescriptionStyleModel",
      "state": {
       "_model_module": "@jupyter-widgets/controls",
       "_model_module_version": "1.5.0",
       "_model_name": "DescriptionStyleModel",
       "_view_count": null,
       "_view_module": "@jupyter-widgets/base",
       "_view_module_version": "1.2.0",
       "_view_name": "StyleView",
       "description_width": ""
      }
     },
     "176ce3c08d804760b2d3ba927602ef92": {
      "model_module": "@jupyter-widgets/base",
      "model_module_version": "1.2.0",
      "model_name": "LayoutModel",
      "state": {
       "_model_module": "@jupyter-widgets/base",
       "_model_module_version": "1.2.0",
       "_model_name": "LayoutModel",
       "_view_count": null,
       "_view_module": "@jupyter-widgets/base",
       "_view_module_version": "1.2.0",
       "_view_name": "LayoutView",
       "align_content": null,
       "align_items": null,
       "align_self": null,
       "border": null,
       "bottom": null,
       "display": null,
       "flex": null,
       "flex_flow": null,
       "grid_area": null,
       "grid_auto_columns": null,
       "grid_auto_flow": null,
       "grid_auto_rows": null,
       "grid_column": null,
       "grid_gap": null,
       "grid_row": null,
       "grid_template_areas": null,
       "grid_template_columns": null,
       "grid_template_rows": null,
       "height": null,
       "justify_content": null,
       "justify_items": null,
       "left": null,
       "margin": null,
       "max_height": null,
       "max_width": null,
       "min_height": null,
       "min_width": null,
       "object_fit": null,
       "object_position": null,
       "order": null,
       "overflow": null,
       "overflow_x": null,
       "overflow_y": null,
       "padding": null,
       "right": null,
       "top": null,
       "visibility": null,
       "width": null
      }
     },
     "1896afa39ebf47799ca4d96daff1dd36": {
      "model_module": "@jupyter-widgets/base",
      "model_module_version": "1.2.0",
      "model_name": "LayoutModel",
      "state": {
       "_model_module": "@jupyter-widgets/base",
       "_model_module_version": "1.2.0",
       "_model_name": "LayoutModel",
       "_view_count": null,
       "_view_module": "@jupyter-widgets/base",
       "_view_module_version": "1.2.0",
       "_view_name": "LayoutView",
       "align_content": null,
       "align_items": null,
       "align_self": null,
       "border": null,
       "bottom": null,
       "display": null,
       "flex": null,
       "flex_flow": null,
       "grid_area": null,
       "grid_auto_columns": null,
       "grid_auto_flow": null,
       "grid_auto_rows": null,
       "grid_column": null,
       "grid_gap": null,
       "grid_row": null,
       "grid_template_areas": null,
       "grid_template_columns": null,
       "grid_template_rows": null,
       "height": null,
       "justify_content": null,
       "justify_items": null,
       "left": null,
       "margin": null,
       "max_height": null,
       "max_width": null,
       "min_height": null,
       "min_width": null,
       "object_fit": null,
       "object_position": null,
       "order": null,
       "overflow": null,
       "overflow_x": null,
       "overflow_y": null,
       "padding": null,
       "right": null,
       "top": null,
       "visibility": null,
       "width": null
      }
     },
     "1a1498acc00c4b8b854f1e22115738e8": {
      "model_module": "@jupyter-widgets/base",
      "model_module_version": "1.2.0",
      "model_name": "LayoutModel",
      "state": {
       "_model_module": "@jupyter-widgets/base",
       "_model_module_version": "1.2.0",
       "_model_name": "LayoutModel",
       "_view_count": null,
       "_view_module": "@jupyter-widgets/base",
       "_view_module_version": "1.2.0",
       "_view_name": "LayoutView",
       "align_content": null,
       "align_items": null,
       "align_self": null,
       "border": null,
       "bottom": null,
       "display": null,
       "flex": null,
       "flex_flow": null,
       "grid_area": null,
       "grid_auto_columns": null,
       "grid_auto_flow": null,
       "grid_auto_rows": null,
       "grid_column": null,
       "grid_gap": null,
       "grid_row": null,
       "grid_template_areas": null,
       "grid_template_columns": null,
       "grid_template_rows": null,
       "height": null,
       "justify_content": null,
       "justify_items": null,
       "left": null,
       "margin": null,
       "max_height": null,
       "max_width": null,
       "min_height": null,
       "min_width": null,
       "object_fit": null,
       "object_position": null,
       "order": null,
       "overflow": null,
       "overflow_x": null,
       "overflow_y": null,
       "padding": null,
       "right": null,
       "top": null,
       "visibility": null,
       "width": null
      }
     },
     "221ac930de46449aaee159bb244f7c2f": {
      "model_module": "@jupyter-widgets/controls",
      "model_module_version": "1.5.0",
      "model_name": "FloatProgressModel",
      "state": {
       "_dom_classes": [],
       "_model_module": "@jupyter-widgets/controls",
       "_model_module_version": "1.5.0",
       "_model_name": "FloatProgressModel",
       "_view_count": null,
       "_view_module": "@jupyter-widgets/controls",
       "_view_module_version": "1.5.0",
       "_view_name": "ProgressView",
       "bar_style": "success",
       "description": "",
       "description_tooltip": null,
       "layout": "IPY_MODEL_a07415b2c16649a9bfa81e8fbef288c3",
       "max": 1355256.0,
       "min": 0.0,
       "orientation": "horizontal",
       "style": "IPY_MODEL_a2c505e8ade44e39ae14fa2a2ef9d2a6",
       "value": 1355256.0
      }
     },
     "25f76faa7d2748ab9d935f6068b2cc52": {
      "model_module": "@jupyter-widgets/controls",
      "model_module_version": "1.5.0",
      "model_name": "HTMLModel",
      "state": {
       "_dom_classes": [],
       "_model_module": "@jupyter-widgets/controls",
       "_model_module_version": "1.5.0",
       "_model_name": "HTMLModel",
       "_view_count": null,
       "_view_module": "@jupyter-widgets/controls",
       "_view_module_version": "1.5.0",
       "_view_name": "HTMLView",
       "description": "",
       "description_tooltip": null,
       "layout": "IPY_MODEL_60630e12b3c4437f8222e345e39eab3d",
       "placeholder": "​",
       "style": "IPY_MODEL_0e196e008f3e4a459661170863a16b5a",
       "value": "vocab.json: 100%"
      }
     },
     "269463f7a1c542eab250339b172cfa20": {
      "model_module": "@jupyter-widgets/controls",
      "model_module_version": "1.5.0",
      "model_name": "HTMLModel",
      "state": {
       "_dom_classes": [],
       "_model_module": "@jupyter-widgets/controls",
       "_model_module_version": "1.5.0",
       "_model_name": "HTMLModel",
       "_view_count": null,
       "_view_module": "@jupyter-widgets/controls",
       "_view_module_version": "1.5.0",
       "_view_name": "HTMLView",
       "description": "",
       "description_tooltip": null,
       "layout": "IPY_MODEL_1896afa39ebf47799ca4d96daff1dd36",
       "placeholder": "​",
       "style": "IPY_MODEL_7716bcbd064a421cb8f1726dbc7e113e",
       "value": "tokenizer.json: 100%"
      }
     },
     "27c1b4df9d2b4f808ddfb33137a7a2d9": {
      "model_module": "@jupyter-widgets/controls",
      "model_module_version": "1.5.0",
      "model_name": "DescriptionStyleModel",
      "state": {
       "_model_module": "@jupyter-widgets/controls",
       "_model_module_version": "1.5.0",
       "_model_name": "DescriptionStyleModel",
       "_view_count": null,
       "_view_module": "@jupyter-widgets/base",
       "_view_module_version": "1.2.0",
       "_view_name": "StyleView",
       "description_width": ""
      }
     },
     "2b8c3a676db84082a55264eca87ecf90": {
      "model_module": "@jupyter-widgets/controls",
      "model_module_version": "1.5.0",
      "model_name": "FloatProgressModel",
      "state": {
       "_dom_classes": [],
       "_model_module": "@jupyter-widgets/controls",
       "_model_module_version": "1.5.0",
       "_model_name": "FloatProgressModel",
       "_view_count": null,
       "_view_module": "@jupyter-widgets/controls",
       "_view_module_version": "1.5.0",
       "_view_name": "ProgressView",
       "bar_style": "success",
       "description": "",
       "description_tooltip": null,
       "layout": "IPY_MODEL_7093f320aa894c7e8abc22fa38fbc6a5",
       "max": 665.0,
       "min": 0.0,
       "orientation": "horizontal",
       "style": "IPY_MODEL_4901a5e491534c809f4a097b9239e000",
       "value": 665.0
      }
     },
     "2bb73298611a4000a3a318c281225bd1": {
      "model_module": "@jupyter-widgets/base",
      "model_module_version": "1.2.0",
      "model_name": "LayoutModel",
      "state": {
       "_model_module": "@jupyter-widgets/base",
       "_model_module_version": "1.2.0",
       "_model_name": "LayoutModel",
       "_view_count": null,
       "_view_module": "@jupyter-widgets/base",
       "_view_module_version": "1.2.0",
       "_view_name": "LayoutView",
       "align_content": null,
       "align_items": null,
       "align_self": null,
       "border": null,
       "bottom": null,
       "display": null,
       "flex": null,
       "flex_flow": null,
       "grid_area": null,
       "grid_auto_columns": null,
       "grid_auto_flow": null,
       "grid_auto_rows": null,
       "grid_column": null,
       "grid_gap": null,
       "grid_row": null,
       "grid_template_areas": null,
       "grid_template_columns": null,
       "grid_template_rows": null,
       "height": null,
       "justify_content": null,
       "justify_items": null,
       "left": null,
       "margin": null,
       "max_height": null,
       "max_width": null,
       "min_height": null,
       "min_width": null,
       "object_fit": null,
       "object_position": null,
       "order": null,
       "overflow": null,
       "overflow_x": null,
       "overflow_y": null,
       "padding": null,
       "right": null,
       "top": null,
       "visibility": null,
       "width": null
      }
     },
     "2c024bd8a8cf454d83dd2d7f39f3c9d4": {
      "model_module": "@jupyter-widgets/controls",
      "model_module_version": "1.5.0",
      "model_name": "HBoxModel",
      "state": {
       "_dom_classes": [],
       "_model_module": "@jupyter-widgets/controls",
       "_model_module_version": "1.5.0",
       "_model_name": "HBoxModel",
       "_view_count": null,
       "_view_module": "@jupyter-widgets/controls",
       "_view_module_version": "1.5.0",
       "_view_name": "HBoxView",
       "box_style": "",
       "children": [
        "IPY_MODEL_25f76faa7d2748ab9d935f6068b2cc52",
        "IPY_MODEL_4bc0473fec754bc889c9d40a9aa5f693",
        "IPY_MODEL_1259f60238be4fcf96bbd289f9b83cb4"
       ],
       "layout": "IPY_MODEL_5f004bef28d8418aac3765d35147adbc"
      }
     },
     "2dfb6c1d121540229c088d1a8fabcecf": {
      "model_module": "@jupyter-widgets/controls",
      "model_module_version": "1.5.0",
      "model_name": "DescriptionStyleModel",
      "state": {
       "_model_module": "@jupyter-widgets/controls",
       "_model_module_version": "1.5.0",
       "_model_name": "DescriptionStyleModel",
       "_view_count": null,
       "_view_module": "@jupyter-widgets/base",
       "_view_module_version": "1.2.0",
       "_view_name": "StyleView",
       "description_width": ""
      }
     },
     "2fb273ba46be4d5686a06921f597ad23": {
      "model_module": "@jupyter-widgets/controls",
      "model_module_version": "1.5.0",
      "model_name": "HBoxModel",
      "state": {
       "_dom_classes": [],
       "_model_module": "@jupyter-widgets/controls",
       "_model_module_version": "1.5.0",
       "_model_name": "HBoxModel",
       "_view_count": null,
       "_view_module": "@jupyter-widgets/controls",
       "_view_module_version": "1.5.0",
       "_view_name": "HBoxView",
       "box_style": "",
       "children": [
        "IPY_MODEL_13510e5fbcee4b83942f9aadafd85a9a",
        "IPY_MODEL_71bdfa38a45b41598bd045471d2511b5",
        "IPY_MODEL_8b55b34ec79242759ebdac563ffc9568"
       ],
       "layout": "IPY_MODEL_cd80f4843ab04bf597d879a7e3134137"
      }
     },
     "2ffc4d55cd4b4b65b1c04fc441913b1c": {
      "model_module": "@jupyter-widgets/controls",
      "model_module_version": "1.5.0",
      "model_name": "DescriptionStyleModel",
      "state": {
       "_model_module": "@jupyter-widgets/controls",
       "_model_module_version": "1.5.0",
       "_model_name": "DescriptionStyleModel",
       "_view_count": null,
       "_view_module": "@jupyter-widgets/base",
       "_view_module_version": "1.2.0",
       "_view_name": "StyleView",
       "description_width": ""
      }
     },
     "34c1204cb8e24c3f91d494de588c3676": {
      "model_module": "@jupyter-widgets/controls",
      "model_module_version": "1.5.0",
      "model_name": "HTMLModel",
      "state": {
       "_dom_classes": [],
       "_model_module": "@jupyter-widgets/controls",
       "_model_module_version": "1.5.0",
       "_model_name": "HTMLModel",
       "_view_count": null,
       "_view_module": "@jupyter-widgets/controls",
       "_view_module_version": "1.5.0",
       "_view_name": "HTMLView",
       "description": "",
       "description_tooltip": null,
       "layout": "IPY_MODEL_df26cb8c44a64d1c93187aae11398c58",
       "placeholder": "​",
       "style": "IPY_MODEL_ea6d3af241904aacab9dd8dfc291f5f9",
       "value": " 665/665 [00:00&lt;00:00, 58.1kB/s]"
      }
     },
     "355c28552fef45938f83d0b489433bee": {
      "model_module": "@jupyter-widgets/controls",
      "model_module_version": "1.5.0",
      "model_name": "HBoxModel",
      "state": {
       "_dom_classes": [],
       "_model_module": "@jupyter-widgets/controls",
       "_model_module_version": "1.5.0",
       "_model_name": "HBoxModel",
       "_view_count": null,
       "_view_module": "@jupyter-widgets/controls",
       "_view_module_version": "1.5.0",
       "_view_name": "HBoxView",
       "box_style": "",
       "children": [
        "IPY_MODEL_269463f7a1c542eab250339b172cfa20",
        "IPY_MODEL_221ac930de46449aaee159bb244f7c2f",
        "IPY_MODEL_02718d9330654bec9b18b1ddc3bef6a9"
       ],
       "layout": "IPY_MODEL_cf1fa05cadea4adba91835a8295c3cbf"
      }
     },
     "36d6d3508bf5456f852c521dd93a3858": {
      "model_module": "@jupyter-widgets/controls",
      "model_module_version": "1.5.0",
      "model_name": "HBoxModel",
      "state": {
       "_dom_classes": [],
       "_model_module": "@jupyter-widgets/controls",
       "_model_module_version": "1.5.0",
       "_model_name": "HBoxModel",
       "_view_count": null,
       "_view_module": "@jupyter-widgets/controls",
       "_view_module_version": "1.5.0",
       "_view_name": "HBoxView",
       "box_style": "",
       "children": [
        "IPY_MODEL_baa2cc5f70ff4a389e85855190e5afa7",
        "IPY_MODEL_2b8c3a676db84082a55264eca87ecf90",
        "IPY_MODEL_34c1204cb8e24c3f91d494de588c3676"
       ],
       "layout": "IPY_MODEL_3c90582a43b54cb5a7ab74ae440cc229"
      }
     },
     "3981dde97a7b4127b855730dcbddf70d": {
      "model_module": "@jupyter-widgets/controls",
      "model_module_version": "1.5.0",
      "model_name": "HTMLModel",
      "state": {
       "_dom_classes": [],
       "_model_module": "@jupyter-widgets/controls",
       "_model_module_version": "1.5.0",
       "_model_name": "HTMLModel",
       "_view_count": null,
       "_view_module": "@jupyter-widgets/controls",
       "_view_module_version": "1.5.0",
       "_view_name": "HTMLView",
       "description": "",
       "description_tooltip": null,
       "layout": "IPY_MODEL_0024ef5ae8dc4c42a5f6d1e2a141a067",
       "placeholder": "​",
       "style": "IPY_MODEL_02392d9e04c44b9bb17f10a83c5995d9",
       "value": "model.safetensors: 100%"
      }
     },
     "3c90582a43b54cb5a7ab74ae440cc229": {
      "model_module": "@jupyter-widgets/base",
      "model_module_version": "1.2.0",
      "model_name": "LayoutModel",
      "state": {
       "_model_module": "@jupyter-widgets/base",
       "_model_module_version": "1.2.0",
       "_model_name": "LayoutModel",
       "_view_count": null,
       "_view_module": "@jupyter-widgets/base",
       "_view_module_version": "1.2.0",
       "_view_name": "LayoutView",
       "align_content": null,
       "align_items": null,
       "align_self": null,
       "border": null,
       "bottom": null,
       "display": null,
       "flex": null,
       "flex_flow": null,
       "grid_area": null,
       "grid_auto_columns": null,
       "grid_auto_flow": null,
       "grid_auto_rows": null,
       "grid_column": null,
       "grid_gap": null,
       "grid_row": null,
       "grid_template_areas": null,
       "grid_template_columns": null,
       "grid_template_rows": null,
       "height": null,
       "justify_content": null,
       "justify_items": null,
       "left": null,
       "margin": null,
       "max_height": null,
       "max_width": null,
       "min_height": null,
       "min_width": null,
       "object_fit": null,
       "object_position": null,
       "order": null,
       "overflow": null,
       "overflow_x": null,
       "overflow_y": null,
       "padding": null,
       "right": null,
       "top": null,
       "visibility": null,
       "width": null
      }
     },
     "3d8e7ea90f114f798857ae178c82d45b": {
      "model_module": "@jupyter-widgets/base",
      "model_module_version": "1.2.0",
      "model_name": "LayoutModel",
      "state": {
       "_model_module": "@jupyter-widgets/base",
       "_model_module_version": "1.2.0",
       "_model_name": "LayoutModel",
       "_view_count": null,
       "_view_module": "@jupyter-widgets/base",
       "_view_module_version": "1.2.0",
       "_view_name": "LayoutView",
       "align_content": null,
       "align_items": null,
       "align_self": null,
       "border": null,
       "bottom": null,
       "display": null,
       "flex": null,
       "flex_flow": null,
       "grid_area": null,
       "grid_auto_columns": null,
       "grid_auto_flow": null,
       "grid_auto_rows": null,
       "grid_column": null,
       "grid_gap": null,
       "grid_row": null,
       "grid_template_areas": null,
       "grid_template_columns": null,
       "grid_template_rows": null,
       "height": null,
       "justify_content": null,
       "justify_items": null,
       "left": null,
       "margin": null,
       "max_height": null,
       "max_width": null,
       "min_height": null,
       "min_width": null,
       "object_fit": null,
       "object_position": null,
       "order": null,
       "overflow": null,
       "overflow_x": null,
       "overflow_y": null,
       "padding": null,
       "right": null,
       "top": null,
       "visibility": null,
       "width": null
      }
     },
     "4901a5e491534c809f4a097b9239e000": {
      "model_module": "@jupyter-widgets/controls",
      "model_module_version": "1.5.0",
      "model_name": "ProgressStyleModel",
      "state": {
       "_model_module": "@jupyter-widgets/controls",
       "_model_module_version": "1.5.0",
       "_model_name": "ProgressStyleModel",
       "_view_count": null,
       "_view_module": "@jupyter-widgets/base",
       "_view_module_version": "1.2.0",
       "_view_name": "StyleView",
       "bar_color": null,
       "description_width": ""
      }
     },
     "4bc0473fec754bc889c9d40a9aa5f693": {
      "model_module": "@jupyter-widgets/controls",
      "model_module_version": "1.5.0",
      "model_name": "FloatProgressModel",
      "state": {
       "_dom_classes": [],
       "_model_module": "@jupyter-widgets/controls",
       "_model_module_version": "1.5.0",
       "_model_name": "FloatProgressModel",
       "_view_count": null,
       "_view_module": "@jupyter-widgets/controls",
       "_view_module_version": "1.5.0",
       "_view_name": "ProgressView",
       "bar_style": "success",
       "description": "",
       "description_tooltip": null,
       "layout": "IPY_MODEL_55808efbb7b24033ba6b5b4dd6993738",
       "max": 1042301.0,
       "min": 0.0,
       "orientation": "horizontal",
       "style": "IPY_MODEL_05b737ece9e946beb2eb2396ad8c0eab",
       "value": 1042301.0
      }
     },
     "55808efbb7b24033ba6b5b4dd6993738": {
      "model_module": "@jupyter-widgets/base",
      "model_module_version": "1.2.0",
      "model_name": "LayoutModel",
      "state": {
       "_model_module": "@jupyter-widgets/base",
       "_model_module_version": "1.2.0",
       "_model_name": "LayoutModel",
       "_view_count": null,
       "_view_module": "@jupyter-widgets/base",
       "_view_module_version": "1.2.0",
       "_view_name": "LayoutView",
       "align_content": null,
       "align_items": null,
       "align_self": null,
       "border": null,
       "bottom": null,
       "display": null,
       "flex": null,
       "flex_flow": null,
       "grid_area": null,
       "grid_auto_columns": null,
       "grid_auto_flow": null,
       "grid_auto_rows": null,
       "grid_column": null,
       "grid_gap": null,
       "grid_row": null,
       "grid_template_areas": null,
       "grid_template_columns": null,
       "grid_template_rows": null,
       "height": null,
       "justify_content": null,
       "justify_items": null,
       "left": null,
       "margin": null,
       "max_height": null,
       "max_width": null,
       "min_height": null,
       "min_width": null,
       "object_fit": null,
       "object_position": null,
       "order": null,
       "overflow": null,
       "overflow_x": null,
       "overflow_y": null,
       "padding": null,
       "right": null,
       "top": null,
       "visibility": null,
       "width": null
      }
     },
     "568d070a39bf40a6a073fecafc7f8437": {
      "model_module": "@jupyter-widgets/controls",
      "model_module_version": "1.5.0",
      "model_name": "HBoxModel",
      "state": {
       "_dom_classes": [],
       "_model_module": "@jupyter-widgets/controls",
       "_model_module_version": "1.5.0",
       "_model_name": "HBoxModel",
       "_view_count": null,
       "_view_module": "@jupyter-widgets/controls",
       "_view_module_version": "1.5.0",
       "_view_name": "HBoxView",
       "box_style": "",
       "children": [
        "IPY_MODEL_74c43ce6324640dfaa091dd61e6f5f32",
        "IPY_MODEL_d095e953db5d459e87b8de0a38a6db12",
        "IPY_MODEL_0f6bcfa16e03424e94fb37899c600bb9"
       ],
       "layout": "IPY_MODEL_cb9e7b945f6048cfb29075c66fb3d957"
      }
     },
     "5a4506daf19b4e968b225811d386d750": {
      "model_module": "@jupyter-widgets/controls",
      "model_module_version": "1.5.0",
      "model_name": "ProgressStyleModel",
      "state": {
       "_model_module": "@jupyter-widgets/controls",
       "_model_module_version": "1.5.0",
       "_model_name": "ProgressStyleModel",
       "_view_count": null,
       "_view_module": "@jupyter-widgets/base",
       "_view_module_version": "1.2.0",
       "_view_name": "StyleView",
       "bar_color": null,
       "description_width": ""
      }
     },
     "5add95d4a94248bba5630c5e05ebca32": {
      "model_module": "@jupyter-widgets/controls",
      "model_module_version": "1.5.0",
      "model_name": "DescriptionStyleModel",
      "state": {
       "_model_module": "@jupyter-widgets/controls",
       "_model_module_version": "1.5.0",
       "_model_name": "DescriptionStyleModel",
       "_view_count": null,
       "_view_module": "@jupyter-widgets/base",
       "_view_module_version": "1.2.0",
       "_view_name": "StyleView",
       "description_width": ""
      }
     },
     "5f004bef28d8418aac3765d35147adbc": {
      "model_module": "@jupyter-widgets/base",
      "model_module_version": "1.2.0",
      "model_name": "LayoutModel",
      "state": {
       "_model_module": "@jupyter-widgets/base",
       "_model_module_version": "1.2.0",
       "_model_name": "LayoutModel",
       "_view_count": null,
       "_view_module": "@jupyter-widgets/base",
       "_view_module_version": "1.2.0",
       "_view_name": "LayoutView",
       "align_content": null,
       "align_items": null,
       "align_self": null,
       "border": null,
       "bottom": null,
       "display": null,
       "flex": null,
       "flex_flow": null,
       "grid_area": null,
       "grid_auto_columns": null,
       "grid_auto_flow": null,
       "grid_auto_rows": null,
       "grid_column": null,
       "grid_gap": null,
       "grid_row": null,
       "grid_template_areas": null,
       "grid_template_columns": null,
       "grid_template_rows": null,
       "height": null,
       "justify_content": null,
       "justify_items": null,
       "left": null,
       "margin": null,
       "max_height": null,
       "max_width": null,
       "min_height": null,
       "min_width": null,
       "object_fit": null,
       "object_position": null,
       "order": null,
       "overflow": null,
       "overflow_x": null,
       "overflow_y": null,
       "padding": null,
       "right": null,
       "top": null,
       "visibility": null,
       "width": null
      }
     },
     "60630e12b3c4437f8222e345e39eab3d": {
      "model_module": "@jupyter-widgets/base",
      "model_module_version": "1.2.0",
      "model_name": "LayoutModel",
      "state": {
       "_model_module": "@jupyter-widgets/base",
       "_model_module_version": "1.2.0",
       "_model_name": "LayoutModel",
       "_view_count": null,
       "_view_module": "@jupyter-widgets/base",
       "_view_module_version": "1.2.0",
       "_view_name": "LayoutView",
       "align_content": null,
       "align_items": null,
       "align_self": null,
       "border": null,
       "bottom": null,
       "display": null,
       "flex": null,
       "flex_flow": null,
       "grid_area": null,
       "grid_auto_columns": null,
       "grid_auto_flow": null,
       "grid_auto_rows": null,
       "grid_column": null,
       "grid_gap": null,
       "grid_row": null,
       "grid_template_areas": null,
       "grid_template_columns": null,
       "grid_template_rows": null,
       "height": null,
       "justify_content": null,
       "justify_items": null,
       "left": null,
       "margin": null,
       "max_height": null,
       "max_width": null,
       "min_height": null,
       "min_width": null,
       "object_fit": null,
       "object_position": null,
       "order": null,
       "overflow": null,
       "overflow_x": null,
       "overflow_y": null,
       "padding": null,
       "right": null,
       "top": null,
       "visibility": null,
       "width": null
      }
     },
     "678d91ba06ae40b483d467e8a914ec2b": {
      "model_module": "@jupyter-widgets/base",
      "model_module_version": "1.2.0",
      "model_name": "LayoutModel",
      "state": {
       "_model_module": "@jupyter-widgets/base",
       "_model_module_version": "1.2.0",
       "_model_name": "LayoutModel",
       "_view_count": null,
       "_view_module": "@jupyter-widgets/base",
       "_view_module_version": "1.2.0",
       "_view_name": "LayoutView",
       "align_content": null,
       "align_items": null,
       "align_self": null,
       "border": null,
       "bottom": null,
       "display": null,
       "flex": null,
       "flex_flow": null,
       "grid_area": null,
       "grid_auto_columns": null,
       "grid_auto_flow": null,
       "grid_auto_rows": null,
       "grid_column": null,
       "grid_gap": null,
       "grid_row": null,
       "grid_template_areas": null,
       "grid_template_columns": null,
       "grid_template_rows": null,
       "height": null,
       "justify_content": null,
       "justify_items": null,
       "left": null,
       "margin": null,
       "max_height": null,
       "max_width": null,
       "min_height": null,
       "min_width": null,
       "object_fit": null,
       "object_position": null,
       "order": null,
       "overflow": null,
       "overflow_x": null,
       "overflow_y": null,
       "padding": null,
       "right": null,
       "top": null,
       "visibility": null,
       "width": null
      }
     },
     "7093f320aa894c7e8abc22fa38fbc6a5": {
      "model_module": "@jupyter-widgets/base",
      "model_module_version": "1.2.0",
      "model_name": "LayoutModel",
      "state": {
       "_model_module": "@jupyter-widgets/base",
       "_model_module_version": "1.2.0",
       "_model_name": "LayoutModel",
       "_view_count": null,
       "_view_module": "@jupyter-widgets/base",
       "_view_module_version": "1.2.0",
       "_view_name": "LayoutView",
       "align_content": null,
       "align_items": null,
       "align_self": null,
       "border": null,
       "bottom": null,
       "display": null,
       "flex": null,
       "flex_flow": null,
       "grid_area": null,
       "grid_auto_columns": null,
       "grid_auto_flow": null,
       "grid_auto_rows": null,
       "grid_column": null,
       "grid_gap": null,
       "grid_row": null,
       "grid_template_areas": null,
       "grid_template_columns": null,
       "grid_template_rows": null,
       "height": null,
       "justify_content": null,
       "justify_items": null,
       "left": null,
       "margin": null,
       "max_height": null,
       "max_width": null,
       "min_height": null,
       "min_width": null,
       "object_fit": null,
       "object_position": null,
       "order": null,
       "overflow": null,
       "overflow_x": null,
       "overflow_y": null,
       "padding": null,
       "right": null,
       "top": null,
       "visibility": null,
       "width": null
      }
     },
     "71bdfa38a45b41598bd045471d2511b5": {
      "model_module": "@jupyter-widgets/controls",
      "model_module_version": "1.5.0",
      "model_name": "FloatProgressModel",
      "state": {
       "_dom_classes": [],
       "_model_module": "@jupyter-widgets/controls",
       "_model_module_version": "1.5.0",
       "_model_name": "FloatProgressModel",
       "_view_count": null,
       "_view_module": "@jupyter-widgets/controls",
       "_view_module_version": "1.5.0",
       "_view_name": "ProgressView",
       "bar_style": "success",
       "description": "",
       "description_tooltip": null,
       "layout": "IPY_MODEL_cc9cb62126bf49e3a5bf3872e9ac2d0f",
       "max": 456318.0,
       "min": 0.0,
       "orientation": "horizontal",
       "style": "IPY_MODEL_9a75ec72ee4e4a308fd4b4d296d1b73b",
       "value": 456318.0
      }
     },
     "74c43ce6324640dfaa091dd61e6f5f32": {
      "model_module": "@jupyter-widgets/controls",
      "model_module_version": "1.5.0",
      "model_name": "HTMLModel",
      "state": {
       "_dom_classes": [],
       "_model_module": "@jupyter-widgets/controls",
       "_model_module_version": "1.5.0",
       "_model_name": "HTMLModel",
       "_view_count": null,
       "_view_module": "@jupyter-widgets/controls",
       "_view_module_version": "1.5.0",
       "_view_name": "HTMLView",
       "description": "",
       "description_tooltip": null,
       "layout": "IPY_MODEL_3d8e7ea90f114f798857ae178c82d45b",
       "placeholder": "​",
       "style": "IPY_MODEL_7fe8b125aeef4dc7846d2b94139f66d9",
       "value": "tokenizer_config.json: 100%"
      }
     },
     "74ead1fa4ab54b40878818a5b715ec0b": {
      "model_module": "@jupyter-widgets/base",
      "model_module_version": "1.2.0",
      "model_name": "LayoutModel",
      "state": {
       "_model_module": "@jupyter-widgets/base",
       "_model_module_version": "1.2.0",
       "_model_name": "LayoutModel",
       "_view_count": null,
       "_view_module": "@jupyter-widgets/base",
       "_view_module_version": "1.2.0",
       "_view_name": "LayoutView",
       "align_content": null,
       "align_items": null,
       "align_self": null,
       "border": null,
       "bottom": null,
       "display": null,
       "flex": null,
       "flex_flow": null,
       "grid_area": null,
       "grid_auto_columns": null,
       "grid_auto_flow": null,
       "grid_auto_rows": null,
       "grid_column": null,
       "grid_gap": null,
       "grid_row": null,
       "grid_template_areas": null,
       "grid_template_columns": null,
       "grid_template_rows": null,
       "height": null,
       "justify_content": null,
       "justify_items": null,
       "left": null,
       "margin": null,
       "max_height": null,
       "max_width": null,
       "min_height": null,
       "min_width": null,
       "object_fit": null,
       "object_position": null,
       "order": null,
       "overflow": null,
       "overflow_x": null,
       "overflow_y": null,
       "padding": null,
       "right": null,
       "top": null,
       "visibility": null,
       "width": null
      }
     },
     "7716bcbd064a421cb8f1726dbc7e113e": {
      "model_module": "@jupyter-widgets/controls",
      "model_module_version": "1.5.0",
      "model_name": "DescriptionStyleModel",
      "state": {
       "_model_module": "@jupyter-widgets/controls",
       "_model_module_version": "1.5.0",
       "_model_name": "DescriptionStyleModel",
       "_view_count": null,
       "_view_module": "@jupyter-widgets/base",
       "_view_module_version": "1.2.0",
       "_view_name": "StyleView",
       "description_width": ""
      }
     },
     "7fe8b125aeef4dc7846d2b94139f66d9": {
      "model_module": "@jupyter-widgets/controls",
      "model_module_version": "1.5.0",
      "model_name": "DescriptionStyleModel",
      "state": {
       "_model_module": "@jupyter-widgets/controls",
       "_model_module_version": "1.5.0",
       "_model_name": "DescriptionStyleModel",
       "_view_count": null,
       "_view_module": "@jupyter-widgets/base",
       "_view_module_version": "1.2.0",
       "_view_name": "StyleView",
       "description_width": ""
      }
     },
     "811c0c20e62242a1a6466226313deb2c": {
      "model_module": "@jupyter-widgets/controls",
      "model_module_version": "1.5.0",
      "model_name": "ProgressStyleModel",
      "state": {
       "_model_module": "@jupyter-widgets/controls",
       "_model_module_version": "1.5.0",
       "_model_name": "ProgressStyleModel",
       "_view_count": null,
       "_view_module": "@jupyter-widgets/base",
       "_view_module_version": "1.2.0",
       "_view_name": "StyleView",
       "bar_color": null,
       "description_width": ""
      }
     },
     "8b55b34ec79242759ebdac563ffc9568": {
      "model_module": "@jupyter-widgets/controls",
      "model_module_version": "1.5.0",
      "model_name": "HTMLModel",
      "state": {
       "_dom_classes": [],
       "_model_module": "@jupyter-widgets/controls",
       "_model_module_version": "1.5.0",
       "_model_name": "HTMLModel",
       "_view_count": null,
       "_view_module": "@jupyter-widgets/controls",
       "_view_module_version": "1.5.0",
       "_view_name": "HTMLView",
       "description": "",
       "description_tooltip": null,
       "layout": "IPY_MODEL_176ce3c08d804760b2d3ba927602ef92",
       "placeholder": "​",
       "style": "IPY_MODEL_2dfb6c1d121540229c088d1a8fabcecf",
       "value": " 456k/456k [00:00&lt;00:00, 887kB/s]"
      }
     },
     "91428c2adafc4119aec3ba81ea64dfc5": {
      "model_module": "@jupyter-widgets/base",
      "model_module_version": "1.2.0",
      "model_name": "LayoutModel",
      "state": {
       "_model_module": "@jupyter-widgets/base",
       "_model_module_version": "1.2.0",
       "_model_name": "LayoutModel",
       "_view_count": null,
       "_view_module": "@jupyter-widgets/base",
       "_view_module_version": "1.2.0",
       "_view_name": "LayoutView",
       "align_content": null,
       "align_items": null,
       "align_self": null,
       "border": null,
       "bottom": null,
       "display": null,
       "flex": null,
       "flex_flow": null,
       "grid_area": null,
       "grid_auto_columns": null,
       "grid_auto_flow": null,
       "grid_auto_rows": null,
       "grid_column": null,
       "grid_gap": null,
       "grid_row": null,
       "grid_template_areas": null,
       "grid_template_columns": null,
       "grid_template_rows": null,
       "height": null,
       "justify_content": null,
       "justify_items": null,
       "left": null,
       "margin": null,
       "max_height": null,
       "max_width": null,
       "min_height": null,
       "min_width": null,
       "object_fit": null,
       "object_position": null,
       "order": null,
       "overflow": null,
       "overflow_x": null,
       "overflow_y": null,
       "padding": null,
       "right": null,
       "top": null,
       "visibility": null,
       "width": null
      }
     },
     "9a75ec72ee4e4a308fd4b4d296d1b73b": {
      "model_module": "@jupyter-widgets/controls",
      "model_module_version": "1.5.0",
      "model_name": "ProgressStyleModel",
      "state": {
       "_model_module": "@jupyter-widgets/controls",
       "_model_module_version": "1.5.0",
       "_model_name": "ProgressStyleModel",
       "_view_count": null,
       "_view_module": "@jupyter-widgets/base",
       "_view_module_version": "1.2.0",
       "_view_name": "StyleView",
       "bar_color": null,
       "description_width": ""
      }
     },
     "a07415b2c16649a9bfa81e8fbef288c3": {
      "model_module": "@jupyter-widgets/base",
      "model_module_version": "1.2.0",
      "model_name": "LayoutModel",
      "state": {
       "_model_module": "@jupyter-widgets/base",
       "_model_module_version": "1.2.0",
       "_model_name": "LayoutModel",
       "_view_count": null,
       "_view_module": "@jupyter-widgets/base",
       "_view_module_version": "1.2.0",
       "_view_name": "LayoutView",
       "align_content": null,
       "align_items": null,
       "align_self": null,
       "border": null,
       "bottom": null,
       "display": null,
       "flex": null,
       "flex_flow": null,
       "grid_area": null,
       "grid_auto_columns": null,
       "grid_auto_flow": null,
       "grid_auto_rows": null,
       "grid_column": null,
       "grid_gap": null,
       "grid_row": null,
       "grid_template_areas": null,
       "grid_template_columns": null,
       "grid_template_rows": null,
       "height": null,
       "justify_content": null,
       "justify_items": null,
       "left": null,
       "margin": null,
       "max_height": null,
       "max_width": null,
       "min_height": null,
       "min_width": null,
       "object_fit": null,
       "object_position": null,
       "order": null,
       "overflow": null,
       "overflow_x": null,
       "overflow_y": null,
       "padding": null,
       "right": null,
       "top": null,
       "visibility": null,
       "width": null
      }
     },
     "a16c1d4fc66a4a099529ec7b5b6e5aeb": {
      "model_module": "@jupyter-widgets/controls",
      "model_module_version": "1.5.0",
      "model_name": "FloatProgressModel",
      "state": {
       "_dom_classes": [],
       "_model_module": "@jupyter-widgets/controls",
       "_model_module_version": "1.5.0",
       "_model_name": "FloatProgressModel",
       "_view_count": null,
       "_view_module": "@jupyter-widgets/controls",
       "_view_module_version": "1.5.0",
       "_view_name": "ProgressView",
       "bar_style": "success",
       "description": "",
       "description_tooltip": null,
       "layout": "IPY_MODEL_03198b552a3e400dbba98e73f2236491",
       "max": 548105171.0,
       "min": 0.0,
       "orientation": "horizontal",
       "style": "IPY_MODEL_811c0c20e62242a1a6466226313deb2c",
       "value": 548105171.0
      }
     },
     "a2c505e8ade44e39ae14fa2a2ef9d2a6": {
      "model_module": "@jupyter-widgets/controls",
      "model_module_version": "1.5.0",
      "model_name": "ProgressStyleModel",
      "state": {
       "_model_module": "@jupyter-widgets/controls",
       "_model_module_version": "1.5.0",
       "_model_name": "ProgressStyleModel",
       "_view_count": null,
       "_view_module": "@jupyter-widgets/base",
       "_view_module_version": "1.2.0",
       "_view_name": "StyleView",
       "bar_color": null,
       "description_width": ""
      }
     },
     "a871bfc13544448bab7514808b1b569f": {
      "model_module": "@jupyter-widgets/base",
      "model_module_version": "1.2.0",
      "model_name": "LayoutModel",
      "state": {
       "_model_module": "@jupyter-widgets/base",
       "_model_module_version": "1.2.0",
       "_model_name": "LayoutModel",
       "_view_count": null,
       "_view_module": "@jupyter-widgets/base",
       "_view_module_version": "1.2.0",
       "_view_name": "LayoutView",
       "align_content": null,
       "align_items": null,
       "align_self": null,
       "border": null,
       "bottom": null,
       "display": null,
       "flex": null,
       "flex_flow": null,
       "grid_area": null,
       "grid_auto_columns": null,
       "grid_auto_flow": null,
       "grid_auto_rows": null,
       "grid_column": null,
       "grid_gap": null,
       "grid_row": null,
       "grid_template_areas": null,
       "grid_template_columns": null,
       "grid_template_rows": null,
       "height": null,
       "justify_content": null,
       "justify_items": null,
       "left": null,
       "margin": null,
       "max_height": null,
       "max_width": null,
       "min_height": null,
       "min_width": null,
       "object_fit": null,
       "object_position": null,
       "order": null,
       "overflow": null,
       "overflow_x": null,
       "overflow_y": null,
       "padding": null,
       "right": null,
       "top": null,
       "visibility": null,
       "width": null
      }
     },
     "af0086862c31431ea29d37165d59ac2e": {
      "model_module": "@jupyter-widgets/controls",
      "model_module_version": "1.5.0",
      "model_name": "DescriptionStyleModel",
      "state": {
       "_model_module": "@jupyter-widgets/controls",
       "_model_module_version": "1.5.0",
       "_model_name": "DescriptionStyleModel",
       "_view_count": null,
       "_view_module": "@jupyter-widgets/base",
       "_view_module_version": "1.2.0",
       "_view_name": "StyleView",
       "description_width": ""
      }
     },
     "b4a8c5eaae5949d7ac9121fcdaf9c873": {
      "model_module": "@jupyter-widgets/controls",
      "model_module_version": "1.5.0",
      "model_name": "HTMLModel",
      "state": {
       "_dom_classes": [],
       "_model_module": "@jupyter-widgets/controls",
       "_model_module_version": "1.5.0",
       "_model_name": "HTMLModel",
       "_view_count": null,
       "_view_module": "@jupyter-widgets/controls",
       "_view_module_version": "1.5.0",
       "_view_name": "HTMLView",
       "description": "",
       "description_tooltip": null,
       "layout": "IPY_MODEL_91428c2adafc4119aec3ba81ea64dfc5",
       "placeholder": "​",
       "style": "IPY_MODEL_2ffc4d55cd4b4b65b1c04fc441913b1c",
       "value": " 548M/548M [00:06&lt;00:00, 85.4MB/s]"
      }
     },
     "b5d615efc7124a82bcbae66c3fcfb169": {
      "model_module": "@jupyter-widgets/controls",
      "model_module_version": "1.5.0",
      "model_name": "DescriptionStyleModel",
      "state": {
       "_model_module": "@jupyter-widgets/controls",
       "_model_module_version": "1.5.0",
       "_model_name": "DescriptionStyleModel",
       "_view_count": null,
       "_view_module": "@jupyter-widgets/base",
       "_view_module_version": "1.2.0",
       "_view_name": "StyleView",
       "description_width": ""
      }
     },
     "baa2cc5f70ff4a389e85855190e5afa7": {
      "model_module": "@jupyter-widgets/controls",
      "model_module_version": "1.5.0",
      "model_name": "HTMLModel",
      "state": {
       "_dom_classes": [],
       "_model_module": "@jupyter-widgets/controls",
       "_model_module_version": "1.5.0",
       "_model_name": "HTMLModel",
       "_view_count": null,
       "_view_module": "@jupyter-widgets/controls",
       "_view_module_version": "1.5.0",
       "_view_name": "HTMLView",
       "description": "",
       "description_tooltip": null,
       "layout": "IPY_MODEL_a871bfc13544448bab7514808b1b569f",
       "placeholder": "​",
       "style": "IPY_MODEL_af0086862c31431ea29d37165d59ac2e",
       "value": "config.json: 100%"
      }
     },
     "c2cd8bbadc81498f9915e667c1d387d7": {
      "model_module": "@jupyter-widgets/base",
      "model_module_version": "1.2.0",
      "model_name": "LayoutModel",
      "state": {
       "_model_module": "@jupyter-widgets/base",
       "_model_module_version": "1.2.0",
       "_model_name": "LayoutModel",
       "_view_count": null,
       "_view_module": "@jupyter-widgets/base",
       "_view_module_version": "1.2.0",
       "_view_name": "LayoutView",
       "align_content": null,
       "align_items": null,
       "align_self": null,
       "border": null,
       "bottom": null,
       "display": null,
       "flex": null,
       "flex_flow": null,
       "grid_area": null,
       "grid_auto_columns": null,
       "grid_auto_flow": null,
       "grid_auto_rows": null,
       "grid_column": null,
       "grid_gap": null,
       "grid_row": null,
       "grid_template_areas": null,
       "grid_template_columns": null,
       "grid_template_rows": null,
       "height": null,
       "justify_content": null,
       "justify_items": null,
       "left": null,
       "margin": null,
       "max_height": null,
       "max_width": null,
       "min_height": null,
       "min_width": null,
       "object_fit": null,
       "object_position": null,
       "order": null,
       "overflow": null,
       "overflow_x": null,
       "overflow_y": null,
       "padding": null,
       "right": null,
       "top": null,
       "visibility": null,
       "width": null
      }
     },
     "c813bcba9bef415f9b17e4713f5bb811": {
      "model_module": "@jupyter-widgets/controls",
      "model_module_version": "1.5.0",
      "model_name": "HBoxModel",
      "state": {
       "_dom_classes": [],
       "_model_module": "@jupyter-widgets/controls",
       "_model_module_version": "1.5.0",
       "_model_name": "HBoxModel",
       "_view_count": null,
       "_view_module": "@jupyter-widgets/controls",
       "_view_module_version": "1.5.0",
       "_view_name": "HBoxView",
       "box_style": "",
       "children": [
        "IPY_MODEL_3981dde97a7b4127b855730dcbddf70d",
        "IPY_MODEL_a16c1d4fc66a4a099529ec7b5b6e5aeb",
        "IPY_MODEL_b4a8c5eaae5949d7ac9121fcdaf9c873"
       ],
       "layout": "IPY_MODEL_74ead1fa4ab54b40878818a5b715ec0b"
      }
     },
     "cb9e7b945f6048cfb29075c66fb3d957": {
      "model_module": "@jupyter-widgets/base",
      "model_module_version": "1.2.0",
      "model_name": "LayoutModel",
      "state": {
       "_model_module": "@jupyter-widgets/base",
       "_model_module_version": "1.2.0",
       "_model_name": "LayoutModel",
       "_view_count": null,
       "_view_module": "@jupyter-widgets/base",
       "_view_module_version": "1.2.0",
       "_view_name": "LayoutView",
       "align_content": null,
       "align_items": null,
       "align_self": null,
       "border": null,
       "bottom": null,
       "display": null,
       "flex": null,
       "flex_flow": null,
       "grid_area": null,
       "grid_auto_columns": null,
       "grid_auto_flow": null,
       "grid_auto_rows": null,
       "grid_column": null,
       "grid_gap": null,
       "grid_row": null,
       "grid_template_areas": null,
       "grid_template_columns": null,
       "grid_template_rows": null,
       "height": null,
       "justify_content": null,
       "justify_items": null,
       "left": null,
       "margin": null,
       "max_height": null,
       "max_width": null,
       "min_height": null,
       "min_width": null,
       "object_fit": null,
       "object_position": null,
       "order": null,
       "overflow": null,
       "overflow_x": null,
       "overflow_y": null,
       "padding": null,
       "right": null,
       "top": null,
       "visibility": null,
       "width": null
      }
     },
     "cc9cb62126bf49e3a5bf3872e9ac2d0f": {
      "model_module": "@jupyter-widgets/base",
      "model_module_version": "1.2.0",
      "model_name": "LayoutModel",
      "state": {
       "_model_module": "@jupyter-widgets/base",
       "_model_module_version": "1.2.0",
       "_model_name": "LayoutModel",
       "_view_count": null,
       "_view_module": "@jupyter-widgets/base",
       "_view_module_version": "1.2.0",
       "_view_name": "LayoutView",
       "align_content": null,
       "align_items": null,
       "align_self": null,
       "border": null,
       "bottom": null,
       "display": null,
       "flex": null,
       "flex_flow": null,
       "grid_area": null,
       "grid_auto_columns": null,
       "grid_auto_flow": null,
       "grid_auto_rows": null,
       "grid_column": null,
       "grid_gap": null,
       "grid_row": null,
       "grid_template_areas": null,
       "grid_template_columns": null,
       "grid_template_rows": null,
       "height": null,
       "justify_content": null,
       "justify_items": null,
       "left": null,
       "margin": null,
       "max_height": null,
       "max_width": null,
       "min_height": null,
       "min_width": null,
       "object_fit": null,
       "object_position": null,
       "order": null,
       "overflow": null,
       "overflow_x": null,
       "overflow_y": null,
       "padding": null,
       "right": null,
       "top": null,
       "visibility": null,
       "width": null
      }
     },
     "cd80f4843ab04bf597d879a7e3134137": {
      "model_module": "@jupyter-widgets/base",
      "model_module_version": "1.2.0",
      "model_name": "LayoutModel",
      "state": {
       "_model_module": "@jupyter-widgets/base",
       "_model_module_version": "1.2.0",
       "_model_name": "LayoutModel",
       "_view_count": null,
       "_view_module": "@jupyter-widgets/base",
       "_view_module_version": "1.2.0",
       "_view_name": "LayoutView",
       "align_content": null,
       "align_items": null,
       "align_self": null,
       "border": null,
       "bottom": null,
       "display": null,
       "flex": null,
       "flex_flow": null,
       "grid_area": null,
       "grid_auto_columns": null,
       "grid_auto_flow": null,
       "grid_auto_rows": null,
       "grid_column": null,
       "grid_gap": null,
       "grid_row": null,
       "grid_template_areas": null,
       "grid_template_columns": null,
       "grid_template_rows": null,
       "height": null,
       "justify_content": null,
       "justify_items": null,
       "left": null,
       "margin": null,
       "max_height": null,
       "max_width": null,
       "min_height": null,
       "min_width": null,
       "object_fit": null,
       "object_position": null,
       "order": null,
       "overflow": null,
       "overflow_x": null,
       "overflow_y": null,
       "padding": null,
       "right": null,
       "top": null,
       "visibility": null,
       "width": null
      }
     },
     "cf1fa05cadea4adba91835a8295c3cbf": {
      "model_module": "@jupyter-widgets/base",
      "model_module_version": "1.2.0",
      "model_name": "LayoutModel",
      "state": {
       "_model_module": "@jupyter-widgets/base",
       "_model_module_version": "1.2.0",
       "_model_name": "LayoutModel",
       "_view_count": null,
       "_view_module": "@jupyter-widgets/base",
       "_view_module_version": "1.2.0",
       "_view_name": "LayoutView",
       "align_content": null,
       "align_items": null,
       "align_self": null,
       "border": null,
       "bottom": null,
       "display": null,
       "flex": null,
       "flex_flow": null,
       "grid_area": null,
       "grid_auto_columns": null,
       "grid_auto_flow": null,
       "grid_auto_rows": null,
       "grid_column": null,
       "grid_gap": null,
       "grid_row": null,
       "grid_template_areas": null,
       "grid_template_columns": null,
       "grid_template_rows": null,
       "height": null,
       "justify_content": null,
       "justify_items": null,
       "left": null,
       "margin": null,
       "max_height": null,
       "max_width": null,
       "min_height": null,
       "min_width": null,
       "object_fit": null,
       "object_position": null,
       "order": null,
       "overflow": null,
       "overflow_x": null,
       "overflow_y": null,
       "padding": null,
       "right": null,
       "top": null,
       "visibility": null,
       "width": null
      }
     },
     "d095e953db5d459e87b8de0a38a6db12": {
      "model_module": "@jupyter-widgets/controls",
      "model_module_version": "1.5.0",
      "model_name": "FloatProgressModel",
      "state": {
       "_dom_classes": [],
       "_model_module": "@jupyter-widgets/controls",
       "_model_module_version": "1.5.0",
       "_model_name": "FloatProgressModel",
       "_view_count": null,
       "_view_module": "@jupyter-widgets/controls",
       "_view_module_version": "1.5.0",
       "_view_name": "ProgressView",
       "bar_style": "success",
       "description": "",
       "description_tooltip": null,
       "layout": "IPY_MODEL_678d91ba06ae40b483d467e8a914ec2b",
       "max": 26.0,
       "min": 0.0,
       "orientation": "horizontal",
       "style": "IPY_MODEL_5a4506daf19b4e968b225811d386d750",
       "value": 26.0
      }
     },
     "df26cb8c44a64d1c93187aae11398c58": {
      "model_module": "@jupyter-widgets/base",
      "model_module_version": "1.2.0",
      "model_name": "LayoutModel",
      "state": {
       "_model_module": "@jupyter-widgets/base",
       "_model_module_version": "1.2.0",
       "_model_name": "LayoutModel",
       "_view_count": null,
       "_view_module": "@jupyter-widgets/base",
       "_view_module_version": "1.2.0",
       "_view_name": "LayoutView",
       "align_content": null,
       "align_items": null,
       "align_self": null,
       "border": null,
       "bottom": null,
       "display": null,
       "flex": null,
       "flex_flow": null,
       "grid_area": null,
       "grid_auto_columns": null,
       "grid_auto_flow": null,
       "grid_auto_rows": null,
       "grid_column": null,
       "grid_gap": null,
       "grid_row": null,
       "grid_template_areas": null,
       "grid_template_columns": null,
       "grid_template_rows": null,
       "height": null,
       "justify_content": null,
       "justify_items": null,
       "left": null,
       "margin": null,
       "max_height": null,
       "max_width": null,
       "min_height": null,
       "min_width": null,
       "object_fit": null,
       "object_position": null,
       "order": null,
       "overflow": null,
       "overflow_x": null,
       "overflow_y": null,
       "padding": null,
       "right": null,
       "top": null,
       "visibility": null,
       "width": null
      }
     },
     "ea6d3af241904aacab9dd8dfc291f5f9": {
      "model_module": "@jupyter-widgets/controls",
      "model_module_version": "1.5.0",
      "model_name": "DescriptionStyleModel",
      "state": {
       "_model_module": "@jupyter-widgets/controls",
       "_model_module_version": "1.5.0",
       "_model_name": "DescriptionStyleModel",
       "_view_count": null,
       "_view_module": "@jupyter-widgets/base",
       "_view_module_version": "1.2.0",
       "_view_name": "StyleView",
       "description_width": ""
      }
     },
     "fa7cd4562209447982e29b17405ffc60": {
      "model_module": "@jupyter-widgets/base",
      "model_module_version": "1.2.0",
      "model_name": "LayoutModel",
      "state": {
       "_model_module": "@jupyter-widgets/base",
       "_model_module_version": "1.2.0",
       "_model_name": "LayoutModel",
       "_view_count": null,
       "_view_module": "@jupyter-widgets/base",
       "_view_module_version": "1.2.0",
       "_view_name": "LayoutView",
       "align_content": null,
       "align_items": null,
       "align_self": null,
       "border": null,
       "bottom": null,
       "display": null,
       "flex": null,
       "flex_flow": null,
       "grid_area": null,
       "grid_auto_columns": null,
       "grid_auto_flow": null,
       "grid_auto_rows": null,
       "grid_column": null,
       "grid_gap": null,
       "grid_row": null,
       "grid_template_areas": null,
       "grid_template_columns": null,
       "grid_template_rows": null,
       "height": null,
       "justify_content": null,
       "justify_items": null,
       "left": null,
       "margin": null,
       "max_height": null,
       "max_width": null,
       "min_height": null,
       "min_width": null,
       "object_fit": null,
       "object_position": null,
       "order": null,
       "overflow": null,
       "overflow_x": null,
       "overflow_y": null,
       "padding": null,
       "right": null,
       "top": null,
       "visibility": null,
       "width": null
      }
     }
    },
    "version_major": 2,
    "version_minor": 0
   }
  }
 },
 "nbformat": 4,
 "nbformat_minor": 5
}
