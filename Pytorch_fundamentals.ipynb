{
  "nbformat": 4,
  "nbformat_minor": 0,
  "metadata": {
    "colab": {
      "provenance": [],
      "gpuType": "T4"
    },
    "kernelspec": {
      "name": "python3",
      "display_name": "Python 3"
    },
    "language_info": {
      "name": "python"
    },
    "accelerator": "GPU"
  },
  "cells": [
    {
      "cell_type": "code",
      "execution_count": null,
      "metadata": {
        "id": "RBWVFZlxIKsm"
      },
      "outputs": [],
      "source": [
        "import torch"
      ]
    },
    {
      "cell_type": "code",
      "source": [
        "torch.__version__"
      ],
      "metadata": {
        "colab": {
          "base_uri": "https://localhost:8080/",
          "height": 36
        },
        "id": "8q_FgRt8IbU-",
        "outputId": "90e23c1d-e0c7-4919-b267-8ece97208d7d"
      },
      "execution_count": null,
      "outputs": [
        {
          "output_type": "execute_result",
          "data": {
            "text/plain": [
              "'2.2.1+cu121'"
            ],
            "application/vnd.google.colaboratory.intrinsic+json": {
              "type": "string"
            }
          },
          "metadata": {},
          "execution_count": 2
        }
      ]
    },
    {
      "cell_type": "markdown",
      "source": [
        "# Pytorch tensors"
      ],
      "metadata": {
        "id": "pxLaCo9zIrRR"
      }
    },
    {
      "cell_type": "code",
      "source": [
        "x=torch.tensor([1])\n",
        "y=torch.tensor([[1],[2]])\n",
        "x,y"
      ],
      "metadata": {
        "colab": {
          "base_uri": "https://localhost:8080/"
        },
        "id": "VZPHGC_PImpg",
        "outputId": "7fa98e45-3b8e-4de8-d3e8-8fc50e06e324"
      },
      "execution_count": null,
      "outputs": [
        {
          "output_type": "execute_result",
          "data": {
            "text/plain": [
              "(tensor([1]),\n",
              " tensor([[1],\n",
              "         [2]]))"
            ]
          },
          "metadata": {},
          "execution_count": 3
        }
      ]
    },
    {
      "cell_type": "code",
      "source": [
        "x.shape,y.shape"
      ],
      "metadata": {
        "colab": {
          "base_uri": "https://localhost:8080/"
        },
        "id": "rIWN4WMBJSBz",
        "outputId": "81c2663d-f48e-43aa-87bc-b527c00e1e60"
      },
      "execution_count": null,
      "outputs": [
        {
          "output_type": "execute_result",
          "data": {
            "text/plain": [
              "(torch.Size([1]), torch.Size([2, 1]))"
            ]
          },
          "metadata": {},
          "execution_count": 4
        }
      ]
    },
    {
      "cell_type": "code",
      "source": [
        "x.dtype,y.dtype"
      ],
      "metadata": {
        "colab": {
          "base_uri": "https://localhost:8080/"
        },
        "id": "lN_vJ8yAJadp",
        "outputId": "14a49a61-8655-485d-afb5-3083039975d6"
      },
      "execution_count": null,
      "outputs": [
        {
          "output_type": "execute_result",
          "data": {
            "text/plain": [
              "(torch.int64, torch.int64)"
            ]
          },
          "metadata": {},
          "execution_count": 5
        }
      ]
    },
    {
      "cell_type": "code",
      "source": [
        "torch.zeros((2,4))"
      ],
      "metadata": {
        "colab": {
          "base_uri": "https://localhost:8080/"
        },
        "id": "_6YMYx0AJbua",
        "outputId": "9b53e125-9a87-498c-88db-2efbef86a9ae"
      },
      "execution_count": null,
      "outputs": [
        {
          "output_type": "execute_result",
          "data": {
            "text/plain": [
              "tensor([[0., 0., 0., 0.],\n",
              "        [0., 0., 0., 0.]])"
            ]
          },
          "metadata": {},
          "execution_count": 6
        }
      ]
    },
    {
      "cell_type": "code",
      "source": [
        "torch.ones((1,2))"
      ],
      "metadata": {
        "colab": {
          "base_uri": "https://localhost:8080/"
        },
        "id": "joC-pFKfJwl0",
        "outputId": "6098b6c1-ee5f-4d2b-d4ab-63c9fa4c3f7f"
      },
      "execution_count": null,
      "outputs": [
        {
          "output_type": "execute_result",
          "data": {
            "text/plain": [
              "tensor([[1., 1.]])"
            ]
          },
          "metadata": {},
          "execution_count": 7
        }
      ]
    },
    {
      "cell_type": "code",
      "source": [
        "torch.rand(4,4)"
      ],
      "metadata": {
        "colab": {
          "base_uri": "https://localhost:8080/"
        },
        "id": "CzSnGbWAJyUd",
        "outputId": "14686573-cae4-46c0-f525-b8e3c63ba59b"
      },
      "execution_count": null,
      "outputs": [
        {
          "output_type": "execute_result",
          "data": {
            "text/plain": [
              "tensor([[0.0320, 0.9824, 0.3085, 0.6117],\n",
              "        [0.1110, 0.7602, 0.4272, 0.5241],\n",
              "        [0.5913, 0.8761, 0.1076, 0.3753],\n",
              "        [0.6312, 0.1861, 0.9493, 0.3941]])"
            ]
          },
          "metadata": {},
          "execution_count": 8
        }
      ]
    },
    {
      "cell_type": "code",
      "source": [
        "torch.randint(low=0,high=10,size=(5,5))"
      ],
      "metadata": {
        "colab": {
          "base_uri": "https://localhost:8080/"
        },
        "id": "TVOQPY27J3Ji",
        "outputId": "876f568d-fb50-4f76-b121-3847f98c0d02"
      },
      "execution_count": null,
      "outputs": [
        {
          "output_type": "execute_result",
          "data": {
            "text/plain": [
              "tensor([[3, 1, 2, 7, 5],\n",
              "        [7, 8, 6, 9, 4],\n",
              "        [1, 3, 8, 9, 3],\n",
              "        [4, 1, 8, 3, 1],\n",
              "        [7, 1, 6, 5, 2]])"
            ]
          },
          "metadata": {},
          "execution_count": 9
        }
      ]
    },
    {
      "cell_type": "code",
      "source": [
        "import numpy as np\n",
        "torch.tensor(np.zeros((3,3)))"
      ],
      "metadata": {
        "colab": {
          "base_uri": "https://localhost:8080/"
        },
        "id": "cK4oDt7_J9_I",
        "outputId": "c8a8fbde-85ea-4466-913a-bb4fc896549c"
      },
      "execution_count": null,
      "outputs": [
        {
          "output_type": "execute_result",
          "data": {
            "text/plain": [
              "tensor([[0., 0., 0.],\n",
              "        [0., 0., 0.],\n",
              "        [0., 0., 0.]], dtype=torch.float64)"
            ]
          },
          "metadata": {},
          "execution_count": 10
        }
      ]
    },
    {
      "cell_type": "markdown",
      "source": [
        "# Operations on tensors"
      ],
      "metadata": {
        "id": "4WKPqmnMKah3"
      }
    },
    {
      "cell_type": "code",
      "source": [
        "torch.ones((5,5))*00.1"
      ],
      "metadata": {
        "colab": {
          "base_uri": "https://localhost:8080/"
        },
        "id": "OruSwPDVKNm3",
        "outputId": "3185abba-c9f4-4e17-86ee-888d2c73f593"
      },
      "execution_count": null,
      "outputs": [
        {
          "output_type": "execute_result",
          "data": {
            "text/plain": [
              "tensor([[0.1000, 0.1000, 0.1000, 0.1000, 0.1000],\n",
              "        [0.1000, 0.1000, 0.1000, 0.1000, 0.1000],\n",
              "        [0.1000, 0.1000, 0.1000, 0.1000, 0.1000],\n",
              "        [0.1000, 0.1000, 0.1000, 0.1000, 0.1000],\n",
              "        [0.1000, 0.1000, 0.1000, 0.1000, 0.1000]])"
            ]
          },
          "metadata": {},
          "execution_count": 11
        }
      ]
    },
    {
      "cell_type": "code",
      "source": [
        "# torch.ones((5,5))+00.1\n",
        "torch.ones((5,5)).add(00.1)"
      ],
      "metadata": {
        "colab": {
          "base_uri": "https://localhost:8080/"
        },
        "id": "ddOcgf-SKhy0",
        "outputId": "f683b2e7-79b6-43e7-b023-80d03fe64d47"
      },
      "execution_count": null,
      "outputs": [
        {
          "output_type": "execute_result",
          "data": {
            "text/plain": [
              "tensor([[1.1000, 1.1000, 1.1000, 1.1000, 1.1000],\n",
              "        [1.1000, 1.1000, 1.1000, 1.1000, 1.1000],\n",
              "        [1.1000, 1.1000, 1.1000, 1.1000, 1.1000],\n",
              "        [1.1000, 1.1000, 1.1000, 1.1000, 1.1000],\n",
              "        [1.1000, 1.1000, 1.1000, 1.1000, 1.1000]])"
            ]
          },
          "metadata": {},
          "execution_count": 12
        }
      ]
    },
    {
      "cell_type": "code",
      "source": [
        "torch.ones((5,2)).view(10,1)"
      ],
      "metadata": {
        "colab": {
          "base_uri": "https://localhost:8080/"
        },
        "id": "dF7zviRYKr3S",
        "outputId": "f225fa28-ef1e-4216-c6da-3ca26cd8af52"
      },
      "execution_count": null,
      "outputs": [
        {
          "output_type": "execute_result",
          "data": {
            "text/plain": [
              "tensor([[1.],\n",
              "        [1.],\n",
              "        [1.],\n",
              "        [1.],\n",
              "        [1.],\n",
              "        [1.],\n",
              "        [1.],\n",
              "        [1.],\n",
              "        [1.],\n",
              "        [1.]])"
            ]
          },
          "metadata": {},
          "execution_count": 13
        }
      ]
    },
    {
      "cell_type": "code",
      "source": [
        "torch.ones((5,5)).squeeze(1)"
      ],
      "metadata": {
        "colab": {
          "base_uri": "https://localhost:8080/"
        },
        "id": "cB6oopGiLAAv",
        "outputId": "177c9efa-bea0-4268-c9e9-f108c6dd744f"
      },
      "execution_count": null,
      "outputs": [
        {
          "output_type": "execute_result",
          "data": {
            "text/plain": [
              "tensor([[1., 1., 1., 1., 1.],\n",
              "        [1., 1., 1., 1., 1.],\n",
              "        [1., 1., 1., 1., 1.],\n",
              "        [1., 1., 1., 1., 1.],\n",
              "        [1., 1., 1., 1., 1.]])"
            ]
          },
          "metadata": {},
          "execution_count": 14
        }
      ]
    },
    {
      "cell_type": "code",
      "source": [
        "x=torch.tensor([1,2,3])\n",
        "y=torch.tensor([3,4,2])\n",
        "x.matmul(y)"
      ],
      "metadata": {
        "colab": {
          "base_uri": "https://localhost:8080/"
        },
        "id": "PZTscodFLJVd",
        "outputId": "e9bf3a17-954a-4359-a083-8aa608d7e99b"
      },
      "execution_count": null,
      "outputs": [
        {
          "output_type": "execute_result",
          "data": {
            "text/plain": [
              "tensor(17)"
            ]
          },
          "metadata": {},
          "execution_count": 15
        }
      ]
    },
    {
      "cell_type": "code",
      "source": [
        "x@y"
      ],
      "metadata": {
        "colab": {
          "base_uri": "https://localhost:8080/"
        },
        "id": "ZtBfgOy-Lsi4",
        "outputId": "b41118ad-9756-40ae-cd9f-dcd5eeadf5a5"
      },
      "execution_count": null,
      "outputs": [
        {
          "output_type": "execute_result",
          "data": {
            "text/plain": [
              "tensor(17)"
            ]
          },
          "metadata": {},
          "execution_count": 16
        }
      ]
    },
    {
      "cell_type": "code",
      "source": [
        "torch.matmul(x,y)"
      ],
      "metadata": {
        "colab": {
          "base_uri": "https://localhost:8080/"
        },
        "id": "hFfr5s9GLwPi",
        "outputId": "339a0a24-1c6b-4d01-b3f6-9a32b7d38da6"
      },
      "execution_count": null,
      "outputs": [
        {
          "output_type": "execute_result",
          "data": {
            "text/plain": [
              "tensor(17)"
            ]
          },
          "metadata": {},
          "execution_count": 17
        }
      ]
    },
    {
      "cell_type": "code",
      "source": [
        "torch.cat((x,y),axis=-1)"
      ],
      "metadata": {
        "colab": {
          "base_uri": "https://localhost:8080/"
        },
        "id": "uQHs5LFFLzfw",
        "outputId": "edff1a5a-1523-435b-dba4-7764ae0ca22b"
      },
      "execution_count": null,
      "outputs": [
        {
          "output_type": "execute_result",
          "data": {
            "text/plain": [
              "tensor([1, 2, 3, 3, 4, 2])"
            ]
          },
          "metadata": {},
          "execution_count": 18
        }
      ]
    },
    {
      "cell_type": "code",
      "source": [
        "x.shape,x.max()"
      ],
      "metadata": {
        "colab": {
          "base_uri": "https://localhost:8080/"
        },
        "id": "bmC0P71CL477",
        "outputId": "6e3fbbdb-a88e-4afc-fd95-7a6ea61ff5df"
      },
      "execution_count": null,
      "outputs": [
        {
          "output_type": "execute_result",
          "data": {
            "text/plain": [
              "(torch.Size([3]), tensor(3))"
            ]
          },
          "metadata": {},
          "execution_count": 19
        }
      ]
    },
    {
      "cell_type": "code",
      "source": [
        "y.max(dim=-1)"
      ],
      "metadata": {
        "colab": {
          "base_uri": "https://localhost:8080/"
        },
        "id": "SCqlvEIlMMJ4",
        "outputId": "ebc71afa-9720-470f-ec60-5b63e4967bac"
      },
      "execution_count": null,
      "outputs": [
        {
          "output_type": "execute_result",
          "data": {
            "text/plain": [
              "torch.return_types.max(\n",
              "values=tensor(4),\n",
              "indices=tensor(1))"
            ]
          },
          "metadata": {},
          "execution_count": 20
        }
      ]
    },
    {
      "cell_type": "code",
      "source": [
        "dir(torch.Tensor)"
      ],
      "metadata": {
        "colab": {
          "base_uri": "https://localhost:8080/"
        },
        "id": "jFjMTljpMV-N",
        "outputId": "30c4a96d-2fcd-4495-c0c5-d0b127a19eaf"
      },
      "execution_count": null,
      "outputs": [
        {
          "output_type": "execute_result",
          "data": {
            "text/plain": [
              "['H',\n",
              " 'T',\n",
              " '__abs__',\n",
              " '__add__',\n",
              " '__and__',\n",
              " '__array__',\n",
              " '__array_priority__',\n",
              " '__array_wrap__',\n",
              " '__bool__',\n",
              " '__class__',\n",
              " '__complex__',\n",
              " '__contains__',\n",
              " '__cuda_array_interface__',\n",
              " '__deepcopy__',\n",
              " '__delattr__',\n",
              " '__delitem__',\n",
              " '__dict__',\n",
              " '__dir__',\n",
              " '__div__',\n",
              " '__dlpack__',\n",
              " '__dlpack_device__',\n",
              " '__doc__',\n",
              " '__eq__',\n",
              " '__float__',\n",
              " '__floordiv__',\n",
              " '__format__',\n",
              " '__ge__',\n",
              " '__getattribute__',\n",
              " '__getitem__',\n",
              " '__gt__',\n",
              " '__hash__',\n",
              " '__iadd__',\n",
              " '__iand__',\n",
              " '__idiv__',\n",
              " '__ifloordiv__',\n",
              " '__ilshift__',\n",
              " '__imod__',\n",
              " '__imul__',\n",
              " '__index__',\n",
              " '__init__',\n",
              " '__init_subclass__',\n",
              " '__int__',\n",
              " '__invert__',\n",
              " '__ior__',\n",
              " '__ipow__',\n",
              " '__irshift__',\n",
              " '__isub__',\n",
              " '__iter__',\n",
              " '__itruediv__',\n",
              " '__ixor__',\n",
              " '__le__',\n",
              " '__len__',\n",
              " '__long__',\n",
              " '__lshift__',\n",
              " '__lt__',\n",
              " '__matmul__',\n",
              " '__mod__',\n",
              " '__module__',\n",
              " '__mul__',\n",
              " '__ne__',\n",
              " '__neg__',\n",
              " '__new__',\n",
              " '__nonzero__',\n",
              " '__or__',\n",
              " '__pos__',\n",
              " '__pow__',\n",
              " '__radd__',\n",
              " '__rand__',\n",
              " '__rdiv__',\n",
              " '__reduce__',\n",
              " '__reduce_ex__',\n",
              " '__repr__',\n",
              " '__reversed__',\n",
              " '__rfloordiv__',\n",
              " '__rlshift__',\n",
              " '__rmatmul__',\n",
              " '__rmod__',\n",
              " '__rmul__',\n",
              " '__ror__',\n",
              " '__rpow__',\n",
              " '__rrshift__',\n",
              " '__rshift__',\n",
              " '__rsub__',\n",
              " '__rtruediv__',\n",
              " '__rxor__',\n",
              " '__setattr__',\n",
              " '__setitem__',\n",
              " '__setstate__',\n",
              " '__sizeof__',\n",
              " '__str__',\n",
              " '__sub__',\n",
              " '__subclasshook__',\n",
              " '__torch_dispatch__',\n",
              " '__torch_function__',\n",
              " '__truediv__',\n",
              " '__weakref__',\n",
              " '__xor__',\n",
              " '_addmm_activation',\n",
              " '_autocast_to_full_precision',\n",
              " '_autocast_to_reduced_precision',\n",
              " '_backward_hooks',\n",
              " '_base',\n",
              " '_cdata',\n",
              " '_coalesced_',\n",
              " '_conj',\n",
              " '_conj_physical',\n",
              " '_dimI',\n",
              " '_dimV',\n",
              " '_fix_weakref',\n",
              " '_grad',\n",
              " '_grad_fn',\n",
              " '_has_symbolic_sizes_strides',\n",
              " '_indices',\n",
              " '_is_all_true',\n",
              " '_is_any_true',\n",
              " '_is_view',\n",
              " '_is_zerotensor',\n",
              " '_make_subclass',\n",
              " '_make_wrapper_subclass',\n",
              " '_neg_view',\n",
              " '_nested_tensor_size',\n",
              " '_nested_tensor_storage_offsets',\n",
              " '_nested_tensor_strides',\n",
              " '_nnz',\n",
              " '_post_accumulate_grad_hooks',\n",
              " '_python_dispatch',\n",
              " '_reduce_ex_internal',\n",
              " '_sparse_mask_projection',\n",
              " '_to_dense',\n",
              " '_to_sparse',\n",
              " '_to_sparse_bsc',\n",
              " '_to_sparse_bsr',\n",
              " '_to_sparse_csc',\n",
              " '_to_sparse_csr',\n",
              " '_typed_storage',\n",
              " '_update_names',\n",
              " '_values',\n",
              " '_version',\n",
              " '_view_func',\n",
              " '_view_func_unsafe',\n",
              " 'abs',\n",
              " 'abs_',\n",
              " 'absolute',\n",
              " 'absolute_',\n",
              " 'acos',\n",
              " 'acos_',\n",
              " 'acosh',\n",
              " 'acosh_',\n",
              " 'add',\n",
              " 'add_',\n",
              " 'addbmm',\n",
              " 'addbmm_',\n",
              " 'addcdiv',\n",
              " 'addcdiv_',\n",
              " 'addcmul',\n",
              " 'addcmul_',\n",
              " 'addmm',\n",
              " 'addmm_',\n",
              " 'addmv',\n",
              " 'addmv_',\n",
              " 'addr',\n",
              " 'addr_',\n",
              " 'adjoint',\n",
              " 'align_as',\n",
              " 'align_to',\n",
              " 'all',\n",
              " 'allclose',\n",
              " 'amax',\n",
              " 'amin',\n",
              " 'aminmax',\n",
              " 'angle',\n",
              " 'any',\n",
              " 'apply_',\n",
              " 'arccos',\n",
              " 'arccos_',\n",
              " 'arccosh',\n",
              " 'arccosh_',\n",
              " 'arcsin',\n",
              " 'arcsin_',\n",
              " 'arcsinh',\n",
              " 'arcsinh_',\n",
              " 'arctan',\n",
              " 'arctan2',\n",
              " 'arctan2_',\n",
              " 'arctan_',\n",
              " 'arctanh',\n",
              " 'arctanh_',\n",
              " 'argmax',\n",
              " 'argmin',\n",
              " 'argsort',\n",
              " 'argwhere',\n",
              " 'as_strided',\n",
              " 'as_strided_',\n",
              " 'as_strided_scatter',\n",
              " 'as_subclass',\n",
              " 'asin',\n",
              " 'asin_',\n",
              " 'asinh',\n",
              " 'asinh_',\n",
              " 'atan',\n",
              " 'atan2',\n",
              " 'atan2_',\n",
              " 'atan_',\n",
              " 'atanh',\n",
              " 'atanh_',\n",
              " 'backward',\n",
              " 'baddbmm',\n",
              " 'baddbmm_',\n",
              " 'bernoulli',\n",
              " 'bernoulli_',\n",
              " 'bfloat16',\n",
              " 'bincount',\n",
              " 'bitwise_and',\n",
              " 'bitwise_and_',\n",
              " 'bitwise_left_shift',\n",
              " 'bitwise_left_shift_',\n",
              " 'bitwise_not',\n",
              " 'bitwise_not_',\n",
              " 'bitwise_or',\n",
              " 'bitwise_or_',\n",
              " 'bitwise_right_shift',\n",
              " 'bitwise_right_shift_',\n",
              " 'bitwise_xor',\n",
              " 'bitwise_xor_',\n",
              " 'bmm',\n",
              " 'bool',\n",
              " 'broadcast_to',\n",
              " 'byte',\n",
              " 'cauchy_',\n",
              " 'ccol_indices',\n",
              " 'cdouble',\n",
              " 'ceil',\n",
              " 'ceil_',\n",
              " 'cfloat',\n",
              " 'chalf',\n",
              " 'char',\n",
              " 'cholesky',\n",
              " 'cholesky_inverse',\n",
              " 'cholesky_solve',\n",
              " 'chunk',\n",
              " 'clamp',\n",
              " 'clamp_',\n",
              " 'clamp_max',\n",
              " 'clamp_max_',\n",
              " 'clamp_min',\n",
              " 'clamp_min_',\n",
              " 'clip',\n",
              " 'clip_',\n",
              " 'clone',\n",
              " 'coalesce',\n",
              " 'col_indices',\n",
              " 'conj',\n",
              " 'conj_physical',\n",
              " 'conj_physical_',\n",
              " 'contiguous',\n",
              " 'copy_',\n",
              " 'copysign',\n",
              " 'copysign_',\n",
              " 'corrcoef',\n",
              " 'cos',\n",
              " 'cos_',\n",
              " 'cosh',\n",
              " 'cosh_',\n",
              " 'count_nonzero',\n",
              " 'cov',\n",
              " 'cpu',\n",
              " 'cross',\n",
              " 'crow_indices',\n",
              " 'cuda',\n",
              " 'cummax',\n",
              " 'cummin',\n",
              " 'cumprod',\n",
              " 'cumprod_',\n",
              " 'cumsum',\n",
              " 'cumsum_',\n",
              " 'data',\n",
              " 'data_ptr',\n",
              " 'deg2rad',\n",
              " 'deg2rad_',\n",
              " 'dense_dim',\n",
              " 'dequantize',\n",
              " 'det',\n",
              " 'detach',\n",
              " 'detach_',\n",
              " 'device',\n",
              " 'diag',\n",
              " 'diag_embed',\n",
              " 'diagflat',\n",
              " 'diagonal',\n",
              " 'diagonal_scatter',\n",
              " 'diff',\n",
              " 'digamma',\n",
              " 'digamma_',\n",
              " 'dim',\n",
              " 'dim_order',\n",
              " 'dist',\n",
              " 'div',\n",
              " 'div_',\n",
              " 'divide',\n",
              " 'divide_',\n",
              " 'dot',\n",
              " 'double',\n",
              " 'dsplit',\n",
              " 'dtype',\n",
              " 'eig',\n",
              " 'element_size',\n",
              " 'eq',\n",
              " 'eq_',\n",
              " 'equal',\n",
              " 'erf',\n",
              " 'erf_',\n",
              " 'erfc',\n",
              " 'erfc_',\n",
              " 'erfinv',\n",
              " 'erfinv_',\n",
              " 'exp',\n",
              " 'exp2',\n",
              " 'exp2_',\n",
              " 'exp_',\n",
              " 'expand',\n",
              " 'expand_as',\n",
              " 'expm1',\n",
              " 'expm1_',\n",
              " 'exponential_',\n",
              " 'fill_',\n",
              " 'fill_diagonal_',\n",
              " 'fix',\n",
              " 'fix_',\n",
              " 'flatten',\n",
              " 'flip',\n",
              " 'fliplr',\n",
              " 'flipud',\n",
              " 'float',\n",
              " 'float_power',\n",
              " 'float_power_',\n",
              " 'floor',\n",
              " 'floor_',\n",
              " 'floor_divide',\n",
              " 'floor_divide_',\n",
              " 'fmax',\n",
              " 'fmin',\n",
              " 'fmod',\n",
              " 'fmod_',\n",
              " 'frac',\n",
              " 'frac_',\n",
              " 'frexp',\n",
              " 'gather',\n",
              " 'gcd',\n",
              " 'gcd_',\n",
              " 'ge',\n",
              " 'ge_',\n",
              " 'geometric_',\n",
              " 'geqrf',\n",
              " 'ger',\n",
              " 'get_device',\n",
              " 'grad',\n",
              " 'grad_fn',\n",
              " 'greater',\n",
              " 'greater_',\n",
              " 'greater_equal',\n",
              " 'greater_equal_',\n",
              " 'gt',\n",
              " 'gt_',\n",
              " 'half',\n",
              " 'hardshrink',\n",
              " 'has_names',\n",
              " 'heaviside',\n",
              " 'heaviside_',\n",
              " 'histc',\n",
              " 'histogram',\n",
              " 'hsplit',\n",
              " 'hypot',\n",
              " 'hypot_',\n",
              " 'i0',\n",
              " 'i0_',\n",
              " 'igamma',\n",
              " 'igamma_',\n",
              " 'igammac',\n",
              " 'igammac_',\n",
              " 'imag',\n",
              " 'index_add',\n",
              " 'index_add_',\n",
              " 'index_copy',\n",
              " 'index_copy_',\n",
              " 'index_fill',\n",
              " 'index_fill_',\n",
              " 'index_put',\n",
              " 'index_put_',\n",
              " 'index_reduce',\n",
              " 'index_reduce_',\n",
              " 'index_select',\n",
              " 'indices',\n",
              " 'inner',\n",
              " 'int',\n",
              " 'int_repr',\n",
              " 'inverse',\n",
              " 'ipu',\n",
              " 'is_coalesced',\n",
              " 'is_complex',\n",
              " 'is_conj',\n",
              " 'is_contiguous',\n",
              " 'is_cpu',\n",
              " 'is_cuda',\n",
              " 'is_distributed',\n",
              " 'is_floating_point',\n",
              " 'is_inference',\n",
              " 'is_ipu',\n",
              " 'is_leaf',\n",
              " 'is_meta',\n",
              " 'is_mkldnn',\n",
              " 'is_mps',\n",
              " 'is_mtia',\n",
              " 'is_neg',\n",
              " 'is_nested',\n",
              " 'is_nonzero',\n",
              " 'is_ort',\n",
              " 'is_pinned',\n",
              " 'is_quantized',\n",
              " 'is_same_size',\n",
              " 'is_set_to',\n",
              " 'is_shared',\n",
              " 'is_signed',\n",
              " 'is_sparse',\n",
              " 'is_sparse_csr',\n",
              " 'is_vulkan',\n",
              " 'is_xla',\n",
              " 'is_xpu',\n",
              " 'isclose',\n",
              " 'isfinite',\n",
              " 'isinf',\n",
              " 'isnan',\n",
              " 'isneginf',\n",
              " 'isposinf',\n",
              " 'isreal',\n",
              " 'istft',\n",
              " 'item',\n",
              " 'itemsize',\n",
              " 'kron',\n",
              " 'kthvalue',\n",
              " 'layout',\n",
              " 'lcm',\n",
              " 'lcm_',\n",
              " 'ldexp',\n",
              " 'ldexp_',\n",
              " 'le',\n",
              " 'le_',\n",
              " 'lerp',\n",
              " 'lerp_',\n",
              " 'less',\n",
              " 'less_',\n",
              " 'less_equal',\n",
              " 'less_equal_',\n",
              " 'lgamma',\n",
              " 'lgamma_',\n",
              " 'log',\n",
              " 'log10',\n",
              " 'log10_',\n",
              " 'log1p',\n",
              " 'log1p_',\n",
              " 'log2',\n",
              " 'log2_',\n",
              " 'log_',\n",
              " 'log_normal_',\n",
              " 'log_softmax',\n",
              " 'logaddexp',\n",
              " 'logaddexp2',\n",
              " 'logcumsumexp',\n",
              " 'logdet',\n",
              " 'logical_and',\n",
              " 'logical_and_',\n",
              " 'logical_not',\n",
              " 'logical_not_',\n",
              " 'logical_or',\n",
              " 'logical_or_',\n",
              " 'logical_xor',\n",
              " 'logical_xor_',\n",
              " 'logit',\n",
              " 'logit_',\n",
              " 'logsumexp',\n",
              " 'long',\n",
              " 'lstsq',\n",
              " 'lt',\n",
              " 'lt_',\n",
              " 'lu',\n",
              " 'lu_solve',\n",
              " 'mH',\n",
              " 'mT',\n",
              " 'map2_',\n",
              " 'map_',\n",
              " 'masked_fill',\n",
              " 'masked_fill_',\n",
              " 'masked_scatter',\n",
              " 'masked_scatter_',\n",
              " 'masked_select',\n",
              " 'matmul',\n",
              " 'matrix_exp',\n",
              " 'matrix_power',\n",
              " 'max',\n",
              " 'maximum',\n",
              " 'mean',\n",
              " 'median',\n",
              " 'min',\n",
              " 'minimum',\n",
              " 'mm',\n",
              " 'mode',\n",
              " 'moveaxis',\n",
              " 'movedim',\n",
              " 'msort',\n",
              " 'mul',\n",
              " 'mul_',\n",
              " 'multinomial',\n",
              " 'multiply',\n",
              " 'multiply_',\n",
              " 'mv',\n",
              " 'mvlgamma',\n",
              " 'mvlgamma_',\n",
              " 'name',\n",
              " 'names',\n",
              " 'nan_to_num',\n",
              " 'nan_to_num_',\n",
              " 'nanmean',\n",
              " 'nanmedian',\n",
              " 'nanquantile',\n",
              " 'nansum',\n",
              " 'narrow',\n",
              " 'narrow_copy',\n",
              " 'nbytes',\n",
              " 'ndim',\n",
              " 'ndimension',\n",
              " 'ne',\n",
              " 'ne_',\n",
              " 'neg',\n",
              " 'neg_',\n",
              " 'negative',\n",
              " 'negative_',\n",
              " 'nelement',\n",
              " 'new',\n",
              " 'new_empty',\n",
              " 'new_empty_strided',\n",
              " 'new_full',\n",
              " 'new_ones',\n",
              " 'new_tensor',\n",
              " 'new_zeros',\n",
              " 'nextafter',\n",
              " 'nextafter_',\n",
              " 'nonzero',\n",
              " 'nonzero_static',\n",
              " 'norm',\n",
              " 'normal_',\n",
              " 'not_equal',\n",
              " 'not_equal_',\n",
              " 'numel',\n",
              " 'numpy',\n",
              " 'orgqr',\n",
              " 'ormqr',\n",
              " 'outer',\n",
              " 'output_nr',\n",
              " 'permute',\n",
              " 'pin_memory',\n",
              " 'pinverse',\n",
              " 'polygamma',\n",
              " 'polygamma_',\n",
              " 'positive',\n",
              " 'pow',\n",
              " 'pow_',\n",
              " 'prelu',\n",
              " 'prod',\n",
              " 'put',\n",
              " 'put_',\n",
              " 'q_per_channel_axis',\n",
              " 'q_per_channel_scales',\n",
              " 'q_per_channel_zero_points',\n",
              " 'q_scale',\n",
              " 'q_zero_point',\n",
              " 'qr',\n",
              " 'qscheme',\n",
              " 'quantile',\n",
              " 'rad2deg',\n",
              " 'rad2deg_',\n",
              " 'random_',\n",
              " 'ravel',\n",
              " 'real',\n",
              " 'reciprocal',\n",
              " 'reciprocal_',\n",
              " 'record_stream',\n",
              " 'refine_names',\n",
              " 'register_hook',\n",
              " 'register_post_accumulate_grad_hook',\n",
              " 'reinforce',\n",
              " 'relu',\n",
              " 'relu_',\n",
              " 'remainder',\n",
              " 'remainder_',\n",
              " 'rename',\n",
              " 'rename_',\n",
              " 'renorm',\n",
              " 'renorm_',\n",
              " 'repeat',\n",
              " 'repeat_interleave',\n",
              " 'requires_grad',\n",
              " 'requires_grad_',\n",
              " 'reshape',\n",
              " 'reshape_as',\n",
              " 'resize',\n",
              " 'resize_',\n",
              " 'resize_as',\n",
              " 'resize_as_',\n",
              " 'resize_as_sparse_',\n",
              " 'resolve_conj',\n",
              " 'resolve_neg',\n",
              " 'retain_grad',\n",
              " 'retains_grad',\n",
              " 'roll',\n",
              " 'rot90',\n",
              " 'round',\n",
              " 'round_',\n",
              " 'row_indices',\n",
              " 'rsqrt',\n",
              " 'rsqrt_',\n",
              " 'scatter',\n",
              " 'scatter_',\n",
              " 'scatter_add',\n",
              " 'scatter_add_',\n",
              " 'scatter_reduce',\n",
              " 'scatter_reduce_',\n",
              " 'select',\n",
              " 'select_scatter',\n",
              " 'set_',\n",
              " 'sgn',\n",
              " 'sgn_',\n",
              " 'shape',\n",
              " 'share_memory_',\n",
              " 'short',\n",
              " 'sigmoid',\n",
              " 'sigmoid_',\n",
              " 'sign',\n",
              " 'sign_',\n",
              " 'signbit',\n",
              " 'sin',\n",
              " 'sin_',\n",
              " 'sinc',\n",
              " 'sinc_',\n",
              " 'sinh',\n",
              " 'sinh_',\n",
              " 'size',\n",
              " 'slice_scatter',\n",
              " 'slogdet',\n",
              " 'smm',\n",
              " 'softmax',\n",
              " 'solve',\n",
              " 'sort',\n",
              " 'sparse_dim',\n",
              " 'sparse_mask',\n",
              " 'sparse_resize_',\n",
              " 'sparse_resize_and_clear_',\n",
              " 'split',\n",
              " 'split_with_sizes',\n",
              " 'sqrt',\n",
              " 'sqrt_',\n",
              " 'square',\n",
              " 'square_',\n",
              " 'squeeze',\n",
              " 'squeeze_',\n",
              " 'sspaddmm',\n",
              " 'std',\n",
              " 'stft',\n",
              " 'storage',\n",
              " 'storage_offset',\n",
              " 'storage_type',\n",
              " 'stride',\n",
              " 'sub',\n",
              " 'sub_',\n",
              " 'subtract',\n",
              " 'subtract_',\n",
              " 'sum',\n",
              " 'sum_to_size',\n",
              " 'svd',\n",
              " 'swapaxes',\n",
              " 'swapaxes_',\n",
              " 'swapdims',\n",
              " 'swapdims_',\n",
              " 'symeig',\n",
              " 't',\n",
              " 't_',\n",
              " 'take',\n",
              " 'take_along_dim',\n",
              " 'tan',\n",
              " 'tan_',\n",
              " 'tanh',\n",
              " 'tanh_',\n",
              " 'tensor_split',\n",
              " 'tile',\n",
              " 'to',\n",
              " 'to_dense',\n",
              " 'to_mkldnn',\n",
              " 'to_padded_tensor',\n",
              " 'to_sparse',\n",
              " 'to_sparse_bsc',\n",
              " 'to_sparse_bsr',\n",
              " 'to_sparse_coo',\n",
              " 'to_sparse_csc',\n",
              " 'to_sparse_csr',\n",
              " 'tolist',\n",
              " 'topk',\n",
              " 'trace',\n",
              " 'transpose',\n",
              " 'transpose_',\n",
              " 'triangular_solve',\n",
              " 'tril',\n",
              " 'tril_',\n",
              " 'triu',\n",
              " 'triu_',\n",
              " 'true_divide',\n",
              " 'true_divide_',\n",
              " 'trunc',\n",
              " 'trunc_',\n",
              " 'type',\n",
              " 'type_as',\n",
              " 'unbind',\n",
              " 'unflatten',\n",
              " 'unfold',\n",
              " 'uniform_',\n",
              " 'unique',\n",
              " 'unique_consecutive',\n",
              " 'unsafe_chunk',\n",
              " 'unsafe_split',\n",
              " 'unsafe_split_with_sizes',\n",
              " 'unsqueeze',\n",
              " 'unsqueeze_',\n",
              " 'untyped_storage',\n",
              " 'values',\n",
              " 'var',\n",
              " 'vdot',\n",
              " 'view',\n",
              " 'view_as',\n",
              " 'volatile',\n",
              " 'vsplit',\n",
              " 'where',\n",
              " 'xlogy',\n",
              " 'xlogy_',\n",
              " 'xpu',\n",
              " 'zero_']"
            ]
          },
          "metadata": {},
          "execution_count": 21
        }
      ]
    },
    {
      "cell_type": "code",
      "source": [
        "\n",
        "x = torch.tensor([[2., -1.], [1., 1.]], requires_grad=True)\n",
        "print(x)"
      ],
      "metadata": {
        "colab": {
          "base_uri": "https://localhost:8080/"
        },
        "id": "zJJ-5295NhiF",
        "outputId": "9bb0613f-e100-4324-f305-295aef6721c0"
      },
      "execution_count": null,
      "outputs": [
        {
          "output_type": "stream",
          "name": "stdout",
          "text": [
            "tensor([[ 2., -1.],\n",
            "        [ 1.,  1.]], requires_grad=True)\n"
          ]
        }
      ]
    },
    {
      "cell_type": "code",
      "source": [
        "\n",
        "out=x.pow(2).sum()\n",
        "out"
      ],
      "metadata": {
        "colab": {
          "base_uri": "https://localhost:8080/"
        },
        "id": "iH-2Dv7NPkT5",
        "outputId": "e9680ed8-93b6-4ac3-bfe2-8cc1594403fe"
      },
      "execution_count": null,
      "outputs": [
        {
          "output_type": "execute_result",
          "data": {
            "text/plain": [
              "tensor(7., grad_fn=<SumBackward0>)"
            ]
          },
          "metadata": {},
          "execution_count": 23
        }
      ]
    },
    {
      "cell_type": "code",
      "source": [
        "# We know that the gradient of the preceding function is 2*x. Let's validate\n",
        "# this using the built-in functions provided by PyTorch."
      ],
      "metadata": {
        "id": "AVLmrYCBQGMd"
      },
      "execution_count": null,
      "outputs": []
    },
    {
      "cell_type": "code",
      "source": [
        "out.backward()"
      ],
      "metadata": {
        "id": "mO2vvInfQLwW"
      },
      "execution_count": null,
      "outputs": []
    },
    {
      "cell_type": "code",
      "source": [
        "x.grad"
      ],
      "metadata": {
        "colab": {
          "base_uri": "https://localhost:8080/"
        },
        "id": "T6tSjxFsQoWM",
        "outputId": "d26e583a-b54e-4ceb-bc3b-4e4d0d2fbeeb"
      },
      "execution_count": null,
      "outputs": [
        {
          "output_type": "execute_result",
          "data": {
            "text/plain": [
              "tensor([[ 4., -2.],\n",
              "        [ 2.,  2.]])"
            ]
          },
          "metadata": {},
          "execution_count": 26
        }
      ]
    },
    {
      "cell_type": "code",
      "source": [
        "import torch\n",
        "x = torch.rand(1, 6400)\n",
        "y = torch.rand(6400, 5000)\n"
      ],
      "metadata": {
        "id": "3i-NoByWQrVz"
      },
      "execution_count": null,
      "outputs": []
    },
    {
      "cell_type": "code",
      "source": [
        "device = 'cuda' if torch.cuda.is_available() else 'cpu'"
      ],
      "metadata": {
        "id": "8jE97uqvSfHu"
      },
      "execution_count": null,
      "outputs": []
    },
    {
      "cell_type": "code",
      "source": [
        "device"
      ],
      "metadata": {
        "colab": {
          "base_uri": "https://localhost:8080/",
          "height": 36
        },
        "id": "jdJaQc-hShbu",
        "outputId": "b5015ab2-99b5-4be1-cc60-2832a015609e"
      },
      "execution_count": null,
      "outputs": [
        {
          "output_type": "execute_result",
          "data": {
            "text/plain": [
              "'cuda'"
            ],
            "application/vnd.google.colaboratory.intrinsic+json": {
              "type": "string"
            }
          },
          "metadata": {},
          "execution_count": 29
        }
      ]
    },
    {
      "cell_type": "code",
      "source": [
        "x, y = x.to(device), y.to(device)"
      ],
      "metadata": {
        "id": "6VpHRBfRSiD-"
      },
      "execution_count": null,
      "outputs": []
    },
    {
      "cell_type": "code",
      "source": [
        "device= 'cuda' if torch.cuda.is_available() else 'cpu'\n",
        "device"
      ],
      "metadata": {
        "colab": {
          "base_uri": "https://localhost:8080/",
          "height": 36
        },
        "id": "RDdPIWCiSp3Z",
        "outputId": "9d4f984a-7057-4f52-9fe7-822651bb389b"
      },
      "execution_count": null,
      "outputs": [
        {
          "output_type": "execute_result",
          "data": {
            "text/plain": [
              "'cuda'"
            ],
            "application/vnd.google.colaboratory.intrinsic+json": {
              "type": "string"
            }
          },
          "metadata": {},
          "execution_count": 33
        }
      ]
    },
    {
      "cell_type": "code",
      "source": [
        " %timeit z=(x@y)\n"
      ],
      "metadata": {
        "colab": {
          "base_uri": "https://localhost:8080/"
        },
        "id": "wUhJ3bQUgA96",
        "outputId": "746081a0-ffc3-4896-f015-0def5cc8202f"
      },
      "execution_count": null,
      "outputs": [
        {
          "output_type": "stream",
          "name": "stdout",
          "text": [
            "569 µs ± 1.81 µs per loop (mean ± std. dev. of 7 runs, 1000 loops each)\n"
          ]
        }
      ]
    },
    {
      "cell_type": "code",
      "source": [
        "x, y = x.cpu(), y.cpu()\n",
        "%timeit z=(x@y)\n",
        "# It takes 9 milli seconds on an average to\n",
        "# perform matrix multiplication\n"
      ],
      "metadata": {
        "colab": {
          "base_uri": "https://localhost:8080/"
        },
        "id": "cRDIlwZTgTFT",
        "outputId": "150beb6c-4fee-40b7-81e3-36b04f31d1a9"
      },
      "execution_count": null,
      "outputs": [
        {
          "output_type": "stream",
          "name": "stdout",
          "text": [
            "9.68 ms ± 221 µs per loop (mean ± std. dev. of 7 runs, 100 loops each)\n"
          ]
        }
      ]
    },
    {
      "cell_type": "code",
      "source": [
        "import numpy as np\n",
        "x = np.random.random((1, 6400))\n",
        "y = np.random.random((6400, 5000))\n",
        "%timeit z = np.matmul(x,y)\n",
        "# It takes 19 milli seconds on an average to\n",
        "# perform matrix multiplication"
      ],
      "metadata": {
        "colab": {
          "base_uri": "https://localhost:8080/"
        },
        "id": "RdCfOgFyhB3q",
        "outputId": "573cf3cd-eed4-4905-b5ce-19d5998ff5a7"
      },
      "execution_count": null,
      "outputs": [
        {
          "output_type": "stream",
          "name": "stdout",
          "text": [
            "24 ms ± 4.21 ms per loop (mean ± std. dev. of 7 runs, 10 loops each)\n"
          ]
        }
      ]
    },
    {
      "cell_type": "markdown",
      "source": [
        "# Building Neural Network with Pytorch"
      ],
      "metadata": {
        "id": "f64qZED4iHNU"
      }
    },
    {
      "cell_type": "code",
      "source": [
        "import torch\n",
        "x = [[1,2],[3,4],[5,6],[7,8]]\n",
        "y = [[3],[7],[11],[15]]\n"
      ],
      "metadata": {
        "id": "rNFzw7IqhHIx"
      },
      "execution_count": null,
      "outputs": []
    },
    {
      "cell_type": "code",
      "source": [
        "X = torch.tensor(x).float()\n",
        "Y = torch.tensor(y).float()\n",
        "# becuase auto grad requires the tensors to be in float"
      ],
      "metadata": {
        "id": "_ouihvNniMLY"
      },
      "execution_count": null,
      "outputs": []
    },
    {
      "cell_type": "code",
      "source": [
        "device = 'cuda' if torch.cuda.is_available() else 'cpu'\n",
        "X = X.to(device)\n",
        "Y = Y.to(device)"
      ],
      "metadata": {
        "id": "aUbFS_YZiYBp"
      },
      "execution_count": null,
      "outputs": []
    },
    {
      "cell_type": "code",
      "source": [
        "import torch.nn as nn"
      ],
      "metadata": {
        "id": "hmpG6DJrijx8"
      },
      "execution_count": null,
      "outputs": []
    },
    {
      "cell_type": "code",
      "source": [
        "print(nn.Linear(10,10))"
      ],
      "metadata": {
        "colab": {
          "base_uri": "https://localhost:8080/"
        },
        "id": "9kZGraXpkAqA",
        "outputId": "610673c6-f6ba-461b-da28-16626581afcc"
      },
      "execution_count": null,
      "outputs": [
        {
          "output_type": "stream",
          "name": "stdout",
          "text": [
            "Linear(in_features=10, out_features=10, bias=True)\n"
          ]
        }
      ]
    },
    {
      "cell_type": "code",
      "source": [
        "class Mynn(nn.Module):\n",
        "  def __init__(self):\n",
        "    super().__init__()\n",
        "    self.input_to_hidden_layer=nn.Linear(2,8)\n",
        "    self.hidden_layer_activation=nn.ReLU()\n",
        "    self.hidden_layer_to_output_layer=nn.Linear(8,1)\n",
        "  def forward(self,x):\n",
        "    x=self.input_to_hidden_layer(x)\n",
        "    x=self.hidden_layer_activation(x)\n",
        "    x=self.hidden_layer_to_output_layer(x)\n",
        "    return x\n"
      ],
      "metadata": {
        "id": "nqY9rdMoip3V"
      },
      "execution_count": null,
      "outputs": []
    },
    {
      "cell_type": "code",
      "source": [
        "mynet=Mynn().to('cuda')"
      ],
      "metadata": {
        "id": "Ua2a2xXvj_SM"
      },
      "execution_count": null,
      "outputs": []
    },
    {
      "cell_type": "code",
      "source": [
        "mynet.input_to_hidden_layer.weight"
      ],
      "metadata": {
        "colab": {
          "base_uri": "https://localhost:8080/"
        },
        "id": "Se_g8zoEk2sT",
        "outputId": "d94e9f19-5d43-47c6-cc5a-afad685cabde"
      },
      "execution_count": null,
      "outputs": [
        {
          "output_type": "execute_result",
          "data": {
            "text/plain": [
              "Parameter containing:\n",
              "tensor([[-0.5720, -0.4152],\n",
              "        [ 0.3080,  0.0241],\n",
              "        [ 0.2260,  0.0345],\n",
              "        [ 0.3572,  0.2710],\n",
              "        [-0.1566,  0.2360],\n",
              "        [ 0.1056,  0.0236],\n",
              "        [-0.2290,  0.2824],\n",
              "        [ 0.1560,  0.0439]], device='cuda:0', requires_grad=True)"
            ]
          },
          "metadata": {},
          "execution_count": 62
        }
      ]
    },
    {
      "cell_type": "code",
      "source": [
        "for p in mynet.parameters():\n",
        "  print(p)"
      ],
      "metadata": {
        "colab": {
          "base_uri": "https://localhost:8080/"
        },
        "id": "BsW1lr5vlHrh",
        "outputId": "c195425e-2040-4a7f-bb21-c4381287017a"
      },
      "execution_count": null,
      "outputs": [
        {
          "output_type": "stream",
          "name": "stdout",
          "text": [
            "Parameter containing:\n",
            "tensor([[-0.5720, -0.4152],\n",
            "        [ 0.3080,  0.0241],\n",
            "        [ 0.2260,  0.0345],\n",
            "        [ 0.3572,  0.2710],\n",
            "        [-0.1566,  0.2360],\n",
            "        [ 0.1056,  0.0236],\n",
            "        [-0.2290,  0.2824],\n",
            "        [ 0.1560,  0.0439]], device='cuda:0', requires_grad=True)\n",
            "Parameter containing:\n",
            "tensor([ 0.4359, -0.5495, -0.4369, -0.0094,  0.4996,  0.4450,  0.0885, -0.2122],\n",
            "       device='cuda:0', requires_grad=True)\n",
            "Parameter containing:\n",
            "tensor([[-0.2702,  0.1958,  0.0046, -0.2497, -0.0163, -0.2267,  0.2785, -0.2554]],\n",
            "       device='cuda:0', requires_grad=True)\n",
            "Parameter containing:\n",
            "tensor([0.0769], device='cuda:0', requires_grad=True)\n"
          ]
        }
      ]
    },
    {
      "cell_type": "code",
      "source": [
        "loss=nn.MSELoss()"
      ],
      "metadata": {
        "id": "yafYte_mld5t"
      },
      "execution_count": null,
      "outputs": []
    },
    {
      "cell_type": "code",
      "source": [],
      "metadata": {
        "id": "U_jdIrDImj6b"
      },
      "execution_count": null,
      "outputs": []
    },
    {
      "cell_type": "code",
      "source": [
        "y_=mynet(X)\n",
        "loss(y_,Y)"
      ],
      "metadata": {
        "colab": {
          "base_uri": "https://localhost:8080/"
        },
        "id": "kFsmMoTJl7gz",
        "outputId": "cf46f26d-8c2d-4190-88f0-a8de633535b2"
      },
      "execution_count": null,
      "outputs": [
        {
          "output_type": "execute_result",
          "data": {
            "text/plain": [
              "tensor(103.7926, device='cuda:0', grad_fn=<MseLossBackward0>)"
            ]
          },
          "metadata": {},
          "execution_count": 74
        }
      ]
    },
    {
      "cell_type": "code",
      "source": [
        "from torch.optim import SGD\n",
        "optimizer=SGD(mynet.parameters(),lr=0.001)"
      ],
      "metadata": {
        "id": "-NsYuKutmPyw"
      },
      "execution_count": null,
      "outputs": []
    },
    {
      "cell_type": "code",
      "source": [
        "optimizer"
      ],
      "metadata": {
        "colab": {
          "base_uri": "https://localhost:8080/"
        },
        "id": "u35qxT0inBYn",
        "outputId": "8f55d976-7031-4baa-840f-74b8a6cdabf2"
      },
      "execution_count": null,
      "outputs": [
        {
          "output_type": "execute_result",
          "data": {
            "text/plain": [
              "SGD (\n",
              "Parameter Group 0\n",
              "    dampening: 0\n",
              "    differentiable: False\n",
              "    foreach: None\n",
              "    lr: 0.001\n",
              "    maximize: False\n",
              "    momentum: 0\n",
              "    nesterov: False\n",
              "    weight_decay: 0\n",
              ")"
            ]
          },
          "metadata": {},
          "execution_count": 76
        }
      ]
    },
    {
      "cell_type": "code",
      "source": [
        "loss_history=[]\n",
        "for _ in range(50):\n",
        "  optimizer.zero_grad()\n",
        "  loss_value=loss(mynet(X),Y)\n",
        "  loss_value.backward()\n",
        "  optimizer.step()\n",
        "  loss_history.append(loss_value)"
      ],
      "metadata": {
        "id": "4KmIMoJ7nJCU"
      },
      "execution_count": null,
      "outputs": []
    },
    {
      "cell_type": "code",
      "source": [
        "import matplotlib.pyplot as plt\n",
        "plt.plot(torch.tensor(loss_history).cpu())\n",
        "plt.xlabel('Epochs')\n",
        "plt.ylabel('Loss')"
      ],
      "metadata": {
        "colab": {
          "base_uri": "https://localhost:8080/",
          "height": 466
        },
        "id": "kab2M5Mwn2Cz",
        "outputId": "1a4bb3cc-ac30-4e8b-9fa1-faf396430164"
      },
      "execution_count": null,
      "outputs": [
        {
          "output_type": "execute_result",
          "data": {
            "text/plain": [
              "Text(0, 0.5, 'Loss')"
            ]
          },
          "metadata": {},
          "execution_count": 90
        },
        {
          "output_type": "display_data",
          "data": {
            "text/plain": [
              "<Figure size 640x480 with 1 Axes>"
            ],
            "image/png": "[encoded data removed]"
          },
          "metadata": {}
        }
      ]
    },
    {
      "cell_type": "markdown",
      "source": [
        "# Dataset, DataLoader, and batch size"
      ],
      "metadata": {
        "id": "U_zliD6Qp9Fv"
      }
    },
    {
      "cell_type": "code",
      "source": [
        "from torch.utils.data import Dataset,DataLoader"
      ],
      "metadata": {
        "id": "FxuiDHe9oJcg"
      },
      "execution_count": null,
      "outputs": []
    },
    {
      "cell_type": "code",
      "source": [
        "x = [[1,2],[3,4],[5,6],[7,8]]\n",
        "y = [[3],[7],[11],[15]]\n"
      ],
      "metadata": {
        "id": "EVTCtEEYqhgQ"
      },
      "execution_count": null,
      "outputs": []
    },
    {
      "cell_type": "code",
      "source": [
        "x=torch.tensor(x).float()\n",
        "y=torch.tensor(y).float()"
      ],
      "metadata": {
        "id": "WmF0Hd5CqkcE"
      },
      "execution_count": null,
      "outputs": []
    },
    {
      "cell_type": "code",
      "source": [
        "device='cuda' if torch.cuda.is_available() else 'cpu'"
      ],
      "metadata": {
        "id": "blDxnnlOqqSU"
      },
      "execution_count": null,
      "outputs": []
    },
    {
      "cell_type": "code",
      "source": [
        "X=x.to('cuda')\n",
        "Y=y.to('cuda')"
      ],
      "metadata": {
        "id": "qkc7V6XWq2wE"
      },
      "execution_count": null,
      "outputs": []
    },
    {
      "cell_type": "code",
      "source": [
        "class MyDataset(Dataset):\n",
        "  def __init__(self,x,y):\n",
        "    self.x=torch.tensor(x).float()\n",
        "    self.y=torch.tensor(y).float()\n",
        "  def __len__(self):\n",
        "    return len(self.x)\n",
        "  def __getitem__(self,ix):\n",
        "    return self.x[ix],self.y[ix]"
      ],
      "metadata": {
        "id": "yFScuuOirHoB"
      },
      "execution_count": null,
      "outputs": []
    },
    {
      "cell_type": "code",
      "source": [
        "ds=MyDataset(X,Y)"
      ],
      "metadata": {
        "colab": {
          "base_uri": "https://localhost:8080/"
        },
        "id": "23ZTN-Qgrsht",
        "outputId": "ae226b7d-0caa-45d8-9bd9-eb08ae89e189"
      },
      "execution_count": null,
      "outputs": [
        {
          "output_type": "stream",
          "name": "stderr",
          "text": [
            "<ipython-input-99-f79fa4f778ea>:3: UserWarning: To copy construct from a tensor, it is recommended to use sourceTensor.clone().detach() or sourceTensor.clone().detach().requires_grad_(True), rather than torch.tensor(sourceTensor).\n",
            "  self.x=torch.tensor(x).float()\n",
            "<ipython-input-99-f79fa4f778ea>:4: UserWarning: To copy construct from a tensor, it is recommended to use sourceTensor.clone().detach() or sourceTensor.clone().detach().requires_grad_(True), rather than torch.tensor(sourceTensor).\n",
            "  self.y=torch.tensor(y).float()\n"
          ]
        }
      ]
    },
    {
      "cell_type": "code",
      "source": [
        "dl=DataLoader(ds,batch_size=2,shuffle=True)\n",
        "dl"
      ],
      "metadata": {
        "colab": {
          "base_uri": "https://localhost:8080/"
        },
        "id": "NvVipryQrwPX",
        "outputId": "76cc55a5-aee0-4cb1-c767-4825de08667c"
      },
      "execution_count": null,
      "outputs": [
        {
          "output_type": "execute_result",
          "data": {
            "text/plain": [
              "<torch.utils.data.dataloader.DataLoader at 0x7ab7bd6ce6b0>"
            ]
          },
          "metadata": {},
          "execution_count": 101
        }
      ]
    },
    {
      "cell_type": "code",
      "source": [
        "for x,y in dl:\n",
        "  print(x,y)"
      ],
      "metadata": {
        "colab": {
          "base_uri": "https://localhost:8080/"
        },
        "id": "BaPZs0ncr-hE",
        "outputId": "5f7188e8-6e43-4219-aaa6-de9fac00fe78"
      },
      "execution_count": null,
      "outputs": [
        {
          "output_type": "stream",
          "name": "stdout",
          "text": [
            "tensor([[5., 6.],\n",
            "        [1., 2.]], device='cuda:0') tensor([[11.],\n",
            "        [ 3.]], device='cuda:0')\n",
            "tensor([[3., 4.],\n",
            "        [7., 8.]], device='cuda:0') tensor([[ 7.],\n",
            "        [15.]], device='cuda:0')\n"
          ]
        }
      ]
    },
    {
      "cell_type": "code",
      "source": [
        "loss_hist=[]\n",
        "for _ in range(20):\n",
        "  optimizer.zero_grad()\n",
        "  for x,y in dl:\n",
        "    loss_val=loss(mynet(x),y)\n",
        "    loss_val.backward()\n",
        "    optimizer.step()\n",
        "    loss_hist.append(loss_val)"
      ],
      "metadata": {
        "id": "Ak60FnJbsFjP"
      },
      "execution_count": null,
      "outputs": []
    },
    {
      "cell_type": "code",
      "source": [
        "plt.plot(torch.tensor(loss_hist).cpu().numpy())"
      ],
      "metadata": {
        "colab": {
          "base_uri": "https://localhost:8080/",
          "height": 447
        },
        "id": "L1LMp3ljszmT",
        "outputId": "759b1184-4e2a-4876-e6ca-b5bec0457c46"
      },
      "execution_count": null,
      "outputs": [
        {
          "output_type": "execute_result",
          "data": {
            "text/plain": [
              "[<matplotlib.lines.Line2D at 0x7ab7bd663190>]"
            ]
          },
          "metadata": {},
          "execution_count": 106
        },
        {
          "output_type": "display_data",
          "data": {
            "text/plain": [
              "<Figure size 640x480 with 1 Axes>"
            ],
            "image/png": "[encoded data removed]"
          },
          "metadata": {}
        }
      ]
    },
    {
      "cell_type": "markdown",
      "source": [
        "# Using a sequential method to build a neural network"
      ],
      "metadata": {
        "id": "k2c6Yoa0Cb3_"
      }
    },
    {
      "cell_type": "code",
      "source": [
        "x = [[1,2],[3,4],[5,6],[7,8]]\n",
        "y = [[3],[7],[11],[15]]\n"
      ],
      "metadata": {
        "id": "pHq97y79s033"
      },
      "execution_count": null,
      "outputs": []
    },
    {
      "cell_type": "code",
      "source": [
        "import torch\n",
        "import torch.nn as nn\n",
        "import numpy as np\n",
        "from torch.utils.data import Dataset, DataLoader\n",
        "device = 'cuda' if torch.cuda.is_available() else 'cpu'\n"
      ],
      "metadata": {
        "id": "WV6k60EkClXW"
      },
      "execution_count": null,
      "outputs": []
    },
    {
      "cell_type": "code",
      "source": [
        "class MyDataset(Dataset):\n",
        "  def __init__(self, x, y):\n",
        "    self.x = torch.tensor(x).float().to(device)\n",
        "    self.y = torch.tensor(y).float().to(device)\n",
        "  def __getitem__(self, ix):\n",
        "    return self.x[ix], self.y[ix]\n",
        "  def __len__(self):\n",
        "     return len(self.x)"
      ],
      "metadata": {
        "id": "pi77GxlSCpup"
      },
      "execution_count": null,
      "outputs": []
    },
    {
      "cell_type": "code",
      "source": [
        "ds = MyDataset(x, y)\n",
        "dl = DataLoader(ds, batch_size=2, shuffle=True)\n"
      ],
      "metadata": {
        "id": "Wf_S2O8XCtwW"
      },
      "execution_count": null,
      "outputs": []
    },
    {
      "cell_type": "code",
      "source": [
        "model = nn.Sequential(\n",
        " nn.Linear(2, 8),\n",
        " nn.ReLU(),\n",
        " nn.Linear(8, 1)\n",
        " ).to(device)\n"
      ],
      "metadata": {
        "id": "j4TCthOtC20d"
      },
      "execution_count": null,
      "outputs": []
    },
    {
      "cell_type": "code",
      "source": [
        "!pip install torch_summary\n",
        "from torchsummary import summary\n"
      ],
      "metadata": {
        "colab": {
          "base_uri": "https://localhost:8080/"
        },
        "id": "8tBhNseKC6HI",
        "outputId": "ed8fb9ed-24f6-4a26-db96-22de4b86fecd"
      },
      "execution_count": null,
      "outputs": [
        {
          "output_type": "stream",
          "name": "stdout",
          "text": [
            "Collecting torch_summary\n",
            "  Downloading torch_summary-1.4.5-py3-none-any.whl (16 kB)\n",
            "Installing collected packages: torch_summary\n",
            "Successfully installed torch_summary-1.4.5\n"
          ]
        }
      ]
    },
    {
      "cell_type": "code",
      "source": [
        "summary(model, torch.zeros(1,2))"
      ],
      "metadata": {
        "colab": {
          "base_uri": "https://localhost:8080/"
        },
        "id": "R8kUO6bGDDXv",
        "outputId": "d184930d-7fe3-48ae-8f56-f2196922d9b9"
      },
      "execution_count": null,
      "outputs": [
        {
          "output_type": "stream",
          "name": "stdout",
          "text": [
            "==========================================================================================\n",
            "Layer (type:depth-idx)                   Output Shape              Param #\n",
            "==========================================================================================\n",
            "├─Linear: 1-1                            [-1, 8]                   24\n",
            "├─ReLU: 1-2                              [-1, 8]                   --\n",
            "├─Linear: 1-3                            [-1, 1]                   9\n",
            "==========================================================================================\n",
            "Total params: 33\n",
            "Trainable params: 33\n",
            "Non-trainable params: 0\n",
            "Total mult-adds (M): 0.00\n",
            "==========================================================================================\n",
            "Input size (MB): 0.00\n",
            "Forward/backward pass size (MB): 0.00\n",
            "Params size (MB): 0.00\n",
            "Estimated Total Size (MB): 0.00\n",
            "==========================================================================================\n"
          ]
        },
        {
          "output_type": "execute_result",
          "data": {
            "text/plain": [
              "==========================================================================================\n",
              "Layer (type:depth-idx)                   Output Shape              Param #\n",
              "==========================================================================================\n",
              "├─Linear: 1-1                            [-1, 8]                   24\n",
              "├─ReLU: 1-2                              [-1, 8]                   --\n",
              "├─Linear: 1-3                            [-1, 1]                   9\n",
              "==========================================================================================\n",
              "Total params: 33\n",
              "Trainable params: 33\n",
              "Non-trainable params: 0\n",
              "Total mult-adds (M): 0.00\n",
              "==========================================================================================\n",
              "Input size (MB): 0.00\n",
              "Forward/backward pass size (MB): 0.00\n",
              "Params size (MB): 0.00\n",
              "Estimated Total Size (MB): 0.00\n",
              "=========================================================================================="
            ]
          },
          "metadata": {},
          "execution_count": 9
        }
      ]
    },
    {
      "cell_type": "code",
      "source": [
        "loss_func=nn.MSELoss()\n",
        "optimizer=torch.optim.SGD(model.parameters(),lr=0.001)"
      ],
      "metadata": {
        "id": "7kIlcdntDM_o"
      },
      "execution_count": null,
      "outputs": []
    },
    {
      "cell_type": "code",
      "source": [
        "import time\n",
        "hist=[]\n",
        "stat=time.time()\n",
        "for _ in range(20):\n",
        "  for x,y in dl:\n",
        "    optimizer.zero_grad()\n",
        "    loss=loss_func(model(x),y)\n",
        "    hist.append(loss)\n",
        "    loss.backward()\n",
        "    optimizer.step()\n",
        "end=time.time()"
      ],
      "metadata": {
        "id": "fzbmx5MCDc1Q"
      },
      "execution_count": null,
      "outputs": []
    },
    {
      "cell_type": "code",
      "source": [
        "print(end-stat)"
      ],
      "metadata": {
        "colab": {
          "base_uri": "https://localhost:8080/"
        },
        "id": "3GK8IgStEKJM",
        "outputId": "b790128a-6fc9-4de0-c7c8-c7375b3dd3b5"
      },
      "execution_count": null,
      "outputs": [
        {
          "output_type": "stream",
          "name": "stdout",
          "text": [
            "0.1261277198791504\n"
          ]
        }
      ]
    },
    {
      "cell_type": "code",
      "source": [
        "import matplotlib.pyplot as plt\n",
        "plt.plot(torch.tensor(hist).numpy())"
      ],
      "metadata": {
        "colab": {
          "base_uri": "https://localhost:8080/",
          "height": 447
        },
        "id": "ivPD5R8aEMTq",
        "outputId": "89684f3b-18f3-4a02-f4f1-d1bb20423824"
      },
      "execution_count": null,
      "outputs": [
        {
          "output_type": "execute_result",
          "data": {
            "text/plain": [
              "[<matplotlib.lines.Line2D at 0x7d1a42b63340>]"
            ]
          },
          "metadata": {},
          "execution_count": 22
        },
        {
          "output_type": "display_data",
          "data": {
            "text/plain": [
              "<Figure size 640x480 with 1 Axes>"
            ],
            "image/png": "[encoded data removed]"
          },
          "metadata": {}
        }
      ]
    },
    {
      "cell_type": "code",
      "source": [
        "val = [[8,9],[10,11],[1.5,2.5]]\n"
      ],
      "metadata": {
        "id": "s6bs1h4WERPA"
      },
      "execution_count": null,
      "outputs": []
    },
    {
      "cell_type": "code",
      "source": [
        "model(torch.tensor(val).float().to(device))\n"
      ],
      "metadata": {
        "colab": {
          "base_uri": "https://localhost:8080/"
        },
        "id": "geH9QXgxHuws",
        "outputId": "30104592-650a-40b4-ebf4-07abdf4dedcf"
      },
      "execution_count": null,
      "outputs": [
        {
          "output_type": "execute_result",
          "data": {
            "text/plain": [
              "tensor([[17.3176],\n",
              "        [21.5356],\n",
              "        [ 3.6091]], grad_fn=<AddmmBackward0>)"
            ]
          },
          "metadata": {},
          "execution_count": 24
        }
      ]
    },
    {
      "cell_type": "markdown",
      "source": [
        "# Saving and loading a PyTorch model\n"
      ],
      "metadata": {
        "id": "An7kc0-FH6UJ"
      }
    },
    {
      "cell_type": "code",
      "source": [
        "model.state_dict()"
      ],
      "metadata": {
        "colab": {
          "base_uri": "https://localhost:8080/"
        },
        "id": "JckCIKHLHxr2",
        "outputId": "b1ab4579-bdaa-4f5d-b7e1-44318c4ec65b"
      },
      "execution_count": null,
      "outputs": [
        {
          "output_type": "execute_result",
          "data": {
            "text/plain": [
              "OrderedDict([('0.weight',\n",
              "              tensor([[ 0.3491,  0.4905],\n",
              "                      [-0.5462,  0.2796],\n",
              "                      [-0.3789, -0.1533],\n",
              "                      [ 0.6041, -0.0533],\n",
              "                      [ 0.0538, -0.2984],\n",
              "                      [ 0.8278, -0.0200],\n",
              "                      [ 0.7923,  0.6921],\n",
              "                      [ 0.0929, -0.2352]])),\n",
              "             ('0.bias',\n",
              "              tensor([-0.4028,  0.0316,  0.3412,  0.4687, -0.1585,  0.0903, -0.4724,  0.4213])),\n",
              "             ('2.weight',\n",
              "              tensor([[ 0.2768, -0.3513, -0.1798,  0.4906, -0.2587,  0.4463,  0.8393,  0.0588]])),\n",
              "             ('2.bias', tensor([0.0017]))])"
            ]
          },
          "metadata": {},
          "execution_count": 25
        }
      ]
    },
    {
      "cell_type": "code",
      "source": [
        "# torch.save(model.to('cpu').state_dict(), 'mymodel.pth')\n",
        "torch.save(model.to('cpu').state_dict(),'mymodel.pth')"
      ],
      "metadata": {
        "id": "HZE02STCIZPV"
      },
      "execution_count": null,
      "outputs": []
    },
    {
      "cell_type": "markdown",
      "source": [
        "# Loading"
      ],
      "metadata": {
        "id": "t0GTl5GWI-Ke"
      }
    },
    {
      "cell_type": "code",
      "source": [
        "state_dict=torch.load('/content/mymodel.pth')"
      ],
      "metadata": {
        "id": "QToVGsUIIwh0"
      },
      "execution_count": null,
      "outputs": []
    },
    {
      "cell_type": "code",
      "source": [
        "state_dict"
      ],
      "metadata": {
        "colab": {
          "base_uri": "https://localhost:8080/"
        },
        "id": "xOGTc_WMJHdd",
        "outputId": "9ba9b1fb-e18a-44b9-9cbd-0e32482e2f14"
      },
      "execution_count": null,
      "outputs": [
        {
          "output_type": "execute_result",
          "data": {
            "text/plain": [
              "OrderedDict([('0.weight',\n",
              "              tensor([[ 0.3491,  0.4905],\n",
              "                      [-0.5462,  0.2796],\n",
              "                      [-0.3789, -0.1533],\n",
              "                      [ 0.6041, -0.0533],\n",
              "                      [ 0.0538, -0.2984],\n",
              "                      [ 0.8278, -0.0200],\n",
              "                      [ 0.7923,  0.6921],\n",
              "                      [ 0.0929, -0.2352]])),\n",
              "             ('0.bias',\n",
              "              tensor([-0.4028,  0.0316,  0.3412,  0.4687, -0.1585,  0.0903, -0.4724,  0.4213])),\n",
              "             ('2.weight',\n",
              "              tensor([[ 0.2768, -0.3513, -0.1798,  0.4906, -0.2587,  0.4463,  0.8393,  0.0588]])),\n",
              "             ('2.bias', tensor([0.0017]))])"
            ]
          },
          "metadata": {},
          "execution_count": 28
        }
      ]
    },
    {
      "cell_type": "code",
      "source": [
        "model.load_state_dict(state_dict)\n"
      ],
      "metadata": {
        "colab": {
          "base_uri": "https://localhost:8080/"
        },
        "id": "nYPLFGfiJIt4",
        "outputId": "8d4cbb83-2df5-405c-99f3-71be26cb1533"
      },
      "execution_count": null,
      "outputs": [
        {
          "output_type": "execute_result",
          "data": {
            "text/plain": [
              "<All keys matched successfully>"
            ]
          },
          "metadata": {},
          "execution_count": 29
        }
      ]
    },
    {
      "cell_type": "code",
      "source": [],
      "metadata": {
        "id": "hr5p5L7SJM06"
      },
      "execution_count": null,
      "outputs": []
    }
  ]
}