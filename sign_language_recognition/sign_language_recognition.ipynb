{
 "cells": [
  {
   "cell_type": "code",
   "execution_count": 1,
   "id": "e52ea353",
   "metadata": {
    "execution": {
     "iopub.execute_input": "2024-09-20T19:35:07.802230Z",
     "iopub.status.busy": "2024-09-20T19:35:07.801885Z",
     "iopub.status.idle": "2024-09-20T19:35:12.948605Z",
     "shell.execute_reply": "2024-09-20T19:35:12.947547Z"
    },
    "papermill": {
     "duration": 5.155695,
     "end_time": "2024-09-20T19:35:12.951310",
     "exception": false,
     "start_time": "2024-09-20T19:35:07.795615",
     "status": "completed"
    },
    "tags": []
   },
   "outputs": [],
   "source": [
    "import os\n",
    "import torch\n",
    "from torch import nn, optim\n",
    "from torch.utils.data import DataLoader\n",
    "from torchvision import datasets, transforms, models\n",
    "import torch.optim as optim\n",
    "from torch.utils.data import random_split\n",
    "\n",
    "device = torch.device('cuda' if torch.cuda.is_available() else 'cpu')"
   ]
  },
  {
   "cell_type": "code",
   "execution_count": 2,
   "id": "a4bee9f9",
   "metadata": {
    "execution": {
     "iopub.execute_input": "2024-09-20T19:35:12.962511Z",
     "iopub.status.busy": "2024-09-20T19:35:12.961851Z",
     "iopub.status.idle": "2024-09-20T19:35:12.968956Z",
     "shell.execute_reply": "2024-09-20T19:35:12.967943Z"
    },
    "papermill": {
     "duration": 0.014613,
     "end_time": "2024-09-20T19:35:12.970975",
     "exception": false,
     "start_time": "2024-09-20T19:35:12.956362",
     "status": "completed"
    },
    "tags": []
   },
   "outputs": [
    {
     "data": {
      "text/plain": [
       "device(type='cuda')"
      ]
     },
     "execution_count": 2,
     "metadata": {},
     "output_type": "execute_result"
    }
   ],
   "source": [
    "device"
   ]
  },
  {
   "cell_type": "code",
   "execution_count": 3,
   "id": "27c71494",
   "metadata": {
    "execution": {
     "iopub.execute_input": "2024-09-20T19:35:12.981764Z",
     "iopub.status.busy": "2024-09-20T19:35:12.981396Z",
     "iopub.status.idle": "2024-09-20T19:35:12.988465Z",
     "shell.execute_reply": "2024-09-20T19:35:12.987537Z"
    },
    "papermill": {
     "duration": 0.015031,
     "end_time": "2024-09-20T19:35:12.990682",
     "exception": false,
     "start_time": "2024-09-20T19:35:12.975651",
     "status": "completed"
    },
    "tags": []
   },
   "outputs": [],
   "source": [
    "\n",
    "# Define dataset path\n",
    "data_dir = '/kaggle/input/sign-language-detection-using-images/data'\n",
    "\n",
    "# Define transformations for training and validation\n",
    "train_transforms = transforms.Compose([\n",
    "    transforms.Resize((224, 224)),\n",
    "    transforms.RandomHorizontalFlip(),\n",
    "    transforms.RandomRotation(10),\n",
    "    transforms.ToTensor(),\n",
    "    transforms.Normalize([0.485, 0.456, 0.406], [0.229, 0.224, 0.225])\n",
    "])\n",
    "\n",
    "val_transforms = transforms.Compose([\n",
    "    transforms.Resize((224, 224)),\n",
    "    transforms.ToTensor(),\n",
    "    transforms.Normalize([0.485, 0.456, 0.406], [0.229, 0.224, 0.225])\n",
    "])"
   ]
  },
  {
   "cell_type": "code",
   "execution_count": 4,
   "id": "eb88741a",
   "metadata": {
    "execution": {
     "iopub.execute_input": "2024-09-20T19:35:13.001774Z",
     "iopub.status.busy": "2024-09-20T19:35:13.000853Z",
     "iopub.status.idle": "2024-09-20T19:35:29.923472Z",
     "shell.execute_reply": "2024-09-20T19:35:29.922614Z"
    },
    "papermill": {
     "duration": 16.930683,
     "end_time": "2024-09-20T19:35:29.925970",
     "exception": false,
     "start_time": "2024-09-20T19:35:12.995287",
     "status": "completed"
    },
    "tags": []
   },
   "outputs": [],
   "source": [
    "dataset = datasets.ImageFolder(data_dir, transform=train_transforms)\n"
   ]
  },
  {
   "cell_type": "code",
   "execution_count": 5,
   "id": "af4386b5",
   "metadata": {
    "execution": {
     "iopub.execute_input": "2024-09-20T19:35:29.938019Z",
     "iopub.status.busy": "2024-09-20T19:35:29.937656Z",
     "iopub.status.idle": "2024-09-20T19:35:29.943286Z",
     "shell.execute_reply": "2024-09-20T19:35:29.942433Z"
    },
    "papermill": {
     "duration": 0.01486,
     "end_time": "2024-09-20T19:35:29.945716",
     "exception": false,
     "start_time": "2024-09-20T19:35:29.930856",
     "status": "completed"
    },
    "tags": []
   },
   "outputs": [
    {
     "name": "stdout",
     "output_type": "stream",
     "text": [
      "Number of classes: 35\n",
      "Class names: ['1', '2', '3', '4', '5', '6', '7', '8', '9', 'A', 'B', 'C', 'D', 'E', 'F', 'G', 'H', 'I', 'J', 'K', 'L', 'M', 'N', 'O', 'P', 'Q', 'R', 'S', 'T', 'U', 'V', 'W', 'X', 'Y', 'Z']\n"
     ]
    }
   ],
   "source": [
    "num_classes = len(dataset.classes)\n",
    "print(f\"Number of classes: {num_classes}\")\n",
    " \n",
    "class_names = dataset.classes\n",
    "print(f\"Class names: {class_names}\")\n"
   ]
  },
  {
   "cell_type": "code",
   "execution_count": 6,
   "id": "5adaa6d4",
   "metadata": {
    "execution": {
     "iopub.execute_input": "2024-09-20T19:35:29.956526Z",
     "iopub.status.busy": "2024-09-20T19:35:29.956191Z",
     "iopub.status.idle": "2024-09-20T19:35:29.960697Z",
     "shell.execute_reply": "2024-09-20T19:35:29.959851Z"
    },
    "papermill": {
     "duration": 0.012255,
     "end_time": "2024-09-20T19:35:29.962703",
     "exception": false,
     "start_time": "2024-09-20T19:35:29.950448",
     "status": "completed"
    },
    "tags": []
   },
   "outputs": [],
   "source": [
    "train_size = int(0.8 * len(dataset))\n",
    "val_size = len(dataset) - train_size"
   ]
  },
  {
   "cell_type": "code",
   "execution_count": 7,
   "id": "4ded9a77",
   "metadata": {
    "execution": {
     "iopub.execute_input": "2024-09-20T19:35:29.973570Z",
     "iopub.status.busy": "2024-09-20T19:35:29.973022Z",
     "iopub.status.idle": "2024-09-20T19:35:30.004907Z",
     "shell.execute_reply": "2024-09-20T19:35:30.003881Z"
    },
    "papermill": {
     "duration": 0.039962,
     "end_time": "2024-09-20T19:35:30.007455",
     "exception": false,
     "start_time": "2024-09-20T19:35:29.967493",
     "status": "completed"
    },
    "tags": []
   },
   "outputs": [],
   "source": [
    "train_dataset, val_dataset = random_split(dataset, [train_size, val_size])\n"
   ]
  },
  {
   "cell_type": "code",
   "execution_count": 8,
   "id": "c5b22dd2",
   "metadata": {
    "execution": {
     "iopub.execute_input": "2024-09-20T19:35:30.021059Z",
     "iopub.status.busy": "2024-09-20T19:35:30.020093Z",
     "iopub.status.idle": "2024-09-20T19:35:30.026791Z",
     "shell.execute_reply": "2024-09-20T19:35:30.025521Z"
    },
    "papermill": {
     "duration": 0.015508,
     "end_time": "2024-09-20T19:35:30.028719",
     "exception": false,
     "start_time": "2024-09-20T19:35:30.013211",
     "status": "completed"
    },
    "tags": []
   },
   "outputs": [
    {
     "name": "stdout",
     "output_type": "stream",
     "text": [
      "Train set size: 33600\n",
      "Validation set size: 8400\n"
     ]
    }
   ],
   "source": [
    "train_loader = DataLoader(train_dataset, batch_size=32, shuffle=True)\n",
    "val_loader = DataLoader(val_dataset, batch_size=32, shuffle=False)\n",
    "\n",
    "# Check sizes of train and validation datasets\n",
    "print(f\"Train set size: {len(train_dataset)}\")\n",
    "print(f\"Validation set size: {len(val_dataset)}\")"
   ]
  },
  {
   "cell_type": "code",
   "execution_count": 9,
   "id": "8b94c776",
   "metadata": {
    "execution": {
     "iopub.execute_input": "2024-09-20T19:35:30.039833Z",
     "iopub.status.busy": "2024-09-20T19:35:30.039387Z",
     "iopub.status.idle": "2024-09-20T19:35:31.395984Z",
     "shell.execute_reply": "2024-09-20T19:35:31.394987Z"
    },
    "papermill": {
     "duration": 1.365325,
     "end_time": "2024-09-20T19:35:31.398659",
     "exception": false,
     "start_time": "2024-09-20T19:35:30.033334",
     "status": "completed"
    },
    "tags": []
   },
   "outputs": [
    {
     "name": "stderr",
     "output_type": "stream",
     "text": [
      "/opt/conda/lib/python3.10/site-packages/torchvision/models/_utils.py:208: UserWarning: The parameter 'pretrained' is deprecated since 0.13 and may be removed in the future, please use 'weights' instead.\n",
      "  warnings.warn(\n",
      "/opt/conda/lib/python3.10/site-packages/torchvision/models/_utils.py:223: UserWarning: Arguments other than a weight enum or `None` for 'weights' are deprecated since 0.13 and may be removed in the future. The current behavior is equivalent to passing `weights=ResNet50_Weights.IMAGENET1K_V1`. You can also use `weights=ResNet50_Weights.DEFAULT` to get the most up-to-date weights.\n",
      "  warnings.warn(msg)\n",
      "Downloading: \"https://download.pytorch.org/models/resnet50-0676ba61.pth\" to /root/.cache/torch/hub/checkpoints/resnet50-0676ba61.pth\n",
      "100%|██████████| 97.8M/97.8M [00:00<00:00, 150MB/s]\n"
     ]
    }
   ],
   "source": [
    "# Load the pre-trained ResNet50 model\n",
    "model = models.resnet50(pretrained=True)\n",
    "\n",
    "# Freeze the parameters of the pre-trained model (optional)\n",
    "for param in model.parameters():\n",
    "    param.requires_grad = False"
   ]
  },
  {
   "cell_type": "code",
   "execution_count": 10,
   "id": "c7d3817d",
   "metadata": {
    "execution": {
     "iopub.execute_input": "2024-09-20T19:35:31.412120Z",
     "iopub.status.busy": "2024-09-20T19:35:31.411816Z",
     "iopub.status.idle": "2024-09-20T19:35:31.418176Z",
     "shell.execute_reply": "2024-09-20T19:35:31.417291Z"
    },
    "papermill": {
     "duration": 0.015548,
     "end_time": "2024-09-20T19:35:31.420383",
     "exception": false,
     "start_time": "2024-09-20T19:35:31.404835",
     "status": "completed"
    },
    "tags": []
   },
   "outputs": [],
   "source": [
    "num_classes = 35\n",
    "in_features = model.fc.in_features\n",
    "model.fc = nn.Linear(in_features, num_classes)"
   ]
  },
  {
   "cell_type": "code",
   "execution_count": 11,
   "id": "e44a27c5",
   "metadata": {
    "execution": {
     "iopub.execute_input": "2024-09-20T19:35:31.435500Z",
     "iopub.status.busy": "2024-09-20T19:35:31.435135Z",
     "iopub.status.idle": "2024-09-20T19:35:31.678122Z",
     "shell.execute_reply": "2024-09-20T19:35:31.676994Z"
    },
    "papermill": {
     "duration": 0.25335,
     "end_time": "2024-09-20T19:35:31.680624",
     "exception": false,
     "start_time": "2024-09-20T19:35:31.427274",
     "status": "completed"
    },
    "tags": []
   },
   "outputs": [],
   "source": [
    "model = model.to(device)\n",
    "criterion = nn.CrossEntropyLoss()\n",
    "optimizer = optim.Adam(model.fc.parameters(), lr=0.001)"
   ]
  },
  {
   "cell_type": "code",
   "execution_count": 12,
   "id": "45bb493a",
   "metadata": {
    "execution": {
     "iopub.execute_input": "2024-09-20T19:35:31.693946Z",
     "iopub.status.busy": "2024-09-20T19:35:31.693200Z",
     "iopub.status.idle": "2024-09-20T20:20:02.419834Z",
     "shell.execute_reply": "2024-09-20T20:20:02.418527Z"
    },
    "papermill": {
     "duration": 2671.638537,
     "end_time": "2024-09-20T20:20:03.325059",
     "exception": false,
     "start_time": "2024-09-20T19:35:31.686522",
     "status": "completed"
    },
    "tags": []
   },
   "outputs": [
    {
     "name": "stdout",
     "output_type": "stream",
     "text": [
      "Epoch [1/10], Batch [1050/1050], Batch Loss: 0.0085\n",
      "Epoch 1/10, Loss: 0.1718, Accuracy: 97.92%\n",
      "Validation Loss: 0.0065, Validation Accuracy: 100.00%\n",
      "Model saved with accuracy: 100.00%\n",
      "Epoch [2/10], Batch [1050/1050], Batch Loss: 0.0015\n",
      "Epoch 2/10, Loss: 0.0063, Accuracy: 100.00%\n",
      "Validation Loss: 0.0023, Validation Accuracy: 100.00%\n",
      "Epoch [3/10], Batch [1050/1050], Batch Loss: 0.0020\n",
      "Epoch 3/10, Loss: 0.0025, Accuracy: 99.99%\n",
      "Validation Loss: 0.0020, Validation Accuracy: 99.99%\n",
      "Epoch [4/10], Batch [1050/1050], Batch Loss: 0.0004\n",
      "Epoch 4/10, Loss: 0.0015, Accuracy: 100.00%\n",
      "Validation Loss: 0.0004, Validation Accuracy: 100.00%\n",
      "Epoch [5/10], Batch [1050/1050], Batch Loss: 0.0004\n",
      "Epoch 5/10, Loss: 0.0017, Accuracy: 99.97%\n",
      "Validation Loss: 0.0004, Validation Accuracy: 100.00%\n",
      "Epoch [6/10], Batch [1050/1050], Batch Loss: 0.0007\n",
      "Epoch 6/10, Loss: 0.0023, Accuracy: 99.93%\n",
      "Validation Loss: 0.0129, Validation Accuracy: 99.48%\n",
      "Epoch [7/10], Batch [1050/1050], Batch Loss: 0.0001\n",
      "Epoch 7/10, Loss: 0.0022, Accuracy: 99.93%\n",
      "Validation Loss: 0.0000, Validation Accuracy: 100.00%\n",
      "Epoch [8/10], Batch [1050/1050], Batch Loss: 0.0000\n",
      "Epoch 8/10, Loss: 0.0004, Accuracy: 99.99%\n",
      "Validation Loss: 0.0000, Validation Accuracy: 100.00%\n",
      "Epoch [9/10], Batch [1050/1050], Batch Loss: 0.0000\n",
      "Epoch 9/10, Loss: 0.0008, Accuracy: 99.98%\n",
      "Validation Loss: 0.0001, Validation Accuracy: 100.00%\n",
      "Epoch [10/10], Batch [1050/1050], Batch Loss: 0.0001\n",
      "Epoch 10/10, Loss: 0.0003, Accuracy: 99.99%\n",
      "Validation Loss: 0.0000, Validation Accuracy: 100.00%\n"
     ]
    }
   ],
   "source": [
    "import sys\n",
    "\n",
    "# Training loop\n",
    "epochs = 10\n",
    "best_accuracy = 0.0\n",
    "\n",
    "for epoch in range(epochs):\n",
    "    model.train()\n",
    "    running_loss = 0.0\n",
    "    correct = 0\n",
    "    total = 0\n",
    "    \n",
    "    # Training\n",
    "    for batch_idx, (images, labels) in enumerate(train_loader):\n",
    "        images, labels = images.to(device), labels.to(device)\n",
    "        \n",
    "        optimizer.zero_grad()\n",
    "        outputs = model(images)\n",
    "        loss = criterion(outputs, labels)\n",
    "        loss.backward()\n",
    "        optimizer.step()\n",
    "        \n",
    "        running_loss += loss.item() * images.size(0)\n",
    "        _, predicted = torch.max(outputs, 1)\n",
    "        total += labels.size(0)\n",
    "        correct += (predicted == labels).sum().item()\n",
    "\n",
    "        # Print batch loss in the same line\n",
    "        print(f'\\rEpoch [{epoch+1}/{epochs}], Batch [{batch_idx+1}/{len(train_loader)}], Batch Loss: {loss.item():.4f}', end='')\n",
    "        sys.stdout.flush()\n",
    "    \n",
    "    epoch_loss = running_loss / len(train_loader.dataset)\n",
    "    epoch_acc = 100 * correct / total\n",
    "\n",
    "    # Print epoch loss and accuracy\n",
    "    print(f'\\nEpoch {epoch+1}/{epochs}, Loss: {epoch_loss:.4f}, Accuracy: {epoch_acc:.2f}%')\n",
    "\n",
    "    # Validation\n",
    "    model.eval()\n",
    "    val_loss = 0.0\n",
    "    val_correct = 0\n",
    "    val_total = 0\n",
    "    \n",
    "    with torch.no_grad():\n",
    "        for images, labels in val_loader:\n",
    "            images, labels = images.to(device), labels.to(device)\n",
    "            outputs = model(images)\n",
    "            loss = criterion(outputs, labels)\n",
    "            val_loss += loss.item() * images.size(0)\n",
    "            _, predicted = torch.max(outputs, 1)\n",
    "            val_total += labels.size(0)\n",
    "            val_correct += (predicted == labels).sum().item()\n",
    "\n",
    "    val_loss /= len(val_loader.dataset)\n",
    "    val_acc = 100 * val_correct / val_total\n",
    "    print(f'Validation Loss: {val_loss:.4f}, Validation Accuracy: {val_acc:.2f}%')\n",
    "\n",
    "    # Save the model with the best accuracy\n",
    "    if val_acc > best_accuracy:\n",
    "        best_accuracy = val_acc\n",
    "        torch.save(model.state_dict(), 'best_resnet50_sign_language.pth')\n",
    "        print(f\"Model saved with accuracy: {best_accuracy:.2f}%\")\n"
   ]
  },
  {
   "cell_type": "code",
   "execution_count": null,
   "id": "e43ff50e",
   "metadata": {
    "papermill": {
     "duration": 0.880247,
     "end_time": "2024-09-20T20:20:05.139399",
     "exception": false,
     "start_time": "2024-09-20T20:20:04.259152",
     "status": "completed"
    },
    "tags": []
   },
   "outputs": [],
   "source": []
  }
 ],
 "metadata": {
  "kaggle": {
   "accelerator": "nvidiaTeslaT4",
   "dataSources": [
    {
     "datasetId": 5494158,
     "sourceId": 9103414,
     "sourceType": "datasetVersion"
    }
   ],
   "dockerImageVersionId": 30762,
   "isGpuEnabled": true,
   "isInternetEnabled": true,
   "language": "python",
   "sourceType": "notebook"
  },
  "kernelspec": {
   "display_name": "Python 3",
   "language": "python",
   "name": "python3"
  },
  "language_info": {
   "codemirror_mode": {
    "name": "ipython",
    "version": 3
   },
   "file_extension": ".py",
   "mimetype": "text/x-python",
   "name": "python",
   "nbconvert_exporter": "python",
   "pygments_lexer": "ipython3",
   "version": "3.10.14"
  },
  "papermill": {
   "default_parameters": {},
   "duration": 2702.448804,
   "end_time": "2024-09-20T20:20:07.388192",
   "environment_variables": {},
   "exception": null,
   "input_path": "__notebook__.ipynb",
   "output_path": "__notebook__.ipynb",
   "parameters": {},
   "start_time": "2024-09-20T19:35:04.939388",
   "version": "2.6.0"
  }
 },
 "nbformat": 4,
 "nbformat_minor": 5
}
